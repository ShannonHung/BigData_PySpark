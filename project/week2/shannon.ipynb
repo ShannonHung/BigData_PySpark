{
 "cells": [
  {
   "cell_type": "markdown",
   "metadata": {},
   "source": [
    "# Reference \n",
    "For better understanding of the code, please refer to the following code: \n",
    "- `./Lab/Code/practice/RFM-Koggle.ipynb`"
   ]
  },
  {
   "cell_type": "code",
   "execution_count": 1,
   "metadata": {},
   "outputs": [],
   "source": [
    "import os \n",
    "import findspark \n",
    "findspark.init()\n",
    "\n",
    "# for sql\n",
    "from pyspark.sql import SparkSession \n",
    "from pyspark.sql.functions import col\n",
    "from pyspark.sql.functions import col, max as spark_max, count, sum as spark_sum, datediff, lit, min as spark_min\n",
    "from pyspark.sql.types import IntegerType\n",
    "\n",
    "# for time \n",
    "import time \n"
   ]
  },
  {
   "cell_type": "code",
   "execution_count": 2,
   "metadata": {},
   "outputs": [
    {
     "name": "stderr",
     "output_type": "stream",
     "text": [
      "Setting default log level to \"WARN\".\n",
      "To adjust logging level use sc.setLogLevel(newLevel). For SparkR, use setLogLevel(newLevel).\n",
      "23/11/29 01:01:28 WARN NativeCodeLoader: Unable to load native-hadoop library for your platform... using builtin-java classes where applicable\n"
     ]
    }
   ],
   "source": [
    "# 可以改成 *.csv \n",
    "root = '../../../Data/eCommerce-behavior-data/*.csv'\n",
    "spark = SparkSession.builder.appName('eCommerce').getOrCreate()"
   ]
  },
  {
   "cell_type": "code",
   "execution_count": 3,
   "metadata": {},
   "outputs": [
    {
     "name": "stderr",
     "output_type": "stream",
     "text": [
      "                                                                                \r"
     ]
    }
   ],
   "source": [
    "\n",
    "ecommerce = spark.read\\\n",
    "    .option(\"inferSchema\", \"true\")\\\n",
    "    .option(\"header\", \"true\")\\\n",
    "    .csv(root)"
   ]
  },
  {
   "cell_type": "code",
   "execution_count": 4,
   "metadata": {},
   "outputs": [],
   "source": [
    "ecommerce.createOrReplaceTempView('ecommerce_2019_oct')"
   ]
  },
  {
   "cell_type": "code",
   "execution_count": 5,
   "metadata": {},
   "outputs": [
    {
     "name": "stdout",
     "output_type": "stream",
     "text": [
      "root\n",
      " |-- event_time: timestamp (nullable = true)\n",
      " |-- event_type: string (nullable = true)\n",
      " |-- product_id: integer (nullable = true)\n",
      " |-- category_id: long (nullable = true)\n",
      " |-- category_code: string (nullable = true)\n",
      " |-- brand: string (nullable = true)\n",
      " |-- price: double (nullable = true)\n",
      " |-- user_id: integer (nullable = true)\n",
      " |-- user_session: string (nullable = true)\n",
      "\n"
     ]
    }
   ],
   "source": [
    "ecommerce.printSchema()"
   ]
  },
  {
   "cell_type": "code",
   "execution_count": 6,
   "metadata": {},
   "outputs": [
    {
     "name": "stdout",
     "output_type": "stream",
     "text": [
      "+-------------------+----------+----------+-------------------+--------------------+------+------+---------+--------------------+\n",
      "|         event_time|event_type|product_id|        category_id|       category_code| brand| price|  user_id|        user_session|\n",
      "+-------------------+----------+----------+-------------------+--------------------+------+------+---------+--------------------+\n",
      "|2019-11-01 01:00:00|      view|   1003461|2053013555631882655|electronics.smart...|xiaomi|489.07|520088904|4d3b30da-a5e4-49d...|\n",
      "|2019-11-01 01:00:00|      view|   5000088|2053013566100866035|appliances.sewing...|janome|293.65|530496790|8e5f4f83-366c-4f7...|\n",
      "|2019-11-01 01:00:01|      view|  17302664|2053013553853497655|                NULL| creed| 28.31|561587266|755422e7-9040-477...|\n",
      "|2019-11-01 01:00:01|      view|   3601530|2053013563810775923|appliances.kitche...|    lg|712.87|518085591|3bfb58cd-7892-48c...|\n",
      "|2019-11-01 01:00:01|      view|   1004775|2053013555631882655|electronics.smart...|xiaomi|183.27|558856683|313628f1-68b8-460...|\n",
      "+-------------------+----------+----------+-------------------+--------------------+------+------+---------+--------------------+\n",
      "only showing top 5 rows\n",
      "\n"
     ]
    }
   ],
   "source": [
    "ecommerce.show(5)"
   ]
  },
  {
   "cell_type": "markdown",
   "metadata": {},
   "source": [
    "## Only Select Purchase Columns"
   ]
  },
  {
   "cell_type": "code",
   "execution_count": 7,
   "metadata": {},
   "outputs": [
    {
     "name": "stdout",
     "output_type": "stream",
     "text": [
      "+-------------------+----------+----------+-------------------+--------------------+-------+------+---------+--------------------+\n",
      "|         event_time|event_type|product_id|        category_id|       category_code|  brand| price|  user_id|        user_session|\n",
      "+-------------------+----------+----------+-------------------+--------------------+-------+------+---------+--------------------+\n",
      "|2019-11-01 01:00:41|  purchase|  13200605|2053013557192163841|furniture.bedroom...|   NULL| 566.3|559368633|d6034fa2-41fb-4ac...|\n",
      "|2019-11-01 01:01:04|  purchase|   1005161|2053013555631882655|electronics.smart...| xiaomi|211.92|513351129|e6b7ce9b-1938-4e2...|\n",
      "|2019-11-01 01:04:51|  purchase|   1004856|2053013555631882655|electronics.smart...|samsung|128.42|562958505|0f039697-fedc-40f...|\n",
      "|2019-11-01 01:05:34|  purchase|  26401669|2053013563651392361|                NULL|lucente|109.66|541854711|c41c44d5-ef9b-41b...|\n",
      "|2019-11-01 01:06:33|  purchase|   1801881|2053013554415534427|electronics.video.tv|samsung| 488.8|557746614|4d76d6d3-fff5-488...|\n",
      "+-------------------+----------+----------+-------------------+--------------------+-------+------+---------+--------------------+\n",
      "only showing top 5 rows\n",
      "\n"
     ]
    }
   ],
   "source": [
    "ecommerce = ecommerce.filter(col(\"event_type\") == \"purchase\")\n",
    "ecommerce.show(5)"
   ]
  },
  {
   "cell_type": "markdown",
   "metadata": {},
   "source": [
    "## Aggregate user_session\n",
    "- the user may has made multiple purchases in the same session."
   ]
  },
  {
   "cell_type": "code",
   "execution_count": 8,
   "metadata": {},
   "outputs": [
    {
     "name": "stderr",
     "output_type": "stream",
     "text": [
      "[Stage 4:=====================================================> (107 + 3) / 110]\r"
     ]
    },
    {
     "name": "stdout",
     "output_type": "stream",
     "text": [
      "+--------------------+-------------------+---------+-----------+------+\n",
      "|        user_session|         Date_order|  user_id|order_count| price|\n",
      "+--------------------+-------------------+---------+-----------+------+\n",
      "|8693715b-2f32-462...|2019-11-01 02:42:46|558439221|          1|  66.9|\n",
      "|ad3086a0-22ad-4da...|2019-11-01 02:53:29|521374214|          1|185.85|\n",
      "|5b0a2af3-293f-4bd...|2019-11-01 03:16:26|547622783|          1|206.96|\n",
      "|3e5e22a7-ffd8-402...|2019-11-01 04:13:37|516883277|          1|230.93|\n",
      "|279f59b0-d73f-445...|2019-11-01 04:38:18|561621729|          1|458.28|\n",
      "+--------------------+-------------------+---------+-----------+------+\n",
      "only showing top 5 rows\n",
      "\n"
     ]
    },
    {
     "name": "stderr",
     "output_type": "stream",
     "text": [
      "                                                                                \r"
     ]
    }
   ],
   "source": [
    "result = ecommerce.groupBy('user_session').agg(\n",
    "    spark_max('event_time').alias('Date_order'),  # alias is rename function\n",
    "    spark_max('user_id').alias('user_id'), \n",
    "    count('user_session').alias('order_count'), \n",
    "    spark_sum('price').alias('price')  \n",
    ")\n",
    "result.show(5)"
   ]
  },
  {
   "cell_type": "markdown",
   "metadata": {},
   "source": [
    "# **RFM Analysis**\n",
    "RFM is a method used for analyzing customer value. It is commonly used in database marketing and direct marketing and has received particular attention in retail and professional services industries.\n",
    "\n",
    "RFM stands for the three dimensions:\n",
    "\n",
    "* Recency – How recently did the customer purchase?\n",
    "* Frequency – How often do they purchase?\n",
    "* Monetary Value – How much do they spend?\n",
    "\n",
    "source: [wikipedia](https://en.wikipedia.org/wiki/RFM_(market_research))\n",
    "\n",
    "so we will make that 3 attribute Recency, Frequency, and Monetary"
   ]
  },
  {
   "cell_type": "code",
   "execution_count": 9,
   "metadata": {},
   "outputs": [
    {
     "name": "stderr",
     "output_type": "stream",
     "text": [
      "[Stage 7:======================================================>(109 + 1) / 110]\r"
     ]
    },
    {
     "name": "stdout",
     "output_type": "stream",
     "text": [
      "The latest date: 2019-12-01 00:59:44\n"
     ]
    },
    {
     "name": "stderr",
     "output_type": "stream",
     "text": [
      "                                                                                \r"
     ]
    }
   ],
   "source": [
    "max_date = result.agg(spark_max('Date_order')).collect()[0][0]\n",
    "print(\"The latest date:\", max_date)"
   ]
  },
  {
   "cell_type": "markdown",
   "metadata": {},
   "source": [
    "The last date we have is 2019-12-01 so we will use date 2019-12-2 as reference"
   ]
  },
  {
   "cell_type": "code",
   "execution_count": 10,
   "metadata": {},
   "outputs": [
    {
     "name": "stderr",
     "output_type": "stream",
     "text": [
      "[Stage 13:==================================================>   (103 + 7) / 110]\r"
     ]
    },
    {
     "name": "stdout",
     "output_type": "stream",
     "text": [
      "+--------------------+-------------------+---------+-----------+------+-------------+\n",
      "|        user_session|         Date_order|  user_id|order_count| price|last_purchase|\n",
      "+--------------------+-------------------+---------+-----------+------+-------------+\n",
      "|8693715b-2f32-462...|2019-11-01 02:42:46|558439221|          1|  66.9|           31|\n",
      "|ad3086a0-22ad-4da...|2019-11-01 02:53:29|521374214|          1|185.85|           31|\n",
      "|5b0a2af3-293f-4bd...|2019-11-01 03:16:26|547622783|          1|206.96|           31|\n",
      "|3e5e22a7-ffd8-402...|2019-11-01 04:13:37|516883277|          1|230.93|           31|\n",
      "|279f59b0-d73f-445...|2019-11-01 04:38:18|561621729|          1|458.28|           31|\n",
      "+--------------------+-------------------+---------+-----------+------+-------------+\n",
      "only showing top 5 rows\n",
      "\n"
     ]
    },
    {
     "name": "stderr",
     "output_type": "stream",
     "text": [
      "                                                                                \r"
     ]
    }
   ],
   "source": [
    "study_date = '2019-12-02'\n",
    "\n",
    "# prepare data for calculating the recency \n",
    "result = result.withColumn('last_purchase', datediff(lit(study_date), col('Date_order')))\n",
    "\n",
    "# show the result\n",
    "result.show(5)"
   ]
  },
  {
   "cell_type": "code",
   "execution_count": 12,
   "metadata": {},
   "outputs": [
    {
     "name": "stderr",
     "output_type": "stream",
     "text": [
      "[Stage 16:====================================================> (106 + 4) / 110]\r"
     ]
    },
    {
     "name": "stdout",
     "output_type": "stream",
     "text": [
      "+---------+-------+---------+------------------+\n",
      "|  user_id|Recency|Frequency|          Monetary|\n",
      "+---------+-------+---------+------------------+\n",
      "|555200774|     31|        1|             84.38|\n",
      "|565415116|     15|        5|1717.3100000000002|\n",
      "|513689946|     31|        1|             85.87|\n",
      "|512755684|     31|        3|            348.76|\n",
      "|514118467|     31|        3|            336.95|\n",
      "|562104717|     31|        5|            1127.5|\n",
      "|512867322|     26|       14|12368.779999999999|\n",
      "|546129282|      4|        5|           4934.68|\n",
      "|530628095|     31|        3|            446.22|\n",
      "|543043463|     31|        2|            367.76|\n",
      "+---------+-------+---------+------------------+\n",
      "only showing top 10 rows\n",
      "\n"
     ]
    },
    {
     "name": "stderr",
     "output_type": "stream",
     "text": [
      "                                                                                \r"
     ]
    }
   ],
   "source": [
    "# Calculate Recency、Frequency 和 Monetary\n",
    "RFM_result = result.groupBy('user_id').agg(\n",
    "    spark_min('last_purchase').alias('Recency'),\n",
    "    count('user_id').alias('Frequency'),\n",
    "    spark_sum('price').alias('Monetary')\n",
    ")\n",
    "\n",
    "# Show the result\n",
    "RFM_result.show(10)"
   ]
  },
  {
   "cell_type": "markdown",
   "metadata": {},
   "source": [
    "### About the warning. \n",
    "As indicated [here](https://stackoverflow.com/questions/41661849/spill-to-disk-and-shuffle-write-spark) this warning means that your RAM is full and that part of the RAM contents are moved to disk."
   ]
  },
  {
   "cell_type": "markdown",
   "metadata": {},
   "source": [
    "## Frequency "
   ]
  },
  {
   "cell_type": "code",
   "execution_count": 13,
   "metadata": {},
   "outputs": [
    {
     "name": "stderr",
     "output_type": "stream",
     "text": [
      "[Stage 24:==================================================>     (10 + 1) / 11]\r"
     ]
    },
    {
     "name": "stdout",
     "output_type": "stream",
     "text": [
      "+-------+------------------+\n",
      "|summary|         Frequency|\n",
      "+-------+------------------+\n",
      "|  count|            697470|\n",
      "|   mean|2.0112090842616888|\n",
      "| stddev| 2.979720130244585|\n",
      "|    min|                 1|\n",
      "|    max|               328|\n",
      "+-------+------------------+\n",
      "\n"
     ]
    },
    {
     "name": "stderr",
     "output_type": "stream",
     "text": [
      "                                                                                \r"
     ]
    }
   ],
   "source": [
    "RFM_result.describe('Frequency').show()"
   ]
  },
  {
   "cell_type": "markdown",
   "metadata": {},
   "source": [
    "## Recency"
   ]
  },
  {
   "cell_type": "code",
   "execution_count": 14,
   "metadata": {},
   "outputs": [
    {
     "name": "stderr",
     "output_type": "stream",
     "text": [
      "[Stage 32:==================================================>   (103 + 7) / 110]\r"
     ]
    },
    {
     "name": "stdout",
     "output_type": "stream",
     "text": [
      "+-------+------------------+\n",
      "|summary|           Recency|\n",
      "+-------+------------------+\n",
      "|  count|            697470|\n",
      "|   mean|26.546968328386885|\n",
      "| stddev| 17.20991564155434|\n",
      "|    min|                 1|\n",
      "|    max|                62|\n",
      "+-------+------------------+\n",
      "\n"
     ]
    },
    {
     "name": "stderr",
     "output_type": "stream",
     "text": [
      "                                                                                \r"
     ]
    }
   ],
   "source": [
    "RFM_result.describe('Recency').show()"
   ]
  },
  {
   "cell_type": "markdown",
   "metadata": {},
   "source": [
    "## Monetary"
   ]
  },
  {
   "cell_type": "code",
   "execution_count": 15,
   "metadata": {},
   "outputs": [
    {
     "name": "stderr",
     "output_type": "stream",
     "text": [
      "[Stage 44:==================================================>     (10 + 1) / 11]\r"
     ]
    },
    {
     "name": "stdout",
     "output_type": "stream",
     "text": [
      "+-------+-----------------+\n",
      "|summary|         Monetary|\n",
      "+-------+-----------------+\n",
      "|  count|           697470|\n",
      "|   mean|724.2639723142205|\n",
      "| stddev|2271.239864151195|\n",
      "|    min|             0.77|\n",
      "|    max|        344153.29|\n",
      "+-------+-----------------+\n",
      "\n"
     ]
    },
    {
     "name": "stderr",
     "output_type": "stream",
     "text": [
      "                                                                                \r"
     ]
    }
   ],
   "source": [
    "RFM_result.describe('Monetary').show()"
   ]
  }
 ],
 "metadata": {
  "kernelspec": {
   "display_name": "bigdata",
   "language": "python",
   "name": "python3"
  },
  "language_info": {
   "codemirror_mode": {
    "name": "ipython",
    "version": 3
   },
   "file_extension": ".py",
   "mimetype": "text/x-python",
   "name": "python",
   "nbconvert_exporter": "python",
   "pygments_lexer": "ipython3",
   "version": "3.12.0"
  }
 },
 "nbformat": 4,
 "nbformat_minor": 2
}
