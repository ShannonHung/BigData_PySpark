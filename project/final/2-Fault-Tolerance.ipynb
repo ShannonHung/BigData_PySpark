{
 "cells": [
  {
   "cell_type": "markdown",
   "metadata": {},
   "source": [
    "# Fault Tolerance \n",
    "試著回答以下問題：\n",
    "- How does the system behave under Node/CPU/Memory/Hardware/... errors and failures?\n",
    "- What happens during network interruptions and partitioning?\n",
    "- How do error handling mechanisms affect efficiency/scale/latency/throughput/... etc.? \n",
    "  - Are there any worst/best case considerations?\n",
    "\n",
    "在這裡我們要實現？\n",
    "- 砍掉一個 Java Thread 會發生什麼事情？\n",
    "  - 當執行窄依賴時\n",
    "  - 當執行寬依賴時\n",
    "  - 使用checkpoint \n",
    "- 砍掉一個 Node 會發生什麼事情？"
   ]
  },
  {
   "cell_type": "code",
   "execution_count": 1,
   "metadata": {},
   "outputs": [],
   "source": [
    "import findspark \n",
    "findspark.init()"
   ]
  },
  {
   "cell_type": "code",
   "execution_count": 2,
   "metadata": {},
   "outputs": [],
   "source": [
    "# for sql\n",
    "from pyspark.sql import SparkSession \n",
    "from pyspark.sql.functions import col\n",
    "from pyspark.sql.functions import sum,avg,max,count\n",
    "from pyspark.sql import functions as F\n"
   ]
  },
  {
   "cell_type": "code",
   "execution_count": 3,
   "metadata": {},
   "outputs": [
    {
     "name": "stderr",
     "output_type": "stream",
     "text": [
      "Setting default log level to \"WARN\".\n",
      "To adjust logging level use sc.setLogLevel(newLevel). For SparkR, use setLogLevel(newLevel).\n",
      "24/01/31 01:13:50 WARN NativeCodeLoader: Unable to load native-hadoop library for your platform... using builtin-java classes where applicable\n"
     ]
    }
   ],
   "source": [
    "import pyspark \n",
    "from pyspark.sql import SparkSession\n",
    "spark = SparkSession.builder.master(\"spark://192.168.0.5:7077\").appName(\"fault-tolerance2\").getOrCreate()"
   ]
  },
  {
   "cell_type": "code",
   "execution_count": 4,
   "metadata": {},
   "outputs": [
    {
     "name": "stderr",
     "output_type": "stream",
     "text": [
      "                                                                                \r"
     ]
    }
   ],
   "source": [
    "root = '../../../Data/eCommerce-behavior-data/2019-Oct.csv'\n",
    "# root = '../../data/only_purchases_1day.csv'\n",
    "ecommerce = spark.read\\\n",
    "    .option(\"inferSchema\", \"true\")\\\n",
    "    .option(\"header\", \"true\")\\\n",
    "    .csv(root)"
   ]
  },
  {
   "cell_type": "code",
   "execution_count": 5,
   "metadata": {},
   "outputs": [],
   "source": [
    "ecommerce.createOrReplaceTempView('ecommerce_2019_oct')"
   ]
  },
  {
   "cell_type": "markdown",
   "metadata": {},
   "source": [
    "## Executors\n",
    "![Image](https://i.imgur.com/SMo8Il7.png)\n",
    "Executors 為 4，分別為 Master、Worker1、Worker2、Worker3\n",
    "而每個Executors的有兩個Java thread，因此共有 8 個 Java process 在執行"
   ]
  },
  {
   "cell_type": "code",
   "execution_count": 8,
   "metadata": {},
   "outputs": [
    {
     "name": "stdout",
     "output_type": "stream",
     "text": [
      "Number of executors: 4\n"
     ]
    }
   ],
   "source": [
    "sc = spark.sparkContext\n",
    "# get the number of executors\n",
    "num_executors = sc._jsc.sc().getExecutorMemoryStatus().size()\n",
    "print(\"Number of executors:\", num_executors)\n"
   ]
  },
  {
   "cell_type": "markdown",
   "metadata": {},
   "source": [
    "## Partition \n",
    "因為機器的核心數量是10，因此我們的partition數量預設為10，但是當資料量大時，partition數量會增長約3倍。\n",
    "而3倍的原因是Spark官方與DataBricks建議partition數量為叢集中可用核心數的3~4倍為一個參考值"
   ]
  },
  {
   "cell_type": "code",
   "execution_count": 9,
   "metadata": {},
   "outputs": [
    {
     "name": "stdout",
     "output_type": "stream",
     "text": [
      "Number of partitions: 30\n"
     ]
    }
   ],
   "source": [
    "\n",
    "# get the number of partitions\n",
    "num_partitions = sc.defaultParallelism\n",
    "print(\"Number of partitions:\", num_partitions)"
   ]
  },
  {
   "cell_type": "markdown",
   "metadata": {},
   "source": [
    "## Skill Executor\n",
    "主要會先執行filter transformer，因為資料量大，因此會有多個partition執行。\n",
    "- Executor發生異常時，外部的包裝類別ExecutorRunner會*把異常訊息傳送給Worker*\n",
    "- 然後Worker會*傳訊息給Master*。 \n",
    "- Master 接收 Executor 狀態變更訊息後，如果發現 Executor 出現異常退出，則呼叫 Master.schedule 方法，*嘗試取得可用的 Worker 節點*並重新啟動 Executor。\n",
    "\n",
    "### Narrow Dependency\n",
    "在*窄依賴*的情況下，因為每個父RDD Partition依賴於特定的子RDD Partition，*重新計算時可以直接使用這個子RDD Partition的數據*，沒有Redundant Computation（冗餘計算）。\n",
    "\n",
    "我們透過filter來進行實驗：\n",
    "但是從Spark UI中可以看到以下程式，他會觸發兩個Job，第一個Job是執行filter，第二個Job是執行count。\n",
    "因為會先執行filter，並且將結果存入cache，因此第二個Job會skip掉讀取csv的步驟，直接從cache中讀取資料並且計算數量。\n",
    "可以從圖片中看到stage 5的部分skip了。Typically it means that data has been fetched from cache and there was no need to re-execute given stage.\n",
    "\n",
    "![Image](https://i.imgur.com/dyulBi4.png)"
   ]
  },
  {
   "cell_type": "code",
   "execution_count": 6,
   "metadata": {},
   "outputs": [
    {
     "name": "stderr",
     "output_type": "stream",
     "text": [
      "[Stage 2:========================================>               (31 + 12) / 43]\r"
     ]
    },
    {
     "name": "stdout",
     "output_type": "stream",
     "text": [
      "How many purchase session in one month: 742849\n"
     ]
    },
    {
     "name": "stderr",
     "output_type": "stream",
     "text": [
      "                                                                                \r"
     ]
    }
   ],
   "source": [
    "only_purchases = ecommerce.filter(col(\"event_type\") == 'purchase')\n",
    "print(\"How many purchase session in one month:\", only_purchases.count())"
   ]
  },
  {
   "cell_type": "markdown",
   "metadata": {},
   "source": [
    "> 當我在執行窄依賴時（Filter），故意將一個Executor的Java Process給強制停止，觀察Spark的行為：\n",
    "\n",
    "![Image](https://i.imgur.com/o8xf2hx.png)\n",
    "\n",
    "在以下程式碼中，我透過 Activity monitor 的其中一個Java Process，將其強制停止。\n",
    "從上一個步驟中，可以知道一個executor有兩個Java Process，因此我將其中一個Java Process停止，這會導致整個executor的工作停止\n",
    "他會做以下工作：\n",
    "1. 把某個Executor移除\n",
    "2. 將該Executor尚未完成的工作給分配到其他的Executor\n",
    "3. 最終結果保持與原本相同，數量都是1.659.788\n",
    "\n",
    "但是，worker node會因為java process的強制停止導致整個node dead。\n",
    "需要重新啟動worker node。"
   ]
  },
  {
   "cell_type": "code",
   "execution_count": 7,
   "metadata": {},
   "outputs": [
    {
     "name": "stderr",
     "output_type": "stream",
     "text": [
      "24/01/31 00:58:00 ERROR TaskSchedulerImpl: Lost executor 2 on 192.168.0.5: Command exited with code 143\n",
      "24/01/31 00:58:00 WARN TaskSetManager: Lost task 31.0 in stage 5.0 (TID 119) (192.168.0.5 executor 2): ExecutorLostFailure (executor 2 exited caused by one of the running tasks) Reason: Command exited with code 143\n",
      "24/01/31 00:58:00 WARN TaskSetManager: Lost task 39.0 in stage 5.0 (TID 127) (192.168.0.5 executor 2): ExecutorLostFailure (executor 2 exited caused by one of the running tasks) Reason: Command exited with code 143\n",
      "24/01/31 00:58:00 WARN TaskSetManager: Lost task 41.0 in stage 5.0 (TID 129) (192.168.0.5 executor 2): ExecutorLostFailure (executor 2 exited caused by one of the running tasks) Reason: Command exited with code 143\n",
      "24/01/31 00:58:00 WARN TaskSetManager: Lost task 38.0 in stage 5.0 (TID 126) (192.168.0.5 executor 2): ExecutorLostFailure (executor 2 exited caused by one of the running tasks) Reason: Command exited with code 143\n",
      "[Stage 5:>                                                        (0 + 20) / 20]\r"
     ]
    },
    {
     "name": "stdout",
     "output_type": "stream",
     "text": [
      "How many purchase session in one month: 742849\n"
     ]
    },
    {
     "name": "stderr",
     "output_type": "stream",
     "text": [
      "                                                                                \r"
     ]
    }
   ],
   "source": [
    "only_purchases = ecommerce.filter(col(\"event_type\") == 'purchase')\n",
    "print(\"How many purchase session in one month:\", only_purchases.count())"
   ]
  },
  {
   "cell_type": "markdown",
   "metadata": {},
   "source": [
    "### Wide Dependency\n",
    "- 在*寬依賴*的情況下，當丟失整一個子RDD Partition時，因為*多個父RDD Partition可能會依賴於這個子RDD Partition，因此Spark必須將與該子RDD相關的所有父RDD都重新計算*。\n",
    "  - 因此如果compute chain很長的寬依賴情況下，建議做一次Checkpoint或是cache來先做緩存，減少執行開銷。"
   ]
  },
  {
   "cell_type": "markdown",
   "metadata": {},
   "source": [
    "Not skilling executor"
   ]
  },
  {
   "cell_type": "code",
   "execution_count": 10,
   "metadata": {},
   "outputs": [
    {
     "name": "stderr",
     "output_type": "stream",
     "text": [
      "[Stage 7:=============================================>           (34 + 9) / 43]\r"
     ]
    },
    {
     "name": "stdout",
     "output_type": "stream",
     "text": [
      "+--------------------+-------------------+-----------+--------+------------------+\n",
      "|        user_session|         Date_order|    user_id|Quantity|       money_spent|\n",
      "+--------------------+-------------------+-----------+--------+------------------+\n",
      "|000081ea-9376-4eb...|2019-10-24 11:08:58|[513622224]|       1|            131.51|\n",
      "|000723e7-1ff9-484...|2019-10-05 15:21:09|[543470009]|       1|             49.36|\n",
      "|000941cc-a55d-4a5...|2019-10-24 22:20:26|[563830578]|       1|              40.9|\n",
      "|00095607-9518-42c...|2019-10-05 19:05:28|[531516671]|       1|            386.08|\n",
      "|000a2754-1167-47c...|2019-10-28 12:56:13|[554129220]|       1|             39.68|\n",
      "|0010e63b-0333-4f6...|2019-10-16 14:57:29|[525771398]|       1|             31.64|\n",
      "|00149062-a045-4a1...|2019-10-26 22:11:53|[558054947]|       2|113.50999999999999|\n",
      "|00167766-6565-4b6...|2019-10-30 09:50:10|[565693206]|       1|            385.83|\n",
      "|0016bf0d-cdc0-4d6...|2019-10-17 13:17:20|[550091025]|       1|            242.07|\n",
      "|001a1e22-7e00-4de...|2019-10-14 11:07:53|[559044395]|       1|            434.73|\n",
      "|001baa62-ade8-40e...|2019-10-30 11:53:30|[563170001]|       1|           1207.32|\n",
      "|0023b834-427c-4da...|2019-10-23 03:53:03|[512996254]|       1|              24.7|\n",
      "|0026da65-d60b-4d7...|2019-10-31 18:15:04|[514674061]|       1|           1543.39|\n",
      "|0028a99a-47d4-4a8...|2019-10-05 07:32:02|[534917019]|       1|            308.37|\n",
      "|002fc82e-064a-4cd...|2019-10-31 12:15:03|[530221552]|       1|            1667.7|\n",
      "|003144e8-b946-4b3...|2019-10-14 12:39:32|[547765693]|       1|            130.71|\n",
      "|00323239-8ffc-45e...|2019-10-07 09:36:18|[517111916]|       1|             84.66|\n",
      "|00326296-8877-47f...|2019-10-11 04:34:33|[538672167]|       1|            434.99|\n",
      "|0032e941-8533-46a...|2019-10-16 09:43:52|[513593613]|       1|             58.95|\n",
      "|00331d66-8566-4dc...|2019-10-08 07:18:53|[543356214]|       1|            130.76|\n",
      "+--------------------+-------------------+-----------+--------+------------------+\n",
      "only showing top 20 rows\n",
      "\n"
     ]
    },
    {
     "name": "stderr",
     "output_type": "stream",
     "text": [
      "                                                                                \r"
     ]
    }
   ],
   "source": [
    "aggregated_data = only_purchases.groupBy(\"user_session\") \\\n",
    "    .agg(\n",
    "        F.max(\"event_time\").alias(\"Date_order\"),\n",
    "        F.collect_set(\"user_id\").alias(\"user_id\"),  # Unique user_ids\n",
    "        F.count(\"user_session\").alias(\"Quantity\"),\n",
    "        F.sum(\"price\").alias(\"money_spent\")\n",
    "    )\n",
    "aggregated_data.show()"
   ]
  },
  {
   "cell_type": "markdown",
   "metadata": {},
   "source": [
    "Skilling Executor\n",
    "\n",
    "\n",
    "![Image](https://i.imgur.com/7Tec3Hp.png)"
   ]
  },
  {
   "cell_type": "code",
   "execution_count": 11,
   "metadata": {},
   "outputs": [
    {
     "name": "stderr",
     "output_type": "stream",
     "text": [
      "24/01/31 00:44:52 ERROR TaskSchedulerImpl: Lost executor 0 on 192.168.0.5: Command exited with code 143\n",
      "24/01/31 00:44:52 WARN TaskSetManager: Lost task 30.0 in stage 10.0 (TID 164) (192.168.0.5 executor 0): ExecutorLostFailure (executor 0 exited caused by one of the running tasks) Reason: Command exited with code 143\n",
      "24/01/31 00:44:52 WARN TaskSetManager: Lost task 42.0 in stage 10.0 (TID 176) (192.168.0.5 executor 0): ExecutorLostFailure (executor 0 exited caused by one of the running tasks) Reason: Command exited with code 143\n",
      "24/01/31 00:44:52 WARN TaskSetManager: Lost task 33.0 in stage 10.0 (TID 167) (192.168.0.5 executor 0): ExecutorLostFailure (executor 0 exited caused by one of the running tasks) Reason: Command exited with code 143\n",
      "24/01/31 00:44:52 WARN TaskSetManager: Lost task 35.0 in stage 10.0 (TID 169) (192.168.0.5 executor 0): ExecutorLostFailure (executor 0 exited caused by one of the running tasks) Reason: Command exited with code 143\n",
      "24/01/31 00:44:52 WARN TaskSetManager: Lost task 38.0 in stage 10.0 (TID 172) (192.168.0.5 executor 0): ExecutorLostFailure (executor 0 exited caused by one of the running tasks) Reason: Command exited with code 143\n",
      "24/01/31 00:44:52 WARN TaskSetManager: Lost task 31.0 in stage 10.0 (TID 165) (192.168.0.5 executor 0): ExecutorLostFailure (executor 0 exited caused by one of the running tasks) Reason: Command exited with code 143\n",
      "24/01/31 00:44:52 WARN TaskSetManager: Lost task 34.0 in stage 10.0 (TID 168) (192.168.0.5 executor 0): ExecutorLostFailure (executor 0 exited caused by one of the running tasks) Reason: Command exited with code 143\n",
      "[Stage 10:============================>                            (5 + 5) / 10]\r"
     ]
    },
    {
     "name": "stdout",
     "output_type": "stream",
     "text": [
      "+--------------------+-------------------+-----------+--------+------------------+\n",
      "|        user_session|         Date_order|    user_id|Quantity|       money_spent|\n",
      "+--------------------+-------------------+-----------+--------+------------------+\n",
      "|000081ea-9376-4eb...|2019-10-24 11:08:58|[513622224]|       1|            131.51|\n",
      "|000174ac-0ea3-402...|2019-10-18 12:46:20|[548449052]|       2|            499.72|\n",
      "|0004400f-dc39-410...|2019-10-16 07:24:33|[550005829]|       1|            143.63|\n",
      "|0004c309-ff34-44b...|2019-10-13 13:59:14|[547022478]|       2|             281.2|\n",
      "|000723e7-1ff9-484...|2019-10-05 15:21:09|[543470009]|       1|             49.36|\n",
      "|000941cc-a55d-4a5...|2019-10-24 22:20:26|[563830578]|       1|              40.9|\n",
      "|00095607-9518-42c...|2019-10-05 19:05:28|[531516671]|       1|            386.08|\n",
      "|000a2754-1167-47c...|2019-10-28 12:56:13|[554129220]|       1|             39.68|\n",
      "|000a9525-b9a4-4cf...|2019-10-07 18:54:17|[557779190]|       1|            102.71|\n",
      "|000cbc68-4323-4ba...|2019-10-13 08:35:34|[533715732]|       1|             92.09|\n",
      "|000e2bba-bbf2-432...|2019-10-10 10:51:47|[541825176]|       1|             88.81|\n",
      "|0010e63b-0333-4f6...|2019-10-16 14:57:29|[525771398]|       1|             31.64|\n",
      "|00149062-a045-4a1...|2019-10-26 22:11:53|[558054947]|       2|113.50999999999999|\n",
      "|00167766-6565-4b6...|2019-10-30 09:50:10|[565693206]|       1|            385.83|\n",
      "|0016bf0d-cdc0-4d6...|2019-10-17 13:17:20|[550091025]|       1|            242.07|\n",
      "|001868b0-06b7-40a...|2019-10-20 18:13:30|[546693089]|       2|             336.6|\n",
      "|001a1e22-7e00-4de...|2019-10-14 11:07:53|[559044395]|       1|            434.73|\n",
      "|001baa62-ade8-40e...|2019-10-30 11:53:30|[563170001]|       1|           1207.32|\n",
      "|001c4f5a-ab44-45f...|2019-10-12 11:51:23|[521009984]|       1|             36.01|\n",
      "|001de77d-9b9a-4c5...|2019-10-28 17:13:36|[564395096]|       2|            261.98|\n",
      "+--------------------+-------------------+-----------+--------+------------------+\n",
      "only showing top 20 rows\n",
      "\n"
     ]
    },
    {
     "name": "stderr",
     "output_type": "stream",
     "text": [
      "                                                                                \r"
     ]
    }
   ],
   "source": [
    "aggregated_data = only_purchases.groupBy(\"user_session\") \\\n",
    "    .agg(\n",
    "        F.max(\"event_time\").alias(\"Date_order\"),\n",
    "        F.collect_set(\"user_id\").alias(\"user_id\"),  # Unique user_ids\n",
    "        F.count(\"user_session\").alias(\"Quantity\"),\n",
    "        F.sum(\"price\").alias(\"money_spent\")\n",
    "    )\n",
    "aggregated_data.show()"
   ]
  },
  {
   "cell_type": "markdown",
   "metadata": {},
   "source": [
    "Using cache to observe the difference when executor is killed"
   ]
  },
  {
   "cell_type": "code",
   "execution_count": 7,
   "metadata": {},
   "outputs": [
    {
     "data": {
      "text/plain": [
       "DataFrame[event_time: timestamp, event_type: string, product_id: int, category_id: bigint, category_code: string, brand: string, price: double, user_id: int, user_session: string]"
      ]
     },
     "execution_count": 7,
     "metadata": {},
     "output_type": "execute_result"
    }
   ],
   "source": [
    "only_purchases.cache()"
   ]
  },
  {
   "cell_type": "code",
   "execution_count": 8,
   "metadata": {},
   "outputs": [
    {
     "name": "stderr",
     "output_type": "stream",
     "text": [
      "24/01/31 01:16:15 ERROR TaskSchedulerImpl: Lost executor 1 on 192.168.0.5: Command exited with code 143\n",
      "24/01/31 01:16:15 WARN TaskSetManager: Lost task 18.0 in stage 6.0 (TID 151) (192.168.0.5 executor 1): ExecutorLostFailure (executor 1 exited caused by one of the running tasks) Reason: Command exited with code 143\n",
      "24/01/31 01:16:15 WARN TaskSetManager: Lost task 12.0 in stage 6.0 (TID 145) (192.168.0.5 executor 1): ExecutorLostFailure (executor 1 exited caused by one of the running tasks) Reason: Command exited with code 143\n",
      "24/01/31 01:16:15 WARN TaskSetManager: Lost task 21.0 in stage 6.0 (TID 154) (192.168.0.5 executor 1): ExecutorLostFailure (executor 1 exited caused by one of the running tasks) Reason: Command exited with code 143\n",
      "24/01/31 01:16:15 WARN TaskSetManager: Lost task 6.0 in stage 6.0 (TID 139) (192.168.0.5 executor 1): ExecutorLostFailure (executor 1 exited caused by one of the running tasks) Reason: Command exited with code 143\n",
      "24/01/31 01:16:15 WARN TaskSetManager: Lost task 35.0 in stage 6.0 (TID 162) (192.168.0.5 executor 1): ExecutorLostFailure (executor 1 exited caused by one of the running tasks) Reason: Command exited with code 143\n",
      "24/01/31 01:16:15 WARN TaskSetManager: Lost task 30.0 in stage 6.0 (TID 161) (192.168.0.5 executor 1): ExecutorLostFailure (executor 1 exited caused by one of the running tasks) Reason: Command exited with code 143\n",
      "24/01/31 01:16:15 WARN BlockManagerMasterEndpoint: No more replicas available for rdd_21_30 !\n",
      "24/01/31 01:16:15 WARN BlockManagerMasterEndpoint: No more replicas available for rdd_21_24 !\n",
      "24/01/31 01:16:15 WARN BlockManagerMasterEndpoint: No more replicas available for rdd_21_6 !\n",
      "24/01/31 01:16:15 WARN BlockManagerMasterEndpoint: No more replicas available for rdd_21_3 !\n",
      "24/01/31 01:16:15 WARN BlockManagerMasterEndpoint: No more replicas available for rdd_21_12 !\n",
      "24/01/31 01:16:15 WARN BlockManagerMasterEndpoint: No more replicas available for rdd_21_18 !\n",
      "24/01/31 01:16:15 WARN BlockManagerMasterEndpoint: No more replicas available for rdd_21_9 !\n",
      "24/01/31 01:16:15 WARN BlockManagerMasterEndpoint: No more replicas available for rdd_21_35 !\n",
      "24/01/31 01:16:15 WARN BlockManagerMasterEndpoint: No more replicas available for rdd_21_15 !\n",
      "24/01/31 01:16:15 WARN BlockManagerMasterEndpoint: No more replicas available for rdd_21_21 !\n",
      "24/01/31 01:16:15 WARN BlockManagerMasterEndpoint: No more replicas available for rdd_21_27 !\n",
      "24/01/31 01:16:15 WARN BlockManagerMasterEndpoint: No more replicas available for rdd_21_0 !\n",
      "24/01/31 01:16:15 WARN BlockManagerMasterEndpoint: No more replicas available for rdd_21_39 !\n",
      "[Stage 6:======================================>                  (16 + 8) / 24]\r"
     ]
    },
    {
     "name": "stdout",
     "output_type": "stream",
     "text": [
      "+--------------------+-------------------+-----------+--------+------------------+\n",
      "|        user_session|         Date_order|    user_id|Quantity|       money_spent|\n",
      "+--------------------+-------------------+-----------+--------+------------------+\n",
      "|000081ea-9376-4eb...|2019-10-24 11:08:58|[513622224]|       1|            131.51|\n",
      "|000174ac-0ea3-402...|2019-10-18 12:46:20|[548449052]|       2|            499.72|\n",
      "|0004400f-dc39-410...|2019-10-16 07:24:33|[550005829]|       1|            143.63|\n",
      "|0004c309-ff34-44b...|2019-10-13 13:59:14|[547022478]|       2|             281.2|\n",
      "|000723e7-1ff9-484...|2019-10-05 15:21:09|[543470009]|       1|             49.36|\n",
      "|000941cc-a55d-4a5...|2019-10-24 22:20:26|[563830578]|       1|              40.9|\n",
      "|00095607-9518-42c...|2019-10-05 19:05:28|[531516671]|       1|            386.08|\n",
      "|000a2754-1167-47c...|2019-10-28 12:56:13|[554129220]|       1|             39.68|\n",
      "|000a9525-b9a4-4cf...|2019-10-07 18:54:17|[557779190]|       1|            102.71|\n",
      "|000cbc68-4323-4ba...|2019-10-13 08:35:34|[533715732]|       1|             92.09|\n",
      "|000e2bba-bbf2-432...|2019-10-10 10:51:47|[541825176]|       1|             88.81|\n",
      "|0010e63b-0333-4f6...|2019-10-16 14:57:29|[525771398]|       1|             31.64|\n",
      "|00149062-a045-4a1...|2019-10-26 22:11:53|[558054947]|       2|113.50999999999999|\n",
      "|00167766-6565-4b6...|2019-10-30 09:50:10|[565693206]|       1|            385.83|\n",
      "|0016bf0d-cdc0-4d6...|2019-10-17 13:17:20|[550091025]|       1|            242.07|\n",
      "|001868b0-06b7-40a...|2019-10-20 18:13:30|[546693089]|       2|             336.6|\n",
      "|001a1e22-7e00-4de...|2019-10-14 11:07:53|[559044395]|       1|            434.73|\n",
      "|001baa62-ade8-40e...|2019-10-30 11:53:30|[563170001]|       1|           1207.32|\n",
      "|001c4f5a-ab44-45f...|2019-10-12 11:51:23|[521009984]|       1|             36.01|\n",
      "|001de77d-9b9a-4c5...|2019-10-28 17:13:36|[564395096]|       2|            261.98|\n",
      "+--------------------+-------------------+-----------+--------+------------------+\n",
      "only showing top 20 rows\n",
      "\n"
     ]
    },
    {
     "name": "stderr",
     "output_type": "stream",
     "text": [
      "                                                                                \r"
     ]
    }
   ],
   "source": [
    "aggregated_data = only_purchases.groupBy(\"user_session\") \\\n",
    "    .agg(\n",
    "        F.max(\"event_time\").alias(\"Date_order\"),\n",
    "        F.collect_set(\"user_id\").alias(\"user_id\"),  # Unique user_ids\n",
    "        F.count(\"user_session\").alias(\"Quantity\"),\n",
    "        F.sum(\"price\").alias(\"money_spent\")\n",
    "    )\n",
    "aggregated_data.show()"
   ]
  }
 ],
 "metadata": {
  "kernelspec": {
   "display_name": "bigdata",
   "language": "python",
   "name": "python3"
  },
  "language_info": {
   "codemirror_mode": {
    "name": "ipython",
    "version": 3
   },
   "file_extension": ".py",
   "mimetype": "text/x-python",
   "name": "python",
   "nbconvert_exporter": "python",
   "pygments_lexer": "ipython3",
   "version": "3.12.0"
  }
 },
 "nbformat": 4,
 "nbformat_minor": 2
}
