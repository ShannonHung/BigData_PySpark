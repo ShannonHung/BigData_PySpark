{
 "cells": [
  {
   "cell_type": "code",
   "execution_count": 1,
   "metadata": {},
   "outputs": [],
   "source": [
    "import os \n",
    "import findspark \n",
    "findspark.init()\n",
    "\n",
    "# for sql\n",
    "from pyspark.sql import SparkSession \n",
    "from pyspark.sql.functions import col\n",
    "from pyspark.sql.functions import sum,avg,max,count\n",
    "\n",
    "# for time \n",
    "import time \n",
    "import datetime as dt\n"
   ]
  },
  {
   "cell_type": "code",
   "execution_count": 2,
   "metadata": {},
   "outputs": [
    {
     "name": "stderr",
     "output_type": "stream",
     "text": [
      "24/01/30 10:27:03 WARN Utils: Your hostname, Nikolais-MacBook-Pro.local resolves to a loopback address: 127.0.0.1; using 100.119.9.7 instead (on interface en0)\n",
      "24/01/30 10:27:03 WARN Utils: Set SPARK_LOCAL_IP if you need to bind to another address\n",
      "Setting default log level to \"WARN\".\n",
      "To adjust logging level use sc.setLogLevel(newLevel). For SparkR, use setLogLevel(newLevel).\n",
      "24/01/30 10:27:04 WARN NativeCodeLoader: Unable to load native-hadoop library for your platform... using builtin-java classes where applicable\n",
      "24/01/30 10:27:04 WARN Utils: Service 'SparkUI' could not bind on port 4040. Attempting port 4041.\n"
     ]
    }
   ],
   "source": [
    "#root = '../../../2019-Oct.csv'\n",
    "root = '../../data/only_purchases_1day.csv'\n",
    "#root = '../../*.csv'\n",
    "spark = SparkSession.builder.appName('eCommerce').getOrCreate()"
   ]
  },
  {
   "cell_type": "code",
   "execution_count": 3,
   "metadata": {},
   "outputs": [],
   "source": [
    "ecommerce = spark.read\\\n",
    "    .option(\"inferSchema\", \"true\")\\\n",
    "    .option(\"header\", \"true\")\\\n",
    "    .csv(root)"
   ]
  },
  {
   "cell_type": "code",
   "execution_count": 4,
   "metadata": {},
   "outputs": [],
   "source": [
    "ecommerce.createOrReplaceTempView('ecommerce_2019_oct')"
   ]
  },
  {
   "cell_type": "code",
   "execution_count": 5,
   "metadata": {},
   "outputs": [
    {
     "name": "stdout",
     "output_type": "stream",
     "text": [
      "root\n",
      " |-- event_time: timestamp (nullable = true)\n",
      " |-- event_type: string (nullable = true)\n",
      " |-- product_id: integer (nullable = true)\n",
      " |-- category_id: long (nullable = true)\n",
      " |-- category_code: string (nullable = true)\n",
      " |-- brand: string (nullable = true)\n",
      " |-- price: double (nullable = true)\n",
      " |-- user_id: integer (nullable = true)\n",
      " |-- user_session: string (nullable = true)\n",
      "\n"
     ]
    }
   ],
   "source": [
    "ecommerce.printSchema()"
   ]
  },
  {
   "cell_type": "code",
   "execution_count": 6,
   "metadata": {},
   "outputs": [
    {
     "name": "stdout",
     "output_type": "stream",
     "text": [
      "+-------------------+----------+----------+-------------------+--------------------+-------+------+---------+--------------------+\n",
      "|         event_time|event_type|product_id|        category_id|       category_code|  brand| price|  user_id|        user_session|\n",
      "+-------------------+----------+----------+-------------------+--------------------+-------+------+---------+--------------------+\n",
      "|2019-10-01 02:02:14|  purchase|   1004856|2053013555631882655|electronics.smart...|samsung|130.76|543272936|8187d148-3c41-46d...|\n",
      "|2019-10-01 02:04:37|  purchase|   1002532|2053013555631882655|electronics.smart...|  apple|642.69|551377651|3c80f0d6-e9ec-418...|\n",
      "|2019-10-01 02:06:02|  purchase|   5100816|2053013553375346967|                NULL| xiaomi| 29.51|514591159|0e5dfc4b-2a55-43e...|\n",
      "|2019-10-01 02:07:07|  purchase|  13800054|2053013557418656265|furniture.bathroo...|santeri| 54.42|555332717|1dea3ee2-2ded-42e...|\n",
      "|2019-10-01 02:09:26|  purchase|   4804055|2053013554658804075|electronics.audio...|  apple|189.91|524601178|2af9b570-0942-4dc...|\n",
      "+-------------------+----------+----------+-------------------+--------------------+-------+------+---------+--------------------+\n",
      "only showing top 5 rows\n",
      "\n"
     ]
    }
   ],
   "source": [
    "ecommerce.show(5)"
   ]
  },
  {
   "cell_type": "markdown",
   "metadata": {},
   "source": [
    "### Try with smaller (day) to larger size (months) and show when the time takes to long"
   ]
  },
  {
   "cell_type": "markdown",
   "metadata": {},
   "source": [
    "- Smaller days "
   ]
  },
  {
   "cell_type": "code",
   "execution_count": 7,
   "metadata": {},
   "outputs": [
    {
     "name": "stdout",
     "output_type": "stream",
     "text": [
      "+-------------------+----------+----------+-------------------+--------------------+-------+------+---------+--------------------+\n",
      "|         event_time|event_type|product_id|        category_id|       category_code|  brand| price|  user_id|        user_session|\n",
      "+-------------------+----------+----------+-------------------+--------------------+-------+------+---------+--------------------+\n",
      "|2019-10-01 02:02:14|  purchase|   1004856|2053013555631882655|electronics.smart...|samsung|130.76|543272936|8187d148-3c41-46d...|\n",
      "|2019-10-01 02:04:37|  purchase|   1002532|2053013555631882655|electronics.smart...|  apple|642.69|551377651|3c80f0d6-e9ec-418...|\n",
      "|2019-10-01 02:06:02|  purchase|   5100816|2053013553375346967|                NULL| xiaomi| 29.51|514591159|0e5dfc4b-2a55-43e...|\n",
      "|2019-10-01 02:07:07|  purchase|  13800054|2053013557418656265|furniture.bathroo...|santeri| 54.42|555332717|1dea3ee2-2ded-42e...|\n",
      "|2019-10-01 02:09:26|  purchase|   4804055|2053013554658804075|electronics.audio...|  apple|189.91|524601178|2af9b570-0942-4dc...|\n",
      "+-------------------+----------+----------+-------------------+--------------------+-------+------+---------+--------------------+\n",
      "only showing top 5 rows\n",
      "\n"
     ]
    }
   ],
   "source": [
    "only_purchases = ecommerce.filter(col(\"event_type\") == 'purchase')\n",
    "only_purchases.show(5)"
   ]
  },
  {
   "cell_type": "code",
   "execution_count": 8,
   "metadata": {},
   "outputs": [
    {
     "name": "stdout",
     "output_type": "stream",
     "text": [
      "Number of rows: 19141\n",
      "average_price_specified_period: [Row(avg(price)=324.980677603052)]\n",
      "Average price for specified period (2019-10-01 00:00:00 to 2019-10-02 00:00:00): 324.980677603052\n",
      "Time taken: 0.3356153964996338 sec\n"
     ]
    }
   ],
   "source": [
    "start_date = dt.datetime(2019,10,1)\n",
    "end_date = dt.datetime(2019,10,2)\n",
    "\n",
    "# filter data by date peirod \n",
    "specified_period = only_purchases.filter((col(\"event_time\") >= start_date) & (col(\"event_time\") < end_date))\n",
    "\n",
    "# count number of rows\n",
    "print(f'Number of rows: {specified_period.count()}')\n",
    "\n",
    "start = time.time() \n",
    "# calculate average price for specified period\n",
    "average_price_specified_period = specified_period.agg(avg(\"price\")).collect()\n",
    "print(f'average_price_specified_period: {average_price_specified_period}')\n",
    "print(f'Average price for specified period ({start_date} to {end_date}): {average_price_specified_period[0][0]}')\n",
    "print(f'Time taken: {time.time() - start} sec')"
   ]
  },
  {
   "cell_type": "markdown",
   "metadata": {},
   "source": [
    "- larger size (whole month)"
   ]
  },
  {
   "cell_type": "code",
   "execution_count": 9,
   "metadata": {},
   "outputs": [
    {
     "name": "stdout",
     "output_type": "stream",
     "text": [
      "Number of rows: 19307\n",
      "Number of rows: 19307\n"
     ]
    }
   ],
   "source": [
    "# count number of rows\n",
    "oct30_date = dt.datetime(2019,10,31,23,59,59)\n",
    "print(f'Number of rows: {only_purchases.count()}')\n",
    "all_oct_purchases = only_purchases.filter(col(\"event_time\") <= oct30_date)\n",
    "print(f'Number of rows: {all_oct_purchases.count()}') "
   ]
  },
  {
   "cell_type": "code",
   "execution_count": 10,
   "metadata": {},
   "outputs": [
    {
     "name": "stdout",
     "output_type": "stream",
     "text": [
      "Maximum event time: 2019-10-02 01:58:48\n"
     ]
    }
   ],
   "source": [
    "from pyspark.sql import functions as F\n",
    "\n",
    "# Use F.max for PySpark's max function\n",
    "max_event_time = all_oct_purchases.agg(F.max(\"event_time\")).collect()\n",
    "print(f\"Maximum event time: {max_event_time[0][0]}\")"
   ]
  },
  {
   "cell_type": "code",
   "execution_count": 11,
   "metadata": {},
   "outputs": [
    {
     "name": "stdout",
     "output_type": "stream",
     "text": [
      "average_proce_all: [Row(avg(price)=325.0615843994414)]\n",
      "Average price for whole period: 325.0615843994414\n",
      "Time taken: 0.2498009204864502 sec\n"
     ]
    }
   ],
   "source": [
    "\n",
    "start = time.time() \n",
    "# calculate average price for specified period\n",
    "average_proce_all = all_oct_purchases.agg(avg(\"price\")).collect()\n",
    "print(f'average_proce_all: {average_proce_all}')\n",
    "print(f'Average price for whole period: {average_proce_all[0][0]}')\n",
    "print(f'Time taken: {time.time() - start} sec')"
   ]
  },
  {
   "cell_type": "code",
   "execution_count": 12,
   "metadata": {},
   "outputs": [
    {
     "name": "stdout",
     "output_type": "stream",
     "text": [
      "CodeCache: size=131072Kb used=28885Kb max_used=28885Kb free=102186Kb\n",
      " bounds [0x00000001079d8000, 0x0000000109648000, 0x000000010f9d8000]\n",
      " total_blobs=11164 nmethods=10206 adapters=868\n",
      " compilation: disabled (not enough contiguous free space left)\n",
      "+--------------------+-------------------+-----------+--------+-----------+\n",
      "|        user_session|         Date_order|    user_id|Quantity|money_spent|\n",
      "+--------------------+-------------------+-----------+--------+-----------+\n",
      "|0002c5ea-3509-4d0...|2019-10-01 08:10:46|[541539898]|       1|       9.76|\n",
      "|000fdfe4-e1f0-4a9...|2019-10-01 15:37:06|[520206104]|       1|     259.98|\n",
      "|001226df-03c7-41e...|2019-10-01 16:13:11|[516675926]|       1|    1619.09|\n",
      "|001a0d5b-5b97-4a4...|2019-10-01 10:31:51|[541146978]|       1|     383.51|\n",
      "|002ccd2c-50f7-412...|2019-10-01 07:49:27|[532770412]|       2|    1507.12|\n",
      "|002d4fb1-81e7-40a...|2019-10-01 08:51:48|[551649560]|       1|     113.23|\n",
      "|002eb2d4-76df-4da...|2019-10-01 19:37:03|[548751685]|       2|    1012.56|\n",
      "|003c3709-b084-464...|2019-10-01 16:46:57|[514242794]|       3|     107.57|\n",
      "|0042dd5a-8850-475...|2019-10-01 15:31:01|[554093290]|       1|      130.7|\n",
      "|0043b973-66ee-4ed...|2019-10-01 13:45:15|[537131755]|       1|     514.75|\n",
      "|0048d51e-61e8-49e...|2019-10-01 18:29:34|[512388181]|       1|      30.86|\n",
      "|0050a463-f560-42e...|2019-10-01 10:00:40|[555538567]|       1|      90.04|\n",
      "|00546b5e-b576-402...|2019-10-01 12:43:41|[518088595]|       1|     161.93|\n",
      "|00561c0d-c0d9-482...|2019-10-01 20:10:44|[514817492]|       1|     102.71|\n",
      "|0056e55b-b2fe-4b9...|2019-10-01 15:19:04|[551801399]|       1|     146.46|\n",
      "|00582c03-360f-444...|2019-10-01 07:37:46|[512850441]|       2|     2363.0|\n",
      "|0059819e-af2c-418...|2019-10-01 16:29:37|[538959288]|       2|    1166.56|\n",
      "|005cd98c-9767-4cb...|2019-10-01 19:04:33|[520726212]|       1|      48.39|\n",
      "|005fcdca-6a97-438...|2019-10-01 10:18:52|[531760733]|       1|     253.33|\n",
      "|0069f321-8d0c-46e...|2019-10-01 20:36:27|[549602231]|       5|     598.48|\n",
      "+--------------------+-------------------+-----------+--------+-----------+\n",
      "only showing top 20 rows\n",
      "\n"
     ]
    },
    {
     "name": "stderr",
     "output_type": "stream",
     "text": [
      "Java HotSpot(TM) 64-Bit Server VM warning: CodeCache is full. Compiler has been disabled.\n",
      "Java HotSpot(TM) 64-Bit Server VM warning: Try increasing the code cache size using -XX:ReservedCodeCacheSize=\n"
     ]
    }
   ],
   "source": [
    "aggregated_data = only_purchases.groupBy(\"user_session\") \\\n",
    "    .agg(\n",
    "        F.max(\"event_time\").alias(\"Date_order\"),\n",
    "        F.collect_set(\"user_id\").alias(\"user_id\"),  # Unique user_ids\n",
    "        F.count(\"user_session\").alias(\"Quantity\"),\n",
    "        F.sum(\"price\").alias(\"money_spent\")\n",
    "    )\n",
    "aggregated_data.show()"
   ]
  },
  {
   "cell_type": "markdown",
   "metadata": {},
   "source": [
    "# **RFM Analysis**\n",
    "RFM is a method used for analyzing customer value. It is commonly used in database marketing and direct marketing and has received particular attention in retail and professional services industries.\n",
    "\n",
    "RFM stands for the three dimensions:\n",
    "\n",
    "* Recency – How recently did the customer purchase?\n",
    "* Frequency – How often do they purchase?\n",
    "* Monetary Value – How much do they spend?\n",
    "\n",
    "source: [wikipedia](https://en.wikipedia.org/wiki/RFM_(market_research))\n",
    "\n",
    "so we will calculate the 3 attributes Recency, Frequency, and Monetary"
   ]
  },
  {
   "cell_type": "code",
   "execution_count": 13,
   "metadata": {},
   "outputs": [
    {
     "name": "stdout",
     "output_type": "stream",
     "text": [
      "+--------------------+----------+-----------+--------+-----------+-------------+\n",
      "|        user_session|Date_order|    user_id|Quantity|money_spent|last_purchase|\n",
      "+--------------------+----------+-----------+--------+-----------+-------------+\n",
      "|0002c5ea-3509-4d0...|2019-10-01|[541539898]|       1|       9.76|           61|\n",
      "|000fdfe4-e1f0-4a9...|2019-10-01|[520206104]|       1|     259.98|           61|\n",
      "|001226df-03c7-41e...|2019-10-01|[516675926]|       1|    1619.09|           61|\n",
      "|001a0d5b-5b97-4a4...|2019-10-01|[541146978]|       1|     383.51|           61|\n",
      "|002ccd2c-50f7-412...|2019-10-01|[532770412]|       2|    1507.12|           61|\n",
      "|002d4fb1-81e7-40a...|2019-10-01|[551649560]|       1|     113.23|           61|\n",
      "|002eb2d4-76df-4da...|2019-10-01|[548751685]|       2|    1012.56|           61|\n",
      "|003c3709-b084-464...|2019-10-01|[514242794]|       3|     107.57|           61|\n",
      "|0042dd5a-8850-475...|2019-10-01|[554093290]|       1|      130.7|           61|\n",
      "|0043b973-66ee-4ed...|2019-10-01|[537131755]|       1|     514.75|           61|\n",
      "|0048d51e-61e8-49e...|2019-10-01|[512388181]|       1|      30.86|           61|\n",
      "|0050a463-f560-42e...|2019-10-01|[555538567]|       1|      90.04|           61|\n",
      "|00546b5e-b576-402...|2019-10-01|[518088595]|       1|     161.93|           61|\n",
      "|00561c0d-c0d9-482...|2019-10-01|[514817492]|       1|     102.71|           61|\n",
      "|0056e55b-b2fe-4b9...|2019-10-01|[551801399]|       1|     146.46|           61|\n",
      "|00582c03-360f-444...|2019-10-01|[512850441]|       2|     2363.0|           61|\n",
      "|0059819e-af2c-418...|2019-10-01|[538959288]|       2|    1166.56|           61|\n",
      "|005cd98c-9767-4cb...|2019-10-01|[520726212]|       1|      48.39|           61|\n",
      "|005fcdca-6a97-438...|2019-10-01|[531760733]|       1|     253.33|           61|\n",
      "|0069f321-8d0c-46e...|2019-10-01|[549602231]|       5|     598.48|           61|\n",
      "+--------------------+----------+-----------+--------+-----------+-------------+\n",
      "only showing top 20 rows\n",
      "\n"
     ]
    }
   ],
   "source": [
    "from pyspark.sql import functions as F\n",
    "from pyspark.sql.types import DateType\n",
    "import datetime as dt\n",
    "\n",
    "# Assuming 'data' is your PySpark DataFrame and 'Date_order' is a string column\n",
    "study_date = dt.datetime(2019, 12, 1)\n",
    "\n",
    "# Convert 'Date_order' to date type if it's not already\n",
    "data = aggregated_data.withColumn(\"Date_order\", F.col(\"Date_order\").cast(DateType()))\n",
    "\n",
    "# Calculate the difference in days\n",
    "data = data.withColumn(\"last_purchase\", F.datediff(F.lit(study_date), \"Date_order\"))\n",
    "\n",
    "# Show the first few rows of the DataFrame\n",
    "data.show()\n"
   ]
  },
  {
   "cell_type": "code",
   "execution_count": 14,
   "metadata": {},
   "outputs": [
    {
     "name": "stdout",
     "output_type": "stream",
     "text": [
      "+-----------+-------+---------+------------------+\n",
      "|    user_id|Recency|Frequency|          Monetary|\n",
      "+-----------+-------+---------+------------------+\n",
      "|[540805815]|     61|        2|            416.97|\n",
      "|[554890606]|     61|        2|            180.68|\n",
      "|[518550701]|     61|        2|           1951.12|\n",
      "|[527993733]|     61|        1|            169.86|\n",
      "|[519298781]|     61|        1|             177.1|\n",
      "|[544161168]|     61|        1|            737.67|\n",
      "|[512878155]|     61|        1|            254.26|\n",
      "|[552269114]|     61|        2|            410.85|\n",
      "|[555528707]|     61|        2|            313.26|\n",
      "|[512817507]|     61|        1|           1080.18|\n",
      "|[513263533]|     61|        2|            571.39|\n",
      "|[521755518]|     61|        1|            161.93|\n",
      "|[514537356]|     61|        2|            464.31|\n",
      "|[546129282]|     61|        1|1108.4299999999998|\n",
      "|[514399464]|     61|        2|           3397.72|\n",
      "|[514264972]|     61|        2|           1729.77|\n",
      "|[513902632]|     61|        1|            186.22|\n",
      "|[518685353]|     61|        1|             15.44|\n",
      "|[518882191]|     61|        1|            174.27|\n",
      "|[518837961]|     61|        1|             62.09|\n",
      "+-----------+-------+---------+------------------+\n",
      "only showing top 20 rows\n",
      "\n"
     ]
    }
   ],
   "source": [
    "\n",
    "RFM_result = data.groupBy(\"user_id\") \\\n",
    "    .agg(\n",
    "        F.min(\"last_purchase\").alias(\"Recency\"),\n",
    "        F.count(\"user_id\").alias(\"Frequency\"),\n",
    "        F.sum(\"money_spent\").alias(\"Monetary\")\n",
    "    )\n",
    "\n",
    "# Show the first few rows of the RFM DataFrame\n",
    "RFM_result.show()\n"
   ]
  },
  {
   "cell_type": "markdown",
   "metadata": {},
   "source": [
    "##### Recency – How recently did the customer purchase?\n",
    "(befor days bought)\n"
   ]
  },
  {
   "cell_type": "code",
   "execution_count": 15,
   "metadata": {},
   "outputs": [
    {
     "name": "stdout",
     "output_type": "stream",
     "text": [
      "+-------+-------------------+\n",
      "|summary|            Recency|\n",
      "+-------+-------------------+\n",
      "|  count|              14064|\n",
      "|   mean|  60.99139647326508|\n",
      "| stddev|0.09235860860653475|\n",
      "|    min|                 60|\n",
      "|    max|                 61|\n",
      "+-------+-------------------+\n",
      "\n"
     ]
    }
   ],
   "source": [
    "RFM_result.describe('Recency').show()"
   ]
  },
  {
   "cell_type": "markdown",
   "metadata": {},
   "source": [
    "##### Frequency – How often do they purchase?\n",
    "(count times)\n"
   ]
  },
  {
   "cell_type": "code",
   "execution_count": 16,
   "metadata": {},
   "outputs": [
    {
     "name": "stdout",
     "output_type": "stream",
     "text": [
      "+-------+------------------+\n",
      "|summary|         Frequency|\n",
      "+-------+------------------+\n",
      "|  count|             14064|\n",
      "|   mean|1.1553612059158134|\n",
      "| stddev|0.5264487104076628|\n",
      "|    min|                 1|\n",
      "|    max|                10|\n",
      "+-------+------------------+\n",
      "\n"
     ]
    }
   ],
   "source": [
    "RFM_result.describe('Frequency').show()"
   ]
  },
  {
   "cell_type": "markdown",
   "metadata": {},
   "source": [
    "##### Monetary Value – How much do they spend?\n",
    "(per person totally amount)"
   ]
  },
  {
   "cell_type": "code",
   "execution_count": 17,
   "metadata": {},
   "outputs": [
    {
     "name": "stdout",
     "output_type": "stream",
     "text": [
      "+-------+------------------+\n",
      "|summary|          Monetary|\n",
      "+-------+------------------+\n",
      "|  count|             14064|\n",
      "|   mean| 446.2431747724663|\n",
      "| stddev|  743.075831746732|\n",
      "|    min|              0.79|\n",
      "|    max|30607.049999999996|\n",
      "+-------+------------------+\n",
      "\n"
     ]
    }
   ],
   "source": [
    "RFM_result.describe('Monetary').show()"
   ]
  },
  {
   "cell_type": "markdown",
   "metadata": {},
   "source": [
    "# **RFM Segmentation**\n",
    "\n",
    "RFM segmentation is a useful tool for identifying groups of clients who should be given extra attention. RFM segmentation enables marketers to target specific groups of customers with communications that are far more relevant to their unique behaviors, resulting in improved response rates, enhanced loyalty, and increased customer lifetime value. RFM segmentation is a method for segmenting data, just like other approaches.\n",
    "\n",
    "The simplest way to create customers segments from RFM Model is to use Quartiles. We assign a score from 1 to 4 to Recency, Frequency and Monetary. Four is the best/highest value, and one is the lowest/worst value. A final RFM score is calculated simply by combining individual RFM score numbers.\n"
   ]
  },
  {
   "cell_type": "markdown",
   "metadata": {},
   "source": [
    "### RFM Quartiles"
   ]
  },
  {
   "cell_type": "code",
   "execution_count": 18,
   "metadata": {},
   "outputs": [
    {
     "name": "stdout",
     "output_type": "stream",
     "text": [
      "Recency {0.25: 61.0, 0.5: 61.0, 0.75: 61.0}\n",
      "Frequency {0.25: 1.0, 0.5: 1.0, 0.75: 1.0}\n",
      "Monetary {0.25: 102.71, 0.5: 223.69, 0.75: 506.29}\n"
     ]
    }
   ],
   "source": [
    "# Definition der Quantil-Wahrscheinlichkeiten und des relativen Fehlers\n",
    "quantile_probs = [0.25, 0.5, 0.75]\n",
    "rel_error = 0.01  # Geringer relativer Fehler für eine genauere Approximation\n",
    "\n",
    "# Berechnung der Quantile für Recency, Frequency und Monetary\n",
    "recency_quantiles = RFM_result.stat.approxQuantile(\"Recency\", quantile_probs, rel_error)\n",
    "frequency_quantiles = RFM_result.stat.approxQuantile(\"Frequency\", quantile_probs, rel_error)\n",
    "monetary_quantiles = RFM_result.stat.approxQuantile(\"Monetary\", quantile_probs, rel_error)\n",
    "\n",
    "# Zusammenstellen der Quantilinformation in einem Dictionary\n",
    "quartiles = {\n",
    "    'Recency': dict(zip(quantile_probs, recency_quantiles)),\n",
    "    'Frequency': dict(zip(quantile_probs, frequency_quantiles)),\n",
    "    'Monetary': dict(zip(quantile_probs, monetary_quantiles))\n",
    "}\n",
    "\n",
    "# (Optional) Ausgabe der Quartile zum Überprüfen\n",
    "for metric, quartile_values in quartiles.items():\n",
    "    print(metric, quartile_values)"
   ]
  },
  {
   "cell_type": "markdown",
   "metadata": {},
   "source": [
    "### Creation of RFM Segments"
   ]
  },
  {
   "cell_type": "code",
   "execution_count": 19,
   "metadata": {},
   "outputs": [],
   "source": [
    "from pyspark.sql.functions import udf, col\n",
    "from pyspark.sql.types import StringType, IntegerType\n",
    "\n",
    "# UDF für Recency\n",
    "def R(x, q1, q2, q3):\n",
    "    if x <= q1:\n",
    "        return 1\n",
    "    elif x <= q2:\n",
    "        return 2\n",
    "    elif x <= q3:\n",
    "        return 3\n",
    "    else:\n",
    "        return 4\n",
    "\n",
    "# UDF für Frequency und Monetary\n",
    "def FM(x, q1, q2, q3):\n",
    "    if x <= q1:\n",
    "        return 4\n",
    "    elif x <= q2:\n",
    "        return 3\n",
    "    elif x <= q3:\n",
    "        return 2\n",
    "    else:\n",
    "        return 1\n",
    "\n",
    "# Extrahieren der Quartilswerte\n",
    "recency_quartiles = [quartiles['Recency'][0.25], quartiles['Recency'][0.50], quartiles['Recency'][0.75]]\n",
    "frequency_quartiles = [quartiles['Frequency'][0.25], quartiles['Frequency'][0.50], quartiles['Frequency'][0.75]]\n",
    "monetary_quartiles = [quartiles['Monetary'][0.25], quartiles['Monetary'][0.50], quartiles['Monetary'][0.75]]"
   ]
  },
  {
   "cell_type": "code",
   "execution_count": 20,
   "metadata": {},
   "outputs": [
    {
     "name": "stdout",
     "output_type": "stream",
     "text": [
      "+-----------+-------+---------+------------------+----------+----------+----------+----------------+---------+\n",
      "|    user_id|Recency|Frequency|          Monetary|R_Quartile|F_Quartile|M_Quartile|RFM_segmentation|RFM_score|\n",
      "+-----------+-------+---------+------------------+----------+----------+----------+----------------+---------+\n",
      "|[540805815]|     61|        2|            416.97|         1|         1|         1|             3.0|        3|\n",
      "|[554890606]|     61|        2|            180.68|         1|         1|         1|             3.0|        3|\n",
      "|[518550701]|     61|        2|           1951.12|         1|         1|         1|             3.0|        3|\n",
      "|[527993733]|     61|        1|            169.86|         1|         4|         1|             6.0|        6|\n",
      "|[519298781]|     61|        1|             177.1|         1|         4|         1|             6.0|        6|\n",
      "|[544161168]|     61|        1|            737.67|         1|         4|         1|             6.0|        6|\n",
      "|[512878155]|     61|        1|            254.26|         1|         4|         1|             6.0|        6|\n",
      "|[552269114]|     61|        2|            410.85|         1|         1|         1|             3.0|        3|\n",
      "|[555528707]|     61|        2|            313.26|         1|         1|         1|             3.0|        3|\n",
      "|[512817507]|     61|        1|           1080.18|         1|         4|         1|             6.0|        6|\n",
      "|[513263533]|     61|        2|            571.39|         1|         1|         1|             3.0|        3|\n",
      "|[521755518]|     61|        1|            161.93|         1|         4|         1|             6.0|        6|\n",
      "|[514537356]|     61|        2|            464.31|         1|         1|         1|             3.0|        3|\n",
      "|[546129282]|     61|        1|1108.4299999999998|         1|         4|         1|             6.0|        6|\n",
      "|[514399464]|     61|        2|           3397.72|         1|         1|         1|             3.0|        3|\n",
      "|[514264972]|     61|        2|           1729.77|         1|         1|         1|             3.0|        3|\n",
      "|[513902632]|     61|        1|            186.22|         1|         4|         1|             6.0|        6|\n",
      "|[518685353]|     61|        1|             15.44|         1|         4|         1|             6.0|        6|\n",
      "|[518882191]|     61|        1|            174.27|         1|         4|         1|             6.0|        6|\n",
      "|[518837961]|     61|        1|             62.09|         1|         4|         1|             6.0|        6|\n",
      "+-----------+-------+---------+------------------+----------+----------+----------+----------------+---------+\n",
      "only showing top 20 rows\n",
      "\n"
     ]
    },
    {
     "name": "stderr",
     "output_type": "stream",
     "text": [
      "                                                                                \r"
     ]
    }
   ],
   "source": [
    "# Registrierung der UDFs\n",
    "R_udf = udf(lambda x: R(x, *recency_quartiles), IntegerType())\n",
    "FM_udf = udf(lambda x: FM(x, *frequency_quartiles), IntegerType())\n",
    "\n",
    "# Anwendung der UDFs auf den Spark DataFrame\n",
    "RFM_result = RFM_result.withColumn('R_Quartile', R_udf(col('Recency')))\n",
    "RFM_result = RFM_result.withColumn('F_Quartile', FM_udf(col('Frequency')))\n",
    "RFM_result = RFM_result.withColumn('M_Quartile', FM_udf(col('Monetary')))\n",
    "\n",
    "# Erstellen der RFM_segmentation und RFM_score Spalten\n",
    "RFM_result = RFM_result.withColumn('RFM_segmentation', \n",
    "                                   col('R_Quartile').cast(StringType()) + \n",
    "                                   col('F_Quartile').cast(StringType()) + \n",
    "                                   col('M_Quartile').cast(StringType()))\n",
    "RFM_result = RFM_result.withColumn('RFM_score', \n",
    "                                   col('R_Quartile') + \n",
    "                                   col('F_Quartile') + \n",
    "                                   col('M_Quartile'))\n",
    "\n",
    "# Anzeige der ersten paar Zeilen des DataFrame (Optional)\n",
    "RFM_result.show()"
   ]
  },
  {
   "cell_type": "code",
   "execution_count": 21,
   "metadata": {},
   "outputs": [
    {
     "name": "stdout",
     "output_type": "stream",
     "text": [
      "+-----------+-------+---------+------------------+----------+----------+----------+----------------+---------+---------+\n",
      "|    user_id|Recency|Frequency|          Monetary|R_Quartile|F_Quartile|M_Quartile|RFM_segmentation|RFM_score|RFM_label|\n",
      "+-----------+-------+---------+------------------+----------+----------+----------+----------------+---------+---------+\n",
      "|[540805815]|     61|        2|            416.97|         1|         1|         1|             3.0|        3|Champions|\n",
      "|[554890606]|     61|        2|            180.68|         1|         1|         1|             3.0|        3|Champions|\n",
      "|[518550701]|     61|        2|           1951.12|         1|         1|         1|             3.0|        3|Champions|\n",
      "|[527993733]|     61|        1|            169.86|         1|         4|         1|             6.0|        6|Promising|\n",
      "|[519298781]|     61|        1|             177.1|         1|         4|         1|             6.0|        6|Promising|\n",
      "|[544161168]|     61|        1|            737.67|         1|         4|         1|             6.0|        6|Promising|\n",
      "|[512878155]|     61|        1|            254.26|         1|         4|         1|             6.0|        6|Promising|\n",
      "|[552269114]|     61|        2|            410.85|         1|         1|         1|             3.0|        3|Champions|\n",
      "|[555528707]|     61|        2|            313.26|         1|         1|         1|             3.0|        3|Champions|\n",
      "|[512817507]|     61|        1|           1080.18|         1|         4|         1|             6.0|        6|Promising|\n",
      "|[513263533]|     61|        2|            571.39|         1|         1|         1|             3.0|        3|Champions|\n",
      "|[521755518]|     61|        1|            161.93|         1|         4|         1|             6.0|        6|Promising|\n",
      "|[514537356]|     61|        2|            464.31|         1|         1|         1|             3.0|        3|Champions|\n",
      "|[546129282]|     61|        1|1108.4299999999998|         1|         4|         1|             6.0|        6|Promising|\n",
      "|[514399464]|     61|        2|           3397.72|         1|         1|         1|             3.0|        3|Champions|\n",
      "|[514264972]|     61|        2|           1729.77|         1|         1|         1|             3.0|        3|Champions|\n",
      "|[513902632]|     61|        1|            186.22|         1|         4|         1|             6.0|        6|Promising|\n",
      "|[518685353]|     61|        1|             15.44|         1|         4|         1|             6.0|        6|Promising|\n",
      "|[518882191]|     61|        1|            174.27|         1|         4|         1|             6.0|        6|Promising|\n",
      "|[518837961]|     61|        1|             62.09|         1|         4|         1|             6.0|        6|Promising|\n",
      "+-----------+-------+---------+------------------+----------+----------+----------+----------------+---------+---------+\n",
      "only showing top 20 rows\n",
      "\n"
     ]
    }
   ],
   "source": [
    "# UDF-Definition für RFM_label\n",
    "def RFM_label(RFM_score):\n",
    "    if RFM_score >= 10:\n",
    "        return 'Lost'\n",
    "    elif RFM_score >= 9:\n",
    "        return 'Hibernating'\n",
    "    elif RFM_score >= 8:\n",
    "        return 'Can’t Lose Them'\n",
    "    elif RFM_score >= 7:\n",
    "        return 'About To Sleep'\n",
    "    elif RFM_score >= 6:\n",
    "        return 'Promising'\n",
    "    elif RFM_score >= 5:\n",
    "        return 'Potential Loyalist'\n",
    "    elif RFM_score >= 4:\n",
    "        return 'Loyal Customers'\n",
    "    else:\n",
    "        return 'Champions'\n",
    "\n",
    "# Registrierung der UDF\n",
    "RFM_label_udf = udf(RFM_label, StringType())\n",
    "\n",
    "# Anwendung der UDF auf den Spark DataFrame\n",
    "RFM_result = RFM_result.withColumn('RFM_label', RFM_label_udf('RFM_score'))\n",
    "\n",
    "# Anzeigen der ersten Zeilen des DataFrame\n",
    "RFM_result.show()"
   ]
  },
  {
   "cell_type": "markdown",
   "metadata": {},
   "source": [
    "### How many customers do we have in each segment?"
   ]
  },
  {
   "cell_type": "code",
   "execution_count": 22,
   "metadata": {},
   "outputs": [
    {
     "name": "stdout",
     "output_type": "stream",
     "text": [
      "+-----------+---------------+-----------------+----------------+------------+\n",
      "|  RFM_label|Average_Recency|Average_Frequency|Average_Monetary|Segment_Size|\n",
      "+-----------+---------------+-----------------+----------------+------------+\n",
      "|  Champions|           61.0|              2.4|          1108.0|        1577|\n",
      "|  Promising|           61.0|              1.0|           362.7|       12485|\n",
      "|Hibernating|           61.0|              1.0|             0.8|           2|\n",
      "+-----------+---------------+-----------------+----------------+------------+\n",
      "\n"
     ]
    }
   ],
   "source": [
    "# Gruppieren nach 'RFM_label' und Berechnen der Durchschnittswerte sowie der Gruppengröße\n",
    "RFM_desc = RFM_result.groupBy('RFM_label').agg(\n",
    "    F.mean('Recency').alias('Average_Recency'),\n",
    "    F.mean('Frequency').alias('Average_Frequency'),\n",
    "    F.mean('Monetary').alias('Average_Monetary'),\n",
    "    F.count('RFM_label').alias('Segment_Size')\n",
    ")\n",
    "\n",
    "# Runden der Durchschnittswerte auf eine Dezimalstelle\n",
    "RFM_desc = RFM_desc.select(\n",
    "    'RFM_label',\n",
    "    F.round('Average_Recency', 1).alias('Average_Recency'),\n",
    "    F.round('Average_Frequency', 1).alias('Average_Frequency'),\n",
    "    F.round('Average_Monetary', 1).alias('Average_Monetary'),\n",
    "    'Segment_Size'\n",
    ")\n",
    "\n",
    "# Anzeigen des aggregierten DataFrames\n",
    "RFM_desc.show()"
   ]
  },
  {
   "cell_type": "code",
   "execution_count": 23,
   "metadata": {},
   "outputs": [
    {
     "data": {
      "image/png": "[encoded data removed]",
      "text/plain": [
       "<Figure size 1600x900 with 1 Axes>"
      ]
     },
     "metadata": {},
     "output_type": "display_data"
    }
   ],
   "source": [
    "import matplotlib.pyplot as plt\n",
    "import squarify\n",
    "\n",
    "\n",
    "# Extract the necessary columns from the Spark DataFrame\n",
    "sizes = RFM_desc.select(\"Segment_Size\").rdd.flatMap(lambda x: x).collect()\n",
    "labels = RFM_desc.select(\"RFM_label\").rdd.flatMap(lambda x: x).collect()\n",
    "\n",
    "# Create your plot and resize it\n",
    "fig = plt.gcf()\n",
    "ax = fig.add_subplot()\n",
    "fig.set_size_inches(16, 9)\n",
    "\n",
    "# Create squarify plot\n",
    "squarify.plot(sizes=sizes, label=labels, alpha=.6)\n",
    "plt.title(\"RFM Segments\", fontsize=18, fontweight=\"bold\")\n",
    "plt.axis('off')\n",
    "plt.show()\n",
    "\n"
   ]
  },
  {
   "cell_type": "markdown",
   "metadata": {},
   "source": [
    "\n",
    "\n",
    "Now that we've identified our customer categories, we can decide how to approach or deal with each customer.\n",
    "\n",
    "- **Champions:** Reward them. They can be early adopters of new products and are likely to promote your brand. They are most likely to send referrals.\n",
    "\n",
    "- **Loyal Customer:** Upsell higher value products. Ask for reviews.\n",
    "\n",
    "- **Potential Loyalist:** Offer membership/loyalty programs. Keep them engaged and provide personalized recommendations.\n",
    "\n",
    "- **Promising:** Offer coupons. Bring them back to the platform and keep them engaged. Provide personalized recommendations.\n",
    "\n",
    "- **About to Sleep:** Win them back via renewals or newer products. Don’t lose them to the competition. Talk to them if necessary. Spend time on the highest possible personalization.\n",
    "\n",
    "- **Can't Lose Them:** Provide helpful resources on the site. Send personalized emails.\n",
    "\n",
    "- **Hibernating:** Make subject lines of emails very personalized. Revive their interest with a specific discount on a specific product.\n",
    "\n",
    "- **Lost:** Revive interest with a reach-out campaign. Ignore otherwise.\n",
    "\n",
    "\n",
    "reference : [bloomreach](https://documentation.bloomreach.com/engagement/docs/rfm-segmentation)\n"
   ]
  }
 ],
 "metadata": {
  "kernelspec": {
   "display_name": "Python 3",
   "language": "python",
   "name": "python3"
  },
  "language_info": {
   "codemirror_mode": {
    "name": "ipython",
    "version": 3
   },
   "file_extension": ".py",
   "mimetype": "text/x-python",
   "name": "python",
   "nbconvert_exporter": "python",
   "pygments_lexer": "ipython3",
   "version": "3.12.0"
  }
 },
 "nbformat": 4,
 "nbformat_minor": 2
}
