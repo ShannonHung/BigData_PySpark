{
 "cells": [
  {
   "cell_type": "code",
   "execution_count": 2,
   "metadata": {},
   "outputs": [],
   "source": [
    "# Load everything\n",
    "\n",
    "import numpy as np # linear algebra\n",
    "import pandas as pd # data processing, CSV file I/O (e.g. pd.read_csv)\n",
    "import os"
   ]
  },
  {
   "cell_type": "code",
   "execution_count": 3,
   "metadata": {},
   "outputs": [],
   "source": [
    "# Read data\n",
    "data_csv = \"../../../2019-Oct.csv\"\n",
    "raw_data = pd.read_csv(data_csv)\n",
    "\n",
    "# Get only purchases\n",
    "only_purchases = raw_data.loc[raw_data.event_type == 'purchase']"
   ]
  },
  {
   "cell_type": "code",
   "execution_count": 4,
   "metadata": {},
   "outputs": [
    {
     "name": "stdout",
     "output_type": "stream",
     "text": [
      "<class 'pandas.core.frame.DataFrame'>\n",
      "Index: 742849 entries, 162 to 42448657\n",
      "Data columns (total 9 columns):\n",
      " #   Column         Non-Null Count   Dtype  \n",
      "---  ------         --------------   -----  \n",
      " 0   event_time     742849 non-null  object \n",
      " 1   event_type     742849 non-null  object \n",
      " 2   product_id     742849 non-null  int64  \n",
      " 3   category_id    742849 non-null  int64  \n",
      " 4   category_code  569424 non-null  object \n",
      " 5   brand          684544 non-null  object \n",
      " 6   price          742849 non-null  float64\n",
      " 7   user_id        742849 non-null  int64  \n",
      " 8   user_session   742849 non-null  object \n",
      "dtypes: float64(1), int64(3), object(5)\n",
      "memory usage: 56.7+ MB\n"
     ]
    }
   ],
   "source": [
    "only_purchases.info()"
   ]
  },
  {
   "cell_type": "code",
   "execution_count": 5,
   "metadata": {},
   "outputs": [],
   "source": [
    "# Get 2019-10-01\n",
    "only_purchases_1day = only_purchases.loc[only_purchases.event_time.str.contains('2019-10-01')]"
   ]
  },
  {
   "cell_type": "code",
   "execution_count": 8,
   "metadata": {},
   "outputs": [],
   "source": [
    "# save to csv\n",
    "only_purchases_1day.to_csv('../../data/only_purchases_1day.csv', index=False)\n"
   ]
  },
  {
   "cell_type": "code",
   "execution_count": 9,
   "metadata": {},
   "outputs": [
    {
     "data": {
      "text/plain": [
       "event_time        object\n",
       "event_type        object\n",
       "product_id         int64\n",
       "category_id        int64\n",
       "category_code     object\n",
       "brand             object\n",
       "price            float64\n",
       "user_id            int64\n",
       "user_session      object\n",
       "dtype: object"
      ]
     },
     "execution_count": 9,
     "metadata": {},
     "output_type": "execute_result"
    }
   ],
   "source": [
    "only_purchases_1day.dtypes"
   ]
  },
  {
   "cell_type": "code",
   "execution_count": 10,
   "metadata": {},
   "outputs": [
    {
     "data": {
      "text/html": [
       "<div>\n",
       "<style scoped>\n",
       "    .dataframe tbody tr th:only-of-type {\n",
       "        vertical-align: middle;\n",
       "    }\n",
       "\n",
       "    .dataframe tbody tr th {\n",
       "        vertical-align: top;\n",
       "    }\n",
       "\n",
       "    .dataframe thead th {\n",
       "        text-align: right;\n",
       "    }\n",
       "</style>\n",
       "<table border=\"1\" class=\"dataframe\">\n",
       "  <thead>\n",
       "    <tr style=\"text-align: right;\">\n",
       "      <th></th>\n",
       "      <th>Date_order</th>\n",
       "      <th>user_id</th>\n",
       "      <th>Quantity</th>\n",
       "      <th>money_spent</th>\n",
       "    </tr>\n",
       "  </thead>\n",
       "  <tbody>\n",
       "    <tr>\n",
       "      <th>0</th>\n",
       "      <td>2019-10-01 06:10:46 UTC</td>\n",
       "      <td>541539898</td>\n",
       "      <td>1</td>\n",
       "      <td>9.76</td>\n",
       "    </tr>\n",
       "    <tr>\n",
       "      <th>1</th>\n",
       "      <td>2019-10-01 13:37:06 UTC</td>\n",
       "      <td>520206104</td>\n",
       "      <td>1</td>\n",
       "      <td>259.98</td>\n",
       "    </tr>\n",
       "    <tr>\n",
       "      <th>2</th>\n",
       "      <td>2019-10-01 14:13:11 UTC</td>\n",
       "      <td>516675926</td>\n",
       "      <td>1</td>\n",
       "      <td>1619.09</td>\n",
       "    </tr>\n",
       "    <tr>\n",
       "      <th>3</th>\n",
       "      <td>2019-10-01 08:31:51 UTC</td>\n",
       "      <td>541146978</td>\n",
       "      <td>1</td>\n",
       "      <td>383.51</td>\n",
       "    </tr>\n",
       "    <tr>\n",
       "      <th>4</th>\n",
       "      <td>2019-10-01 05:49:27 UTC</td>\n",
       "      <td>532770412</td>\n",
       "      <td>2</td>\n",
       "      <td>1507.12</td>\n",
       "    </tr>\n",
       "    <tr>\n",
       "      <th>...</th>\n",
       "      <td>...</td>\n",
       "      <td>...</td>\n",
       "      <td>...</td>\n",
       "      <td>...</td>\n",
       "    </tr>\n",
       "    <tr>\n",
       "      <th>16244</th>\n",
       "      <td>2019-10-01 07:57:39 UTC</td>\n",
       "      <td>549516290</td>\n",
       "      <td>1</td>\n",
       "      <td>453.27</td>\n",
       "    </tr>\n",
       "    <tr>\n",
       "      <th>16245</th>\n",
       "      <td>2019-10-01 11:23:22 UTC</td>\n",
       "      <td>515581326</td>\n",
       "      <td>1</td>\n",
       "      <td>413.14</td>\n",
       "    </tr>\n",
       "    <tr>\n",
       "      <th>16246</th>\n",
       "      <td>2019-10-01 16:23:37 UTC</td>\n",
       "      <td>512440842</td>\n",
       "      <td>1</td>\n",
       "      <td>975.57</td>\n",
       "    </tr>\n",
       "    <tr>\n",
       "      <th>16247</th>\n",
       "      <td>2019-10-01 12:35:37 UTC</td>\n",
       "      <td>555627492</td>\n",
       "      <td>1</td>\n",
       "      <td>66.87</td>\n",
       "    </tr>\n",
       "    <tr>\n",
       "      <th>16248</th>\n",
       "      <td>2019-10-01 04:01:32 UTC</td>\n",
       "      <td>548736783</td>\n",
       "      <td>1</td>\n",
       "      <td>203.35</td>\n",
       "    </tr>\n",
       "  </tbody>\n",
       "</table>\n",
       "<p>16249 rows × 4 columns</p>\n",
       "</div>"
      ],
      "text/plain": [
       "                    Date_order    user_id  Quantity  money_spent\n",
       "0      2019-10-01 06:10:46 UTC  541539898         1         9.76\n",
       "1      2019-10-01 13:37:06 UTC  520206104         1       259.98\n",
       "2      2019-10-01 14:13:11 UTC  516675926         1      1619.09\n",
       "3      2019-10-01 08:31:51 UTC  541146978         1       383.51\n",
       "4      2019-10-01 05:49:27 UTC  532770412         2      1507.12\n",
       "...                        ...        ...       ...          ...\n",
       "16244  2019-10-01 07:57:39 UTC  549516290         1       453.27\n",
       "16245  2019-10-01 11:23:22 UTC  515581326         1       413.14\n",
       "16246  2019-10-01 16:23:37 UTC  512440842         1       975.57\n",
       "16247  2019-10-01 12:35:37 UTC  555627492         1        66.87\n",
       "16248  2019-10-01 04:01:32 UTC  548736783         1       203.35\n",
       "\n",
       "[16249 rows x 4 columns]"
      ]
     },
     "execution_count": 10,
     "metadata": {},
     "output_type": "execute_result"
    }
   ],
   "source": [
    "only_purchases_data_1day=only_purchases_1day.groupby(by='user_session').agg(Date_order=('event_time',lambda x: x.max()),\n",
    "                                                user_id=('user_id',lambda x: x.max()),\n",
    "                                                Quantity=('user_session','count'),\n",
    "                                                money_spent=('price','sum')).reset_index(drop=True)\n",
    "only_purchases_data_1day"
   ]
  },
  {
   "cell_type": "code",
   "execution_count": 11,
   "metadata": {},
   "outputs": [
    {
     "data": {
      "text/html": [
       "<div>\n",
       "<style scoped>\n",
       "    .dataframe tbody tr th:only-of-type {\n",
       "        vertical-align: middle;\n",
       "    }\n",
       "\n",
       "    .dataframe tbody tr th {\n",
       "        vertical-align: top;\n",
       "    }\n",
       "\n",
       "    .dataframe thead th {\n",
       "        text-align: right;\n",
       "    }\n",
       "</style>\n",
       "<table border=\"1\" class=\"dataframe\">\n",
       "  <thead>\n",
       "    <tr style=\"text-align: right;\">\n",
       "      <th></th>\n",
       "      <th>Date_order</th>\n",
       "      <th>user_id</th>\n",
       "      <th>Quantity</th>\n",
       "      <th>money_spent</th>\n",
       "    </tr>\n",
       "  </thead>\n",
       "  <tbody>\n",
       "    <tr>\n",
       "      <th>0</th>\n",
       "      <td>2019-10-06 11:34:30 UTC</td>\n",
       "      <td>546521725</td>\n",
       "      <td>1</td>\n",
       "      <td>289.52</td>\n",
       "    </tr>\n",
       "    <tr>\n",
       "      <th>1</th>\n",
       "      <td>2019-10-25 08:39:11 UTC</td>\n",
       "      <td>560486342</td>\n",
       "      <td>1</td>\n",
       "      <td>171.90</td>\n",
       "    </tr>\n",
       "    <tr>\n",
       "      <th>2</th>\n",
       "      <td>2019-10-17 13:37:59 UTC</td>\n",
       "      <td>560744406</td>\n",
       "      <td>2</td>\n",
       "      <td>379.78</td>\n",
       "    </tr>\n",
       "    <tr>\n",
       "      <th>3</th>\n",
       "      <td>2019-10-15 08:09:02 UTC</td>\n",
       "      <td>520649833</td>\n",
       "      <td>1</td>\n",
       "      <td>90.07</td>\n",
       "    </tr>\n",
       "    <tr>\n",
       "      <th>4</th>\n",
       "      <td>2019-10-23 14:27:08 UTC</td>\n",
       "      <td>534210306</td>\n",
       "      <td>2</td>\n",
       "      <td>571.92</td>\n",
       "    </tr>\n",
       "    <tr>\n",
       "      <th>...</th>\n",
       "      <td>...</td>\n",
       "      <td>...</td>\n",
       "      <td>...</td>\n",
       "      <td>...</td>\n",
       "    </tr>\n",
       "    <tr>\n",
       "      <th>629555</th>\n",
       "      <td>2019-10-29 05:18:45 UTC</td>\n",
       "      <td>565273783</td>\n",
       "      <td>2</td>\n",
       "      <td>2715.20</td>\n",
       "    </tr>\n",
       "    <tr>\n",
       "      <th>629556</th>\n",
       "      <td>2019-10-04 09:01:28 UTC</td>\n",
       "      <td>548691169</td>\n",
       "      <td>1</td>\n",
       "      <td>193.03</td>\n",
       "    </tr>\n",
       "    <tr>\n",
       "      <th>629557</th>\n",
       "      <td>2019-10-14 09:19:57 UTC</td>\n",
       "      <td>560049739</td>\n",
       "      <td>1</td>\n",
       "      <td>131.64</td>\n",
       "    </tr>\n",
       "    <tr>\n",
       "      <th>629558</th>\n",
       "      <td>2019-10-10 12:34:49 UTC</td>\n",
       "      <td>517051774</td>\n",
       "      <td>1</td>\n",
       "      <td>130.12</td>\n",
       "    </tr>\n",
       "    <tr>\n",
       "      <th>629559</th>\n",
       "      <td>2019-10-04 08:53:59 UTC</td>\n",
       "      <td>519348985</td>\n",
       "      <td>1</td>\n",
       "      <td>360.34</td>\n",
       "    </tr>\n",
       "  </tbody>\n",
       "</table>\n",
       "<p>629560 rows × 4 columns</p>\n",
       "</div>"
      ],
      "text/plain": [
       "                     Date_order    user_id  Quantity  money_spent\n",
       "0       2019-10-06 11:34:30 UTC  546521725         1       289.52\n",
       "1       2019-10-25 08:39:11 UTC  560486342         1       171.90\n",
       "2       2019-10-17 13:37:59 UTC  560744406         2       379.78\n",
       "3       2019-10-15 08:09:02 UTC  520649833         1        90.07\n",
       "4       2019-10-23 14:27:08 UTC  534210306         2       571.92\n",
       "...                         ...        ...       ...          ...\n",
       "629555  2019-10-29 05:18:45 UTC  565273783         2      2715.20\n",
       "629556  2019-10-04 09:01:28 UTC  548691169         1       193.03\n",
       "629557  2019-10-14 09:19:57 UTC  560049739         1       131.64\n",
       "629558  2019-10-10 12:34:49 UTC  517051774         1       130.12\n",
       "629559  2019-10-04 08:53:59 UTC  519348985         1       360.34\n",
       "\n",
       "[629560 rows x 4 columns]"
      ]
     },
     "execution_count": 11,
     "metadata": {},
     "output_type": "execute_result"
    }
   ],
   "source": [
    "only_purchases_data=only_purchases.groupby(by='user_session').agg(Date_order=('event_time',lambda x: x.max()),\n",
    "                                                user_id=('user_id',lambda x: x.max()),\n",
    "                                                Quantity=('user_session','count'),\n",
    "                                                money_spent=('price','sum')).reset_index(drop=True)\n",
    "only_purchases_data"
   ]
  },
  {
   "cell_type": "markdown",
   "metadata": {},
   "source": [
    "# use Pyspark to get the data"
   ]
  },
  {
   "cell_type": "code",
   "execution_count": 9,
   "metadata": {},
   "outputs": [],
   "source": [
    "import os \n",
    "import findspark \n",
    "findspark.init()\n",
    "\n",
    "# for sql\n",
    "from pyspark.sql import SparkSession \n",
    "from pyspark.sql.functions import col\n",
    "from pyspark.sql.functions import sum,avg,max,count\n",
    "\n",
    "# for time \n",
    "import time \n",
    "import datetime as dt"
   ]
  },
  {
   "cell_type": "code",
   "execution_count": 10,
   "metadata": {},
   "outputs": [],
   "source": [
    "# 可以改成 *.csv \n",
    "root = '../../data/only_purchases_1day.csv'\n",
    "spark = SparkSession.builder.appName('eCommerce').getOrCreate()"
   ]
  },
  {
   "cell_type": "code",
   "execution_count": 11,
   "metadata": {},
   "outputs": [],
   "source": [
    "\n",
    "ecommerce_1day = spark.read\\\n",
    "    .option(\"inferSchema\", \"true\")\\\n",
    "    .option(\"header\", \"true\")\\\n",
    "    .csv(root)"
   ]
  },
  {
   "cell_type": "code",
   "execution_count": 12,
   "metadata": {},
   "outputs": [],
   "source": [
    "ecommerce_1day.createOrReplaceTempView('ecommerce_2019_oct_1st')"
   ]
  },
  {
   "cell_type": "code",
   "execution_count": 13,
   "metadata": {},
   "outputs": [
    {
     "name": "stdout",
     "output_type": "stream",
     "text": [
      "root\n",
      " |-- event_time: timestamp (nullable = true)\n",
      " |-- event_type: string (nullable = true)\n",
      " |-- product_id: integer (nullable = true)\n",
      " |-- category_id: long (nullable = true)\n",
      " |-- category_code: string (nullable = true)\n",
      " |-- brand: string (nullable = true)\n",
      " |-- price: double (nullable = true)\n",
      " |-- user_id: integer (nullable = true)\n",
      " |-- user_session: string (nullable = true)\n",
      "\n"
     ]
    }
   ],
   "source": [
    "ecommerce_1day.printSchema()"
   ]
  },
  {
   "cell_type": "code",
   "execution_count": 14,
   "metadata": {},
   "outputs": [
    {
     "name": "stdout",
     "output_type": "stream",
     "text": [
      "+--------------------+-------------------+---------+--------+-----------------+\n",
      "|     user_session_id|         Date_order|  user_id|Quantity|      money_spent|\n",
      "+--------------------+-------------------+---------+--------+-----------------+\n",
      "|2af9b570-0942-4dc...|2019-10-01 02:09:26|524601178|       1|           189.91|\n",
      "|62a3b59a-de32-450...|2019-10-01 05:28:56|543624132|       1|           254.76|\n",
      "|3a8a2e45-3c9b-4d1...|2019-10-01 05:31:53|521819296|       1|           360.11|\n",
      "|194fc2ad-6a50-4dc...|2019-10-01 05:57:31|555477458|       1|           130.76|\n",
      "|f70b875e-caf2-4c1...|2019-10-01 06:03:31|550692948|       1|           583.28|\n",
      "|7842bc7f-6fa3-4b3...|2019-10-01 06:09:46|515346540|       1|           738.61|\n",
      "|2ef63cbc-4d37-4bf...|2019-10-01 06:12:59|525109856|       1|           463.02|\n",
      "|8c7c087e-8018-404...|2019-10-01 06:42:17|555484845|       1|            66.88|\n",
      "|420ef1df-cc8f-4a1...|2019-10-01 06:55:56|519083227|       2|           590.98|\n",
      "|ca468ec2-460d-467...|2019-10-01 07:04:24|534550843|       1|           463.31|\n",
      "|54364cf9-1569-4c6...|2019-10-01 08:31:49|544006935|       1|           308.65|\n",
      "|1b80a714-1514-429...|2019-10-01 08:34:28|515015986|       1|            64.33|\n",
      "|08efb6ea-7b6f-494...|2019-10-01 08:36:15|512494095|       1|           174.75|\n",
      "|05be52d9-2856-4b9...|2019-10-01 08:48:28|536362326|       2|716.1999999999999|\n",
      "|26043dcc-51c4-423...|2019-10-01 08:48:11|514104186|       1|           257.38|\n",
      "|31a459fc-f604-4d7...|2019-10-01 08:54:38|521562093|       1|           161.93|\n",
      "|5530107d-0b50-4cf...|2019-10-01 08:56:34|536100803|       1|           254.76|\n",
      "|e2e7b119-8182-417...|2019-10-01 09:10:58|529522955|       1|           137.84|\n",
      "|5d502294-1149-41c...|2019-10-01 09:17:30|512382808|       1|           286.35|\n",
      "|1725873e-807a-470...|2019-10-01 09:45:57|541834315|       1|             71.3|\n",
      "+--------------------+-------------------+---------+--------+-----------------+\n",
      "only showing top 20 rows\n",
      "\n"
     ]
    }
   ],
   "source": [
    "from pyspark.sql import functions as F\n",
    "\n",
    "# Assuming your DataFrame is named only_purchases_1day and is a Spark DataFrame\n",
    "spark_data_1day = (ecommerce_1day\n",
    "                            .groupBy(\"user_session\")\n",
    "                            .agg(\n",
    "                                F.max(\"event_time\").alias(\"Date_order\"),\n",
    "                                F.max(\"user_id\").alias(\"user_id\"),\n",
    "                                F.count(\"user_session\").alias(\"Quantity\"),\n",
    "                                F.sum(\"price\").alias(\"money_spent\")\n",
    "                            )\n",
    "                            .withColumnRenamed(\"user_session\", \"user_session_id\")\n",
    "                           )\n",
    "spark_data_1day.show()"
   ]
  },
  {
   "cell_type": "code",
   "execution_count": 15,
   "metadata": {},
   "outputs": [
    {
     "name": "stdout",
     "output_type": "stream",
     "text": [
      "Number of rows: 16249\n",
      "average_price_specified_period: [Row(avg(money_spent)=386.23693827312155)]\n",
      "Time taken: 0.4167046546936035 sec\n"
     ]
    }
   ],
   "source": [
    "\n",
    "print(f'Number of rows: {spark_data_1day.count()}')\n",
    "\n",
    "start = time.time() \n",
    "# calculate average price for specified period\n",
    "average_price_1day = spark_data_1day.agg(avg(\"money_spent\")).collect()\n",
    "print(f'average_price_specified_period: {average_price_1day}')\n",
    "print(f'Time taken: {time.time() - start} sec')"
   ]
  },
  {
   "cell_type": "markdown",
   "metadata": {},
   "source": [
    "## calculate average price for 1 month"
   ]
  },
  {
   "cell_type": "code",
   "execution_count": 16,
   "metadata": {},
   "outputs": [],
   "source": [
    "all_csv='../../../2019-Oct.csv'\n",
    "ecommerce_1month = spark.read\\\n",
    "    .option(\"inferSchema\", \"true\")\\\n",
    "    .option(\"header\", \"true\")\\\n",
    "    .csv(all_csv)"
   ]
  },
  {
   "cell_type": "code",
   "execution_count": 17,
   "metadata": {},
   "outputs": [
    {
     "name": "stdout",
     "output_type": "stream",
     "text": [
      "+--------------------+-------------------+---------+--------+------------------+\n",
      "|     user_session_id|         Date_order|  user_id|Quantity|       money_spent|\n",
      "+--------------------+-------------------+---------+--------+------------------+\n",
      "|c3012f56-70f3-419...|2019-10-01 02:03:35|519829701|       1|            975.57|\n",
      "|2af9b570-0942-4dc...|2019-10-01 02:09:54|524601178|       3|            569.73|\n",
      "|78c0b329-af93-44f...|2019-10-01 02:13:26|519194796|       1|            115.32|\n",
      "|c7e588c7-78a9-403...|2019-10-01 04:18:59|512694696|       2|           1822.26|\n",
      "|a6b41834-75dd-4cd...|2019-10-01 04:24:02|400972610|       5|            162.25|\n",
      "|898ff23f-fc70-423...|2019-10-01 04:30:26|525268787|       3|            169.38|\n",
      "|85881243-7b33-409...|2019-10-01 04:25:47|517438582|       3|            339.01|\n",
      "|b36c1441-930a-4a6...|2019-10-01 04:24:22|537486678|       1|            308.37|\n",
      "|fa1df743-4ef7-427...|2019-10-01 05:20:31|513384234|       9|            601.32|\n",
      "|ce054142-5e1d-4ed...|2019-10-01 04:28:32|512766806|       2|            406.65|\n",
      "|90551c19-3a04-45b...|2019-10-01 04:31:46|517931426|       1|            771.93|\n",
      "|b6773cc5-61cc-4a1...|2019-10-01 04:46:22|555463789|      37|12541.930000000002|\n",
      "|051fa0c1-a1c1-427...|2019-10-01 04:33:40|514948480|       3|           1000.71|\n",
      "|75f3f39e-cc56-456...|2019-10-01 04:35:04|513604637|       2| 84.16999999999999|\n",
      "|0043d905-2c15-49e...|2019-10-01 04:45:17|516062272|       2|            894.28|\n",
      "|3415a6bc-0834-443...|2019-10-01 04:39:09|513250186|       1|            282.89|\n",
      "|73641920-7de0-4a1...|2019-10-01 04:41:29|517859956|       1|            216.53|\n",
      "|75d53d48-1b99-4f9...|2019-10-01 04:45:47|522776854|       2|           2826.32|\n",
      "|99d4006e-a197-4ad...|2019-10-01 04:46:30|520169956|       1|            156.76|\n",
      "|7bd5fe2b-5e36-445...|2019-10-01 04:51:42|519177526|       6|6834.9400000000005|\n",
      "+--------------------+-------------------+---------+--------+------------------+\n",
      "only showing top 20 rows\n",
      "\n"
     ]
    }
   ],
   "source": [
    "# Assuming your DataFrame is named only_purchases_1day and is a Spark DataFrame\n",
    "spark_data_1month = (ecommerce_1month\n",
    "                            .groupBy(\"user_session\")\n",
    "                            .agg(\n",
    "                                F.max(\"event_time\").alias(\"Date_order\"),\n",
    "                                F.max(\"user_id\").alias(\"user_id\"),\n",
    "                                F.count(\"user_session\").alias(\"Quantity\"),\n",
    "                                F.sum(\"price\").alias(\"money_spent\")\n",
    "                            )\n",
    "                            .withColumnRenamed(\"user_session\", \"user_session_id\")\n",
    "                           )\n",
    "spark_data_1month.show()"
   ]
  },
  {
   "cell_type": "code",
   "execution_count": 19,
   "metadata": {},
   "outputs": [
    {
     "name": "stdout",
     "output_type": "stream",
     "text": [
      "Number of rows: 9244422\n",
      "average_price_specified_period: [Row(avg(money_spent)=1333.1153160283807)]\n",
      "Time taken: 19.60007882118225 sec\n"
     ]
    }
   ],
   "source": [
    "print(f'Number of rows: {spark_data_1month.count()}')\n",
    "\n",
    "start = time.time() \n",
    "average_price = spark_data_1month.agg(avg(\"money_spent\")).collect()\n",
    "print(f'average_price_specified_period: {average_price}')\n",
    "\n",
    "# calculate average price for specified period\n",
    "print(f'Time taken: {time.time() - start} sec')"
   ]
  }
 ],
 "metadata": {
  "kernelspec": {
   "display_name": "spark",
   "language": "python",
   "name": "python3"
  },
  "language_info": {
   "codemirror_mode": {
    "name": "ipython",
    "version": 3
   },
   "file_extension": ".py",
   "mimetype": "text/x-python",
   "name": "python",
   "nbconvert_exporter": "python",
   "pygments_lexer": "ipython3",
   "version": "3.8.18"
  }
 },
 "nbformat": 4,
 "nbformat_minor": 2
}
