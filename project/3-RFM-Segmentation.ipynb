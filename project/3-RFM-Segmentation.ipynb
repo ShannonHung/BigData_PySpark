{
 "cells": [
  {
   "cell_type": "markdown",
   "metadata": {},
   "source": [
    "For better look in jupyternotebook. Please execute the following cell."
   ]
  },
  {
   "cell_type": "code",
   "execution_count": null,
   "metadata": {},
   "outputs": [],
   "source": [
    "%%HTML\n",
    "<style>\n",
    "    body {\n",
    "        --vscode-font-family: \"LXGW WenKai\";\n",
    "        line-height: 2; Í\n",
    "    }\n",
    "</style>"
   ]
  },
  {
   "cell_type": "code",
   "execution_count": null,
   "metadata": {},
   "outputs": [],
   "source": [
    "import os \n",
    "import findspark \n",
    "findspark.init()\n",
    "\n",
    "# for sql\n",
    "from pyspark.sql import SparkSession \n",
    "from pyspark.sql import functions as F\n",
    "from pyspark.sql.functions import col, when, sum,avg,max,count\n",
    "from pyspark.sql.types import StructType, StructField, StringType, IntegerType, DateType, DoubleType, LongType, TimestampType\n",
    "\n",
    "# for time \n",
    "import datetime as dt\n",
    "import psutil\n",
    "\n",
    "# for plot\n",
    "import matplotlib.pyplot as plt\n",
    "import squarify\n",
    "\n",
    "\n",
    "\n"
   ]
  },
  {
   "cell_type": "code",
   "execution_count": null,
   "metadata": {},
   "outputs": [],
   "source": [
    "# Definieren des Schemas basierend auf der Struktur\n",
    "schema = StructType([\n",
    "    StructField(\"event_time\", TimestampType(), True),\n",
    "    StructField(\"event_type\", StringType(), True),\n",
    "    StructField(\"product_id\", IntegerType(), True),\n",
    "    StructField(\"category_id\", LongType(), True),\n",
    "    StructField(\"category_code\", StringType(), True),\n",
    "    StructField(\"brand\", StringType(), True),\n",
    "    StructField(\"price\", DoubleType(), True),\n",
    "    StructField(\"user_id\", IntegerType(), True),\n",
    "    StructField(\"user_session\", StringType(), True)\n",
    "])"
   ]
  },
  {
   "cell_type": "markdown",
   "metadata": {},
   "source": [
    "# RFM-Segmentation\n",
    "\n",
    "This section aims at solving a big data use case demonstrated by the RFM-Segmentation.\n",
    "A short introduction to RFM-Analysis and the RFM-Segmentation\n",
    "\n",
    "### RFM Analysis\n",
    "RFM is a method used for analyzing customer value. It is commonly used in database marketing and direct marketing and has received particular attention in retail and professional services industries.\n",
    "\n",
    "RFM stands for the three dimensions:\n",
    "\n",
    "* Recency – How recently did the customer purchase?\n",
    "* Frequency – How often do they purchase?\n",
    "* Monetary Value – How much do they spend?\n",
    "\n",
    "source: [wikipedia](https://en.wikipedia.org/wiki/RFM_(market_research))\n",
    "\n",
    "so we will calculate the 3 attributes Recency, Frequency, and Monetary\n",
    "\n",
    "### RFM Segmentation\n",
    "\n",
    "RFM segmentation is a useful tool for identifying groups of clients who should be given extra attention. RFM segmentation enables marketers to target specific groups of customers with communications that are far more relevant to their unique behaviors, resulting in improved response rates, enhanced loyalty, and increased customer lifetime value. RFM segmentation is a method for segmenting data, just like other approaches.\n",
    "\n",
    "The simplest way to create customers segments from RFM Model is to use Quartiles. We assign a score from 1 to 4 to Recency, Frequency and Monetary. Four is the best/highest value, and one is the lowest/worst value. A final RFM score is calculated simply by combining individual RFM score numbers.\n",
    "\n",
    "\n",
    "The Code is divided into multiple phases:\n",
    "\n",
    "1. Spark Session Initialization\n",
    "\n",
    "    Initializes a SparkSession with a specified master node and application name \"rfm-segmentation\".\n",
    "    This is the starting point for any Spark application and is used for configuring Spark's settings.\n",
    "\n",
    "2. Data Loading and Initial Processing\n",
    "\n",
    "    Reads an ecommerce CSV file into a Spark DataFrame with a predefined schema and prints the schema to confirm the data structure.\n",
    "    It filters the data to include only purchase events and caches the result for efficient access during further transformations.\n",
    "\n",
    "3. Data Aggregation\n",
    "\n",
    "    Groups the filtered purchase data by \"user_session\" and aggregates it to compute the maximum event time, unique user IDs, count of sessions, and total money spent per session.\n",
    "    This aggregated data is then used to derive insights on user behavior within the ecommerce platform.\n",
    "\n",
    "4. Data Preparation for RFM Analysis\n",
    "\n",
    "    This step prepares the data for RFM segmentation by determining how recently and frequently each user has made purchases and how much they have spent.\n",
    "\n",
    "5. RFM Segmentation Calculation\n",
    "\n",
    "    Performs RFM analysis by grouping data on a user level and calculating Recency, Frequency, and Monetary values.\n",
    "    Determines quantiles for Recency, Frequency, and Monetary to classify users into different segments based on their behavior.\n",
    "\n",
    "6. RFM Score Assignment\n",
    "\n",
    "    Assigns RFM quartiles and scores to each user based on the calculated quantiles. This involves categorizing users into segments such as \"Lost\", \"Hibernating\", etc., based on their RFM scores.\n",
    "    The RFM score is a composite score given to each customer to represent their overall value to the business.\n",
    "\n",
    "7. RFM Labeling and Segmentation Summary\n",
    "\n",
    "    Further refines the RFM segments by assigning descriptive labels based on the RFM score.\n",
    "    Aggregates the final RFM results to calculate average Recency, Frequency, and Monetary values for each segment, along with the size of each segment.\n",
    "\n",
    "8. Visualization\n",
    "\n",
    "    The final part of the code involves creating a visualization of the RFM segments using a squarify plot to represent the size of each segment visually. This helpf for understanding the distribution of users across different RFM segments."
   ]
  },
  {
   "cell_type": "code",
   "execution_count": null,
   "metadata": {},
   "outputs": [],
   "source": [
    "# for Recency\n",
    "def R(x, q1, q2, q3):\n",
    "    if x <= q1:\n",
    "        return 1\n",
    "    elif x <= q2:\n",
    "        return 2\n",
    "    elif x <= q3:\n",
    "        return 3\n",
    "    else:\n",
    "        return 4\n",
    "\n",
    "# for Frequency und Monetary\n",
    "def FM(x, q1, q2, q3):\n",
    "    if x <= q1:\n",
    "        return 4\n",
    "    elif x <= q2:\n",
    "        return 3\n",
    "    elif x <= q3:\n",
    "        return 2\n",
    "    else:\n",
    "        return 1\n",
    "\n",
    "def run_rfm_segmentation(mastername, dateiname, schema):\n",
    "    \n",
    "    memory = psutil.virtual_memory()\n",
    "    print(f\"Memory Usage: {memory.percent}%\")\n",
    "\n",
    "    \n",
    "    disk_io_start = psutil.disk_io_counters()\n",
    "    \n",
    "            \n",
    "#---------------- Phase 1\n",
    "\n",
    "    spark = SparkSession.builder \\\n",
    "        .master(mastername) \\\n",
    "        .appName(\"rfm-segmentation\") \\\n",
    "        .getOrCreate()\n",
    "        \n",
    "#---------------- Phase 2\n",
    "    \n",
    "    ecommerce = spark.read.csv(dateiname, schema=schema, header=True)\n",
    "\n",
    "    print(ecommerce.rdd.getNumPartitions())\n",
    "    only_purchases = ecommerce.filter(col(\"event_type\") == 'purchase').cache()\n",
    "\n",
    "        \n",
    "#---------------- Phase 3\n",
    "\n",
    "    aggregated_data = only_purchases.groupBy(\"user_session\") \\\n",
    "        .agg(\n",
    "            F.max(\"event_time\").alias(\"Date_order\"),\n",
    "            F.collect_set(\"user_id\").alias(\"user_id\"),  \n",
    "            F.count(\"user_session\").alias(\"Quantity\"),\n",
    "            F.sum(\"price\").alias(\"money_spent\")\n",
    "        )\n",
    "\n",
    "         \n",
    "#---------------- Phase 4  \n",
    "    \n",
    "    study_date = dt.datetime(2019, 12, 1)\n",
    "\n",
    "    \n",
    "    data = aggregated_data.withColumn(\"Date_order\", F.col(\"Date_order\").cast(DateType()))\n",
    "\n",
    "    \n",
    "    data = data.withColumn(\"last_purchase\", F.datediff(F.lit(study_date), \"Date_order\"))\n",
    "\n",
    "        \n",
    "\n",
    "\n",
    "    RFM_result = data.groupBy(\"user_id\") \\\n",
    "        .agg(\n",
    "            F.min(\"last_purchase\").alias(\"Recency\"),\n",
    "            F.count(\"user_id\").alias(\"Frequency\"),\n",
    "            F.sum(\"money_spent\").alias(\"Monetary\")\n",
    "        )\n",
    "\n",
    "        \n",
    "#---------------- Phase 5\n",
    " \n",
    "    quantile_probs = [0.25, 0.5, 0.75]\n",
    "    rel_error = 0.01  \n",
    "\n",
    "    \n",
    "    recency_quantiles = RFM_result.stat.approxQuantile(\"Recency\", quantile_probs, rel_error)\n",
    "    frequency_quantiles = RFM_result.stat.approxQuantile(\"Frequency\", quantile_probs, rel_error)\n",
    "    monetary_quantiles = RFM_result.stat.approxQuantile(\"Monetary\", quantile_probs, rel_error)\n",
    "\n",
    "    \n",
    "    quartiles = {\n",
    "        'Recency': dict(zip(quantile_probs, recency_quantiles)),\n",
    "        'Frequency': dict(zip(quantile_probs, frequency_quantiles)),\n",
    "        'Monetary': dict(zip(quantile_probs, monetary_quantiles))\n",
    "    }\n",
    "\n",
    "    #\n",
    "    recency_quartiles = [quartiles['Recency'][0.25], quartiles['Recency'][0.50], quartiles['Recency'][0.75]]\n",
    "    frequency_quartiles = [quartiles['Frequency'][0.25], quartiles['Frequency'][0.50], quartiles['Frequency'][0.75]]\n",
    "    monetary_quartiles = [quartiles['Monetary'][0.25], quartiles['Monetary'][0.50], quartiles['Monetary'][0.75]]\n",
    "\n",
    "        \n",
    "#---------------- Phase 6\n",
    "\n",
    "    RFM_result = RFM_result.withColumn('R_Quartile', \n",
    "        when(col('Recency') <= recency_quartiles[0], 1)\n",
    "        .when(col('Recency') <= recency_quartiles[1], 2)\n",
    "        .when(col('Recency') <= recency_quartiles[2], 3)\n",
    "        .otherwise(4))\n",
    "\n",
    "    RFM_result = RFM_result.withColumn('F_Quartile', \n",
    "        when(col('Frequency') <= frequency_quartiles[0], 4)\n",
    "        .when(col('Frequency') <= frequency_quartiles[1], 3)\n",
    "        .when(col('Frequency') <= frequency_quartiles[2], 2)\n",
    "        .otherwise(1))\n",
    "\n",
    "    RFM_result = RFM_result.withColumn('M_Quartile', \n",
    "        when(col('Monetary') <= monetary_quartiles[0], 4)\n",
    "        .when(col('Monetary') <= monetary_quartiles[1], 3)\n",
    "        .when(col('Monetary') <= monetary_quartiles[2], 2)\n",
    "        .otherwise(1))\n",
    "\n",
    "\n",
    "    RFM_result = RFM_result.withColumn('RFM_segmentation', \n",
    "        col('R_Quartile').cast(StringType()) + \n",
    "        col('F_Quartile').cast(StringType()) + \n",
    "        col('M_Quartile').cast(StringType()))\n",
    "\n",
    "    RFM_result = RFM_result.withColumn('RFM_score', \n",
    "        col('R_Quartile') + \n",
    "        col('F_Quartile') + \n",
    "        col('M_Quartile'))\n",
    "\n",
    "        \n",
    "#---------------- Phase 7\n",
    "\n",
    "    RFM_result = RFM_result.withColumn('RFM_label', \n",
    "        when(col('RFM_score') >= 10, 'Lost')\n",
    "        .when(col('RFM_score') >= 9, 'Hibernating')\n",
    "        .when(col('RFM_score') >= 8, 'Can’t Lose Them')\n",
    "        .when(col('RFM_score') >= 7, 'About To Sleep')\n",
    "        .when(col('RFM_score') >= 6, 'Promising')\n",
    "        .when(col('RFM_score') >= 5, 'Potential Loyalist')\n",
    "        .when(col('RFM_score') >= 4, 'Loyal Customers')\n",
    "        .otherwise('Champions'))\n",
    "\n",
    " \n",
    "    RFM_desc = RFM_result.groupBy('RFM_label').agg(\n",
    "        F.mean('Recency').alias('Average_Recency'),\n",
    "        F.mean('Frequency').alias('Average_Frequency'),\n",
    "        F.mean('Monetary').alias('Average_Monetary'),\n",
    "        F.count('RFM_label').alias('Segment_Size')\n",
    "    )\n",
    "\n",
    "\n",
    "    RFM_desc = RFM_desc.select(\n",
    "        'RFM_label',\n",
    "        F.round('Average_Recency', 1).alias('Average_Recency'),\n",
    "        F.round('Average_Frequency', 1).alias('Average_Frequency'),\n",
    "        F.round('Average_Monetary', 1).alias('Average_Monetary'),\n",
    "        'Segment_Size'\n",
    "    )\n",
    "\n",
    "\n",
    "    RFM_desc.show()\n",
    "\n",
    "\n",
    "    sizes = RFM_desc.select(\"Segment_Size\").rdd.flatMap(lambda x: x).collect()\n",
    "    labels = RFM_desc.select(\"RFM_label\").rdd.flatMap(lambda x: x).collect()\n",
    "\n",
    "        \n",
    "#---------------- Phase 8\n",
    "\n",
    "    #fig = plt.gcf()\n",
    "    #ax = fig.add_subplot()\n",
    "    #fig.set_size_inches(16, 9)\n",
    "\n",
    "\n",
    "    #squarify.plot(sizes=sizes, label=labels, alpha=.6)\n",
    "    #plt.title(\"RFM Segments\", fontsize=18, fontweight=\"bold\")\n",
    "    #plt.axis('off')\n",
    "    \n",
    "    disk_io_end = psutil.disk_io_counters()\n",
    "\n",
    "    read_bytes = disk_io_end.read_bytes - disk_io_start.read_bytes\n",
    "    write_bytes = disk_io_end.write_bytes - disk_io_start.write_bytes\n",
    "\n",
    "    print(f\"Read: {read_bytes / 1024 / 1024:.2f} MB, Write: {write_bytes / 1024 / 1024:.2f} MB\")\n"
   ]
  },
  {
   "cell_type": "markdown",
   "metadata": {},
   "source": [
    "# Data Scaling (Cluster)\n",
    "\n",
    "In this section we want to provide an overview for scaling our spark application based on a local standalone cluster setup\n",
    "\n",
    "Therefore we compare the total time of the application and the important metrics of the longest job of the aplication based on different cluster configurations.\n",
    "\n",
    "**To accurately setup the test invorement for the cluster, use the terminal to create the master node and the worker node(s)\n",
    "The following code has to be excecuted in the bin folder of your spark installation.**\n",
    "\n",
    "master node:\n",
    "spark-class org.apache.spark.deploy.master.Master\n",
    "\n",
    "worker node:\n",
    "spark-class org.apache.spark.deploy.worker.Worker spark://<masternode-ip>:<masternode-port>\n",
    "\n",
    "*The base configuration for worker nodes is 15.0 GiB (1024.0 MiB Used) of RAM and 10 Cores .\n",
    "The worker can be configured by using --cores x for the number of cores and --memory x for the associated RAM.*\n",
    "\n",
    "e.g.\n",
    "\n",
    "./spark-class org.apache.spark.deploy.worker.Worker \\\n",
    "    --cores 5 \\\n",
    "    spark://100.119.9.7:7077\n",
    "\n",
    "./spark-class org.apache.spark.deploy.worker.Worker \\\n",
    "    --memory 512m \\\n",
    "    spark://100.119.9.7:7077\n",
    "\n",
    "After creating the cluster, change the \"spark://<masternode-ip>:<masternode-port>\" of the cluster the test according to your cluster.\n",
    "\n",
    "The setup for the test cases is as followed:\n",
    "\n",
    "\n",
    "| Mastername   | Cores          | Memory       | Workers  |\n",
    "|--------------|----------------|--------------|----------|\n",
    "| master1Worker| Base config    |     Base config         | 1 worker |\n",
    "| master2Worker| Base config    |      Base config         | 2 workers|\n",
    "| master3Worker| Base config           |     Base config          | 3 workers|\n",
    "| master6Worker| Base config            |      Base config         | 6 workers|\n",
    "| master2Core  | 2 cores        |      Base config         | 3 workers|\n",
    "| master5Core  | 5 cores        |      Base config         | 3 workers|\n",
    "| master1024MB  |     Base config            | 1024m         | 3 workers|\n",
    "| master2048MB  |      Base config           | 2048m         | 3 workers|\n",
    "| master4096MB  |       Base config          | 4096m         | 3 workers|\n",
    "\n",
    "**Change the path of the data according to your system.**"
   ]
  },
  {
   "cell_type": "code",
   "execution_count": null,
   "metadata": {},
   "outputs": [],
   "source": [
    "# data with different sizes\n",
    "smallData = '../data/only_purchases_1day.csv'\n",
    "mediumData = '../data/2019-Oct.csv'\n",
    "bigData = '../data/*.csv'\n",
    "\n",
    "# the clusters for the tests\n",
    "master1Worker = \"spark://100.119.9.7:7077\"\n",
    "master2Worker = \"spark://100.119.9.7:7077\"\n",
    "master3Worker = \"spark://100.119.9.7:7077\"\n",
    "master6Worker = \"spark://100.119.9.7:7077\"\n",
    "master2Core = \"spark://100.119.9.7:7077\"\n",
    "master5Core = \"spark://100.119.9.7:7077\"\n",
    "master1024MB = \"spark://100.119.9.7:7077\"\n",
    "master2048MB = \"spark://100.119.9.7:7077\"\n",
    "master4096B = \"spark://100.119.9.7:7077\"\n"
   ]
  },
  {
   "cell_type": "markdown",
   "metadata": {},
   "source": [
    "## Data Scalability (Cluster)"
   ]
  },
  {
   "cell_type": "markdown",
   "metadata": {},
   "source": [
    "### Test 1: using cluster with Small Data and 3 Workers"
   ]
  },
  {
   "cell_type": "code",
   "execution_count": null,
   "metadata": {},
   "outputs": [],
   "source": [
    "#run_rfm_segmentation(master3Worker, smallData, schema)"
   ]
  },
  {
   "cell_type": "markdown",
   "metadata": {},
   "source": [
    "![Image](https://i.imgur.com/6S8cOtp.png)"
   ]
  },
  {
   "cell_type": "markdown",
   "metadata": {},
   "source": [
    "- Start time: 16:01:49\n",
    "- End time: 16:02:24\n",
    "- Total time: 35s"
   ]
  },
  {
   "cell_type": "markdown",
   "metadata": {},
   "source": [
    "![Image](https://i.imgur.com/kOnBKN0.png)"
   ]
  },
  {
   "cell_type": "markdown",
   "metadata": {},
   "source": [
    "You can observe through the Spark UI that there are\n",
    "- 1 Task\n",
    "- Time: Executor1 3s\n",
    "- Input Executor1 Size: 2.6MiB"
   ]
  },
  {
   "cell_type": "markdown",
   "metadata": {},
   "source": [
    "### Test 2: using cluster with Medium Data and 3 Workers"
   ]
  },
  {
   "cell_type": "code",
   "execution_count": null,
   "metadata": {},
   "outputs": [],
   "source": [
    "#run_rfm_segmentation(master3Worker, mediumData, schema)"
   ]
  },
  {
   "cell_type": "markdown",
   "metadata": {},
   "source": [
    "![Image](https://i.imgur.com/FsKBTvP.png)"
   ]
  },
  {
   "cell_type": "markdown",
   "metadata": {},
   "source": [
    "- Start time: 19:35:40\n",
    "- End time: 19:41:14\n",
    "- Total time: 5.3min"
   ]
  },
  {
   "cell_type": "markdown",
   "metadata": {},
   "source": [
    "![Image](https://i.imgur.com/iqcnbAP.png)"
   ]
  },
  {
   "cell_type": "markdown",
   "metadata": {},
   "source": [
    "You can observe through the Spark UI that there are\n",
    "- 43 Tasks\n",
    "- Time: Executor1 3.6 min, Executor2 4.5 min,  Executor3 3.7 min\n",
    "- Input Size: Executor1 1.3GiB, Executor2 2.5GiB,  Executor3 1.5GiB"
   ]
  },
  {
   "cell_type": "markdown",
   "metadata": {},
   "source": [
    "### Test 3: using cluster with Big Data and 3 Workers"
   ]
  },
  {
   "cell_type": "code",
   "execution_count": null,
   "metadata": {},
   "outputs": [],
   "source": [
    "#run_rfm_segmentation(master3Worker, bigData, schema)"
   ]
  },
  {
   "cell_type": "markdown",
   "metadata": {},
   "source": [
    "![Image](https://i.imgur.com/PBxDc9d.png)"
   ]
  },
  {
   "cell_type": "markdown",
   "metadata": {},
   "source": [
    "- Start time: 17:17:29\n",
    "- End time: 17:18:59\n",
    "- Total time: 1.3min"
   ]
  },
  {
   "cell_type": "markdown",
   "metadata": {},
   "source": [
    "![Image](https://i.imgur.com/Vn8U7hK.png)"
   ]
  },
  {
   "cell_type": "markdown",
   "metadata": {},
   "source": [
    "You can observe through the Spark UI that there are\n",
    "- 422 Tasks\n",
    "- Time: Executor1 29 min, Executor2 28 min,  Executor3 29 min\n",
    "- Input Size: Executor1 18.1GiB, Executor2 17.5GiB,  Executor3 17.1GiB"
   ]
  },
  {
   "cell_type": "markdown",
   "metadata": {},
   "source": [
    "**Conclusion Data Scalability (Cluster)**\n",
    "| Test ID | Datasize          | Application Time |\n",
    "|---------|-------------------|------------------|\n",
    "| 1       | 2.7MiB / 15959  |  35s          |\n",
    "| 2       | 5.7GiB / 15959  | 5.3min           |\n",
    "| 3       | 52.6GiB / 15959  | 1.3min           |\n",
    "\n",
    "This table show how our application processes data of different sizes and how long it takes. Initially, when the data size increases from a small 2.7MB in Test 1 to a much larger 5.7GB in Test 2, the time it takes to process this data goes up from 35 seconds to roughly 5.3 minutes. The data size increase from 2.7MiB to 5.7GiB is approximately 216,077.78%, and the increase in processing time from 35 seconds to 5.3 minutes is about 808.57%. This showcases a good scalibility as the time increase is a lot less in comparison the the file size increase.\n",
    "\n",
    "In the comparision of Test ID 2 and Test ID 3 this application showcases even superlinear scalability. The application time increases from 5.3min to 1.3min while increasing the size of the input data from 5.7GiB to 52.6GiB. This i likely caused by the caching of dataframes. It seems like this results in a high scalabilty for big Data\n",
    "\n",
    "| Test ID | Tasks | Executor1 Time | Executor2 Time | Executor3 Time | Executor1 Input Size | Executor2 Input Size | Executor3 Input Size |\n",
    "|---------|-------|----------------|----------------|----------------|----------------------|----------------------|----------------------|\n",
    "| 1       | 1     | 3s             | -              | -              | 2.6MiB               | -                    | -                    |\n",
    "| 2       | 43    | 3.6 min        | 4.5 min        | 3.7 min        | 1.3GiB               | 2.5GiB               | 1.5GiB               |\n",
    "| 3       | 422   | 29 min         | 28 min         | 29 min         | 18.1GiB              | 17.5GiB              | 17.1GiB              |\n",
    "\n",
    "In the context of a Spark standalone cluster, the data from the table clearly shows how more tasks lead to increased processing time and data volume. Starting with Test ID 1, there's only a single task, so it's quick and requires little data. Moving to Test ID 2 with 43 tasks, both processing time and data volume jump because the system is handling more work. By Test ID 3, with 422 tasks, these metrics increase dramatically, highlighting the system's heavier workload.\n",
    "\n",
    "This escalation is due to the cluster dealing with more tasks, each bringing its own set of data. But, the efficiency of processing these tasks isn't just about the volume of data; it's also about how these tasks are distributed and executed across the cluster. Proper task management is crucial to prevent any part of the cluster from being overwhelmed, ensuring smooth and efficient operation. This principle is fundamental in Spark standalone clusters, where balancing the workload can significantly impact performance, especially in systems with finite resources like a predetermined number of CPU cores."
   ]
  },
  {
   "cell_type": "markdown",
   "metadata": {},
   "source": [
    "## Cluster Scalabilty"
   ]
  },
  {
   "cell_type": "markdown",
   "metadata": {},
   "source": [
    "### Test 4: using cluster with 1 Worker"
   ]
  },
  {
   "cell_type": "code",
   "execution_count": null,
   "metadata": {},
   "outputs": [],
   "source": [
    "#run_rfm_segmentation(master1Worker, bigData, schema)"
   ]
  },
  {
   "cell_type": "markdown",
   "metadata": {},
   "source": [
    "![Image](https://i.imgur.com/VCuNv9i.png)"
   ]
  },
  {
   "cell_type": "markdown",
   "metadata": {},
   "source": [
    "- Start time: 17:22:55\n",
    "- End time: 17:29:16\n",
    "- Total time: 6.2min"
   ]
  },
  {
   "cell_type": "markdown",
   "metadata": {},
   "source": [
    "![Image](https://i.imgur.com/ya8taRG.png)"
   ]
  },
  {
   "cell_type": "markdown",
   "metadata": {},
   "source": [
    "![Image](https://i.imgur.com/GDydicD.png)"
   ]
  },
  {
   "cell_type": "markdown",
   "metadata": {},
   "source": [
    "You can observe through the Spark UI that there are\n",
    "- Median Duration: 6s\n",
    "- Median GC Time: 0.3s\n",
    "- Median Input Size / Records: 128.1/15959"
   ]
  },
  {
   "cell_type": "markdown",
   "metadata": {},
   "source": [
    "### Test 5: using cluster with 2 Workers"
   ]
  },
  {
   "cell_type": "code",
   "execution_count": null,
   "metadata": {},
   "outputs": [],
   "source": [
    "#run_rfm_segmentation(master2Worker, bigData, schema)"
   ]
  },
  {
   "cell_type": "markdown",
   "metadata": {},
   "source": [
    "![Image](https://i.imgur.com/Dxw55kJ.png)"
   ]
  },
  {
   "cell_type": "markdown",
   "metadata": {},
   "source": [
    "- Start time: 19:08:34\n",
    "- End time: 19:17:01\n",
    "- Total time: 8.3min"
   ]
  },
  {
   "cell_type": "markdown",
   "metadata": {},
   "source": [
    "![Image](https://i.imgur.com/4jWtuoD.png)"
   ]
  },
  {
   "cell_type": "markdown",
   "metadata": {},
   "source": [
    "![Image](https://i.imgur.com/svWLThS.png)"
   ]
  },
  {
   "cell_type": "markdown",
   "metadata": {},
   "source": [
    "You can observe through the Spark UI that there are\n",
    "- Median Duration: 7s\n",
    "- Median GC Time: 0.5s\n",
    "- Median Input Size / Records: 128.1/15959"
   ]
  },
  {
   "cell_type": "markdown",
   "metadata": {},
   "source": [
    "### Test 6: using cluster with 3 Workers (basis config) "
   ]
  },
  {
   "cell_type": "code",
   "execution_count": null,
   "metadata": {},
   "outputs": [],
   "source": [
    "#run_rfm_segmentation(master3Worker, bigData, schema)"
   ]
  },
  {
   "cell_type": "markdown",
   "metadata": {},
   "source": [
    "![Image](https://i.imgur.com/L2aTW3n.png)"
   ]
  },
  {
   "cell_type": "markdown",
   "metadata": {},
   "source": [
    "- Start time: 19:44:26\n",
    "- End time: 19:49:48\n",
    "- Total time: 5.2min"
   ]
  },
  {
   "cell_type": "markdown",
   "metadata": {},
   "source": [
    "![Image](https://i.imgur.com/k8XOZAe.png)"
   ]
  },
  {
   "cell_type": "markdown",
   "metadata": {},
   "source": [
    "![Image](https://i.imgur.com/9Zcj7dU.png)"
   ]
  },
  {
   "cell_type": "markdown",
   "metadata": {},
   "source": [
    "You can observe through the Spark UI that there are\n",
    "- Median Duration: 10s\n",
    "- Median GC Time: 0.8s\n",
    "- Median Input Size / Records: 128.1/15959"
   ]
  },
  {
   "cell_type": "markdown",
   "metadata": {},
   "source": [
    "### Test 7: using cluster with 6 Workers"
   ]
  },
  {
   "cell_type": "code",
   "execution_count": null,
   "metadata": {},
   "outputs": [],
   "source": [
    "#run_rfm_segmentation(master6Worker, bigData, schema)"
   ]
  },
  {
   "cell_type": "markdown",
   "metadata": {},
   "source": [
    "![Image](https://i.imgur.com/IGkywcY.png)"
   ]
  },
  {
   "cell_type": "markdown",
   "metadata": {},
   "source": [
    "- Start time: 20:04:14\n",
    "- End time: 20:17:02\n",
    "- Total time: 12.5min"
   ]
  },
  {
   "cell_type": "markdown",
   "metadata": {},
   "source": [
    "![Image](https://i.imgur.com/CdNZJDx.png)"
   ]
  },
  {
   "cell_type": "markdown",
   "metadata": {},
   "source": [
    "![Image](https://i.imgur.com/AANUN0d.png)"
   ]
  },
  {
   "cell_type": "markdown",
   "metadata": {},
   "source": [
    "You can observe through the Spark UI that there are\n",
    "- Median Duration: 1.4min\n",
    "- Median GC Time: 10s\n",
    "- Median Input Size / Records: 128.1/15959"
   ]
  },
  {
   "cell_type": "markdown",
   "metadata": {},
   "source": [
    "### Test 8: using cluster with 2 Cores on 3 Workers"
   ]
  },
  {
   "cell_type": "code",
   "execution_count": null,
   "metadata": {},
   "outputs": [],
   "source": [
    "#run_rfm_segmentation(master2Core, bigData, schema)"
   ]
  },
  {
   "cell_type": "markdown",
   "metadata": {},
   "source": [
    "![Image](https://i.imgur.com/WClE7Co.png)"
   ]
  },
  {
   "cell_type": "markdown",
   "metadata": {},
   "source": [
    "- Start time: 20:24:39\n",
    "- End time: 20:30:46\n",
    "- Total time: 6.1min"
   ]
  },
  {
   "cell_type": "markdown",
   "metadata": {},
   "source": [
    "![Image](https://i.imgur.com/2Wvd6UL.png)"
   ]
  },
  {
   "cell_type": "markdown",
   "metadata": {},
   "source": [
    "![Image](https://i.imgur.com/aeqwCj8.png)"
   ]
  },
  {
   "cell_type": "markdown",
   "metadata": {},
   "source": [
    "You can observe through the Spark UI that there are\n",
    "- Median Duration: 3s\n",
    "- Median GC Time: 92ms\n",
    "- Median Input Size / Records: 128.1/15959"
   ]
  },
  {
   "cell_type": "markdown",
   "metadata": {},
   "source": [
    "### Test 9: initialize cluster with 5 Cores on 3 Workers"
   ]
  },
  {
   "cell_type": "code",
   "execution_count": null,
   "metadata": {},
   "outputs": [],
   "source": [
    "#run_rfm_segmentation(master5Core, bigData, schema)"
   ]
  },
  {
   "attachments": {
    "image.png": {
     "image/png": "[encoded data removed]"
    }
   },
   "cell_type": "markdown",
   "metadata": {},
   "source": [
    "![image.png](attachment:image.png)"
   ]
  },
  {
   "cell_type": "markdown",
   "metadata": {},
   "source": [
    "- Start time: 20:34:26\n",
    "- End time: 20:38:50\n",
    "- Total time: 4.3min"
   ]
  },
  {
   "cell_type": "markdown",
   "metadata": {},
   "source": [
    "![Image](https://i.imgur.com/ZgFCvut.png)"
   ]
  },
  {
   "cell_type": "markdown",
   "metadata": {},
   "source": [
    "![Image](https://i.imgur.com/26hlKdv.png)"
   ]
  },
  {
   "cell_type": "markdown",
   "metadata": {},
   "source": [
    "You can observe through the Spark UI that there are\n",
    "- Median Duration: 5s\n",
    "- Median GC Time: 0.3\n",
    "- Median Input Size / Records: 128.1/15959"
   ]
  },
  {
   "cell_type": "markdown",
   "metadata": {},
   "source": [
    "### Test 10: initialize cluster with a memory of 1024MB on 3 Workers"
   ]
  },
  {
   "cell_type": "code",
   "execution_count": null,
   "metadata": {},
   "outputs": [],
   "source": [
    "run_rfm_segmentation(master1024MB, bigData, schema)"
   ]
  },
  {
   "cell_type": "markdown",
   "metadata": {},
   "source": [
    "![Image](https://i.imgur.com/dSbVpM5.png)"
   ]
  },
  {
   "cell_type": "markdown",
   "metadata": {},
   "source": [
    "- Start time: 21:17:28\n",
    "- End time: 21:22:14\n",
    "- Total time: 4.4min"
   ]
  },
  {
   "cell_type": "markdown",
   "metadata": {},
   "source": [
    "![Image](https://i.imgur.com/aE2BK25.png)"
   ]
  },
  {
   "cell_type": "markdown",
   "metadata": {},
   "source": [
    "![Image](https://i.imgur.com/dD5NR6H.png)"
   ]
  },
  {
   "cell_type": "markdown",
   "metadata": {},
   "source": [
    "You can observe through the Spark UI that there are\n",
    "- Median Duration: 9s\n",
    "- Median GC Time: 0.7s\n",
    "- Median Input Size / Records: 128.1/15959"
   ]
  },
  {
   "cell_type": "markdown",
   "metadata": {},
   "source": [
    "### Test 11: initialize cluster with a memory of 2048MB on 3 Workers"
   ]
  },
  {
   "cell_type": "code",
   "execution_count": null,
   "metadata": {},
   "outputs": [],
   "source": [
    "#run_rfm_segmentation(master2048MB, bigData, schema)"
   ]
  },
  {
   "cell_type": "markdown",
   "metadata": {},
   "source": [
    "![Image](https://i.imgur.com/Uj2DXk5.png)"
   ]
  },
  {
   "cell_type": "markdown",
   "metadata": {},
   "source": [
    "- Start time: 21:07:28\n",
    "- End time: 21:12:20\n",
    "- Total time: 4.5 min"
   ]
  },
  {
   "cell_type": "markdown",
   "metadata": {},
   "source": [
    "![Image](https://i.imgur.com/8BktzS2.png)"
   ]
  },
  {
   "cell_type": "markdown",
   "metadata": {},
   "source": [
    "![Image](https://i.imgur.com/2NwhAla.png)"
   ]
  },
  {
   "cell_type": "markdown",
   "metadata": {},
   "source": [
    "You can observe through the Spark UI that there are\n",
    "- Median Duration: 9s\n",
    "- Median GC Time: 0.7s\n",
    "- Median Input Size / Records: 128.1/15959"
   ]
  },
  {
   "cell_type": "markdown",
   "metadata": {},
   "source": [
    "### Test 12: initialize cluster with a memory of 4096MB on 3 Workers"
   ]
  },
  {
   "cell_type": "code",
   "execution_count": null,
   "metadata": {},
   "outputs": [],
   "source": [
    "#run_rfm_segmentation(master4096B, bigData, schema)"
   ]
  },
  {
   "cell_type": "markdown",
   "metadata": {},
   "source": [
    "![Image](https://i.imgur.com/G3507NJ.png)"
   ]
  },
  {
   "cell_type": "markdown",
   "metadata": {},
   "source": [
    "- Start time: 21:26:07\n",
    "- End time: 21:31:02\n",
    "- Total time: 4.5min"
   ]
  },
  {
   "cell_type": "markdown",
   "metadata": {},
   "source": [
    "![Image](https://i.imgur.com/gID55TZ.png)"
   ]
  },
  {
   "cell_type": "markdown",
   "metadata": {},
   "source": [
    "![Image](https://i.imgur.com/EcoNVUo.png)"
   ]
  },
  {
   "cell_type": "markdown",
   "metadata": {},
   "source": [
    "You can observe through the Spark UI that there are\n",
    "- Median Duration: 9s\n",
    "- Median GC Time: 0.7s\n",
    "- Median Input Size / Records: 128.1/15959"
   ]
  },
  {
   "cell_type": "markdown",
   "metadata": {},
   "source": [
    "**Conclusion Cluster Scalability**\n",
    "\n",
    "| Test ID | Cores of Workers | Worker Nodes | RAM of Worker Node | Median Duration | Median GC Time | Median Input Size / Records | Application Time |\n",
    "|---------|-------|--------------|--------------------|-----------------|----------------|-----------------------------|------------------|\n",
    "| 4       | 10   | 1            | 15GiB                  | 6s              | 0.3s           | 128.1MiB / 15959            | 6.2min           |\n",
    "| 5       | 10    | 2            | 15GiB                  | 7s              | 0.5s           | 128.1MiB / 15959            | 8.3min           |\n",
    "| 6       | 10    | 3            | 15GiB                  | 10s             | 0.8s           | 128.1MiB / 15959            | 5.2min           |\n",
    "| 7       | 10     | 6           | 15GiB                  | 1.4min          | 10s            | 128.1MiB / 15959            | 12.5min          |\n",
    "| 8       | 2    | 10            | 15GiB                  | 3s              | 92ms           | 128.1MiB / 15959            | 6.1min           |\n",
    "| 9       | 5    | 10            | 15GiB                  | 5s              | 0.3s           | 128.1MiB / 15959            | 4.3min           |\n",
    "| 10      | 10     | 10            | 1024MiB                  | 9s              | 0.7s           | 128.1MiB / 15959            | 4.4min           |\n",
    "| 11      | 10     | 10            | 20248MiB                  | 9s              | 0.7s           | 128.1MiB / 15959            | 4.5min           |\n",
    "| 12      | 10     | 10            | 4096MiB                  | 9s              | 0.7s           | 128.1MiB / 15959            | 4.5min           |\n"
   ]
  },
  {
   "cell_type": "markdown",
   "metadata": {},
   "source": [
    "This table provides insights into the scalability and performance of a local Spark standalone cluster under different configurations of worker node cores, the number of worker nodes, and RAM per worker node. By analyzing the data, we can observe several trends and implications for a local Spark standalone cluster performance:\n",
    "\n",
    "- *Impact of Worker Nodes Quantity:* Increasing the number of worker nodes from 1 to 3 (Tests 4-6) does not uniformly decrease application time or median duration, suggesting that simply adding more nodes to the cluster does not linearly improve performance. This could be due to the overhead of managing more nodes or the nature of the tasks not fully benefiting from the additional nodes.\n",
    "\n",
    "- *Resource Allocation vs. Performance:* Test 7, with 6 worker nodes, shows a significant increase in median duration and application time compared to tests with fewer nodes. This indicates that there might be a point of diminishing returns or even performance degradation when adding more nodes without adequately adjusting other parameters like the number of cores or RAM.\n",
    "\n",
    "- *Variation in Cores per Worker:* Tests 8 and 9, with a higher number of worker nodes but fewer cores per worker (2 and 5 cores respectively), present a different performance profile, with Test 9 showing improved application time over Test 8. This suggests that the allocation of cores to tasks and their efficiency in processing could be more critical than the sheer number of nodes or cores.\n",
    "\n",
    "- *RAM Impact:* Tests 10, 11, and 12, all with 10 worker nodes but varying RAM sizes (from 1024MiB to 20248MiB), demonstrate that increasing RAM does not directly correlate with improved performance in application time or median duration. Test 11, with the highest RAM, does not show a significant performance advantage over Tests 10 and 12. This outcome might highlight the importance of optimizing for the specific needs of the workload rather than assuming more RAM will always yield better performance."
   ]
  }
 ],
 "metadata": {
  "kernelspec": {
   "display_name": "Python 3",
   "language": "python",
   "name": "python3"
  },
  "language_info": {
   "codemirror_mode": {
    "name": "ipython",
    "version": 3
   },
   "file_extension": ".py",
   "mimetype": "text/x-python",
   "name": "python",
   "nbconvert_exporter": "python",
   "pygments_lexer": "ipython3",
   "version": "3.12.0"
  }
 },
 "nbformat": 4,
 "nbformat_minor": 2
}
