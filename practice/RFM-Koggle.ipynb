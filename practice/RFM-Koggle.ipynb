{
 "cells": [
  {
   "cell_type": "markdown",
   "metadata": {},
   "source": [
    "# Reference \n",
    "- https://www.kaggle.com/code/arifsetiyawan/rfm-analysis-of-ecommerce-behavior-data"
   ]
  },
  {
   "cell_type": "markdown",
   "id": "17db883b",
   "metadata": {
    "papermill": {
     "duration": 0.033531,
     "end_time": "2021-07-11T04:16:55.267099",
     "exception": false,
     "start_time": "2021-07-11T04:16:55.233568",
     "status": "completed"
    },
    "tags": []
   },
   "source": [
    "Hi Kagglers,\n",
    "\n",
    "Welcome to My Kernal about RFM Analysis of eCommerce behavior data\n",
    "\n",
    "If there are any feedbacks/suggestions you would like to see in the Kernel please let me know. This notebook will always be a work in progress. Please leave any comments about further improvements to the notebook. I appreciate every note!\n",
    "\n",
    "If you like it, you can upvote and/or leave a comment :)"
   ]
  },
  {
   "cell_type": "markdown",
   "id": "5fbe19d1",
   "metadata": {
    "id": "aXWXqPyokiDA",
    "papermill": {
     "duration": 0.031873,
     "end_time": "2021-07-11T04:16:55.337409",
     "exception": false,
     "start_time": "2021-07-11T04:16:55.305536",
     "status": "completed"
    },
    "tags": []
   },
   "source": [
    "# **Data Preprocessing**"
   ]
  },
  {
   "cell_type": "code",
   "execution_count": 1,
   "id": "4eb46c91",
   "metadata": {
    "execution": {
     "iopub.execute_input": "2021-07-11T04:16:55.416397Z",
     "iopub.status.busy": "2021-07-11T04:16:55.415209Z",
     "iopub.status.idle": "2021-07-11T04:16:55.437778Z",
     "shell.execute_reply": "2021-07-11T04:16:55.437082Z",
     "shell.execute_reply.started": "2021-07-11T02:24:26.528874Z"
    },
    "id": "1OJFjjRpJC4S",
    "papermill": {
     "duration": 0.061876,
     "end_time": "2021-07-11T04:16:55.437941",
     "exception": false,
     "start_time": "2021-07-11T04:16:55.376065",
     "status": "completed"
    },
    "tags": []
   },
   "outputs": [],
   "source": [
    "#Import Library\n",
    "import pandas as pd\n",
    "import numpy as np\n",
    "import os\n",
    "import matplotlib.pyplot as plt\n",
    "import squarify"
   ]
  },
  {
   "cell_type": "markdown",
   "id": "0122ab8d",
   "metadata": {
    "papermill": {
     "duration": 0.032309,
     "end_time": "2021-07-11T04:16:55.503600",
     "exception": false,
     "start_time": "2021-07-11T04:16:55.471291",
     "status": "completed"
    },
    "tags": []
   },
   "source": [
    "# **Load The Data**"
   ]
  },
  {
   "cell_type": "code",
   "execution_count": 2,
   "id": "bb1aaab7",
   "metadata": {
    "execution": {
     "iopub.execute_input": "2021-07-11T04:16:55.575548Z",
     "iopub.status.busy": "2021-07-11T04:16:55.574809Z",
     "iopub.status.idle": "2021-07-11T04:16:55.718754Z",
     "shell.execute_reply": "2021-07-11T04:16:55.719272Z",
     "shell.execute_reply.started": "2021-07-11T02:24:28.178691Z"
    },
    "papermill": {
     "duration": 0.182601,
     "end_time": "2021-07-11T04:16:55.719470",
     "exception": false,
     "start_time": "2021-07-11T04:16:55.536869",
     "status": "completed"
    },
    "tags": []
   },
   "outputs": [
    {
     "data": {
      "text/html": [
       "<div>\n",
       "<style scoped>\n",
       "    .dataframe tbody tr th:only-of-type {\n",
       "        vertical-align: middle;\n",
       "    }\n",
       "\n",
       "    .dataframe tbody tr th {\n",
       "        vertical-align: top;\n",
       "    }\n",
       "\n",
       "    .dataframe thead th {\n",
       "        text-align: right;\n",
       "    }\n",
       "</style>\n",
       "<table border=\"1\" class=\"dataframe\">\n",
       "  <thead>\n",
       "    <tr style=\"text-align: right;\">\n",
       "      <th></th>\n",
       "      <th>event_time</th>\n",
       "      <th>event_type</th>\n",
       "      <th>product_id</th>\n",
       "      <th>category_id</th>\n",
       "      <th>category_code</th>\n",
       "      <th>brand</th>\n",
       "      <th>price</th>\n",
       "      <th>user_id</th>\n",
       "      <th>user_session</th>\n",
       "    </tr>\n",
       "  </thead>\n",
       "  <tbody>\n",
       "    <tr>\n",
       "      <th>0</th>\n",
       "      <td>2019-10-01 00:00:00 UTC</td>\n",
       "      <td>view</td>\n",
       "      <td>44600062</td>\n",
       "      <td>2103807459595387724</td>\n",
       "      <td>NaN</td>\n",
       "      <td>shiseido</td>\n",
       "      <td>35.79</td>\n",
       "      <td>541312140</td>\n",
       "      <td>72d76fde-8bb3-4e00-8c23-a032dfed738c</td>\n",
       "    </tr>\n",
       "  </tbody>\n",
       "</table>\n",
       "</div>"
      ],
      "text/plain": [
       "                event_time event_type  product_id          category_id  \\\n",
       "0  2019-10-01 00:00:00 UTC       view    44600062  2103807459595387724   \n",
       "\n",
       "   category_code     brand  price    user_id  \\\n",
       "0            NaN  shiseido  35.79  541312140   \n",
       "\n",
       "                           user_session  \n",
       "0  72d76fde-8bb3-4e00-8c23-a032dfed738c  "
      ]
     },
     "execution_count": 2,
     "metadata": {},
     "output_type": "execute_result"
    }
   ],
   "source": [
    "root_oct = '../../Data/eCommerce-behavior-data/2019-Oct.csv'\n",
    "root_nov = '../../Data/eCommerce-behavior-data/2019-Nov.csv'\n",
    "\n",
    "data_oct = pd.read_csv(root_oct,nrows=1)\n",
    "data_oct"
   ]
  },
  {
   "cell_type": "markdown",
   "id": "2db52001",
   "metadata": {
    "papermill": {
     "duration": 0.033112,
     "end_time": "2021-07-11T04:16:55.787343",
     "exception": false,
     "start_time": "2021-07-11T04:16:55.754231",
     "status": "completed"
    },
    "tags": []
   },
   "source": [
    "**only load the required data **"
   ]
  },
  {
   "cell_type": "code",
   "execution_count": 4,
   "id": "6ad1e1b7",
   "metadata": {
    "execution": {
     "iopub.execute_input": "2021-07-11T04:22:00.351398Z",
     "iopub.status.busy": "2021-07-11T04:22:00.350603Z",
     "iopub.status.idle": "2021-07-11T04:22:00.354941Z",
     "shell.execute_reply": "2021-07-11T04:22:00.354466Z",
     "shell.execute_reply.started": "2021-07-11T02:29:38.101282Z"
    },
    "papermill": {
     "duration": 0.049791,
     "end_time": "2021-07-11T04:22:00.355104",
     "exception": false,
     "start_time": "2021-07-11T04:22:00.305313",
     "status": "completed"
    },
    "tags": []
   },
   "outputs": [
    {
     "data": {
      "text/html": [
       "<div>\n",
       "<style scoped>\n",
       "    .dataframe tbody tr th:only-of-type {\n",
       "        vertical-align: middle;\n",
       "    }\n",
       "\n",
       "    .dataframe tbody tr th {\n",
       "        vertical-align: top;\n",
       "    }\n",
       "\n",
       "    .dataframe thead th {\n",
       "        text-align: right;\n",
       "    }\n",
       "</style>\n",
       "<table border=\"1\" class=\"dataframe\">\n",
       "  <thead>\n",
       "    <tr style=\"text-align: right;\">\n",
       "      <th></th>\n",
       "      <th>event_time</th>\n",
       "      <th>event_type</th>\n",
       "      <th>product_id</th>\n",
       "      <th>category_id</th>\n",
       "      <th>category_code</th>\n",
       "      <th>brand</th>\n",
       "      <th>price</th>\n",
       "      <th>user_id</th>\n",
       "      <th>user_session</th>\n",
       "    </tr>\n",
       "  </thead>\n",
       "  <tbody>\n",
       "    <tr>\n",
       "      <th>0</th>\n",
       "      <td>2019-10-01 00:00:00 UTC</td>\n",
       "      <td>view</td>\n",
       "      <td>44600062</td>\n",
       "      <td>2103807459595387724</td>\n",
       "      <td>NaN</td>\n",
       "      <td>shiseido</td>\n",
       "      <td>35.79</td>\n",
       "      <td>541312140</td>\n",
       "      <td>72d76fde-8bb3-4e00-8c23-a032dfed738c</td>\n",
       "    </tr>\n",
       "    <tr>\n",
       "      <th>1</th>\n",
       "      <td>2019-10-01 00:00:00 UTC</td>\n",
       "      <td>view</td>\n",
       "      <td>3900821</td>\n",
       "      <td>2053013552326770905</td>\n",
       "      <td>appliances.environment.water_heater</td>\n",
       "      <td>aqua</td>\n",
       "      <td>33.20</td>\n",
       "      <td>554748717</td>\n",
       "      <td>9333dfbd-b87a-4708-9857-6336556b0fcc</td>\n",
       "    </tr>\n",
       "    <tr>\n",
       "      <th>2</th>\n",
       "      <td>2019-10-01 00:00:01 UTC</td>\n",
       "      <td>view</td>\n",
       "      <td>17200506</td>\n",
       "      <td>2053013559792632471</td>\n",
       "      <td>furniture.living_room.sofa</td>\n",
       "      <td>NaN</td>\n",
       "      <td>543.10</td>\n",
       "      <td>519107250</td>\n",
       "      <td>566511c2-e2e3-422b-b695-cf8e6e792ca8</td>\n",
       "    </tr>\n",
       "    <tr>\n",
       "      <th>3</th>\n",
       "      <td>2019-10-01 00:00:01 UTC</td>\n",
       "      <td>view</td>\n",
       "      <td>1307067</td>\n",
       "      <td>2053013558920217191</td>\n",
       "      <td>computers.notebook</td>\n",
       "      <td>lenovo</td>\n",
       "      <td>251.74</td>\n",
       "      <td>550050854</td>\n",
       "      <td>7c90fc70-0e80-4590-96f3-13c02c18c713</td>\n",
       "    </tr>\n",
       "    <tr>\n",
       "      <th>4</th>\n",
       "      <td>2019-10-01 00:00:04 UTC</td>\n",
       "      <td>view</td>\n",
       "      <td>1004237</td>\n",
       "      <td>2053013555631882655</td>\n",
       "      <td>electronics.smartphone</td>\n",
       "      <td>apple</td>\n",
       "      <td>1081.98</td>\n",
       "      <td>535871217</td>\n",
       "      <td>c6bd7419-2748-4c56-95b4-8cec9ff8b80d</td>\n",
       "    </tr>\n",
       "  </tbody>\n",
       "</table>\n",
       "</div>"
      ],
      "text/plain": [
       "                event_time event_type  product_id          category_id  \\\n",
       "0  2019-10-01 00:00:00 UTC       view    44600062  2103807459595387724   \n",
       "1  2019-10-01 00:00:00 UTC       view     3900821  2053013552326770905   \n",
       "2  2019-10-01 00:00:01 UTC       view    17200506  2053013559792632471   \n",
       "3  2019-10-01 00:00:01 UTC       view     1307067  2053013558920217191   \n",
       "4  2019-10-01 00:00:04 UTC       view     1004237  2053013555631882655   \n",
       "\n",
       "                         category_code     brand    price    user_id  \\\n",
       "0                                  NaN  shiseido    35.79  541312140   \n",
       "1  appliances.environment.water_heater      aqua    33.20  554748717   \n",
       "2           furniture.living_room.sofa       NaN   543.10  519107250   \n",
       "3                   computers.notebook    lenovo   251.74  550050854   \n",
       "4               electronics.smartphone     apple  1081.98  535871217   \n",
       "\n",
       "                           user_session  \n",
       "0  72d76fde-8bb3-4e00-8c23-a032dfed738c  \n",
       "1  9333dfbd-b87a-4708-9857-6336556b0fcc  \n",
       "2  566511c2-e2e3-422b-b695-cf8e6e792ca8  \n",
       "3  7c90fc70-0e80-4590-96f3-13c02c18c713  \n",
       "4  c6bd7419-2748-4c56-95b4-8cec9ff8b80d  "
      ]
     },
     "execution_count": 4,
     "metadata": {},
     "output_type": "execute_result"
    }
   ],
   "source": [
    "data_oct = pd.read_csv(root_oct,nrows=1000000)\n",
    "data_oct.head()"
   ]
  },
  {
   "cell_type": "code",
   "execution_count": 5,
   "id": "61df4fa9",
   "metadata": {
    "execution": {
     "iopub.execute_input": "2021-07-11T04:22:02.851363Z",
     "iopub.status.busy": "2021-07-11T04:22:01.026345Z",
     "iopub.status.idle": "2021-07-11T04:22:03.395758Z",
     "shell.execute_reply": "2021-07-11T04:22:03.394598Z"
    },
    "papermill": {
     "duration": 3.007549,
     "end_time": "2021-07-11T04:22:03.395920",
     "exception": false,
     "start_time": "2021-07-11T04:22:00.388371",
     "status": "completed"
    },
    "tags": []
   },
   "outputs": [
    {
     "data": {
      "text/plain": [
       "array(['view', 'purchase', 'cart'], dtype=object)"
      ]
     },
     "execution_count": 5,
     "metadata": {},
     "output_type": "execute_result"
    }
   ],
   "source": [
    "data_oct['event_type'].unique()"
   ]
  },
  {
   "cell_type": "markdown",
   "id": "6c9c8539",
   "metadata": {
    "papermill": {
     "duration": 0.03429,
     "end_time": "2021-07-11T04:22:08.379359",
     "exception": false,
     "start_time": "2021-07-11T04:22:08.345069",
     "status": "completed"
    },
    "tags": []
   },
   "source": [
    "**Column event type have view, cart, and purchase but we only need purchase data so use .loc to get only purchase data**"
   ]
  },
  {
   "cell_type": "code",
   "execution_count": 26,
   "id": "df86951c",
   "metadata": {
    "execution": {
     "iopub.execute_input": "2021-07-11T04:22:14.213466Z",
     "iopub.status.busy": "2021-07-11T04:22:14.212214Z",
     "iopub.status.idle": "2021-07-11T04:22:24.226094Z",
     "shell.execute_reply": "2021-07-11T04:22:24.225523Z",
     "shell.execute_reply.started": "2021-07-11T02:29:56.471875Z"
    },
    "papermill": {
     "duration": 15.812468,
     "end_time": "2021-07-11T04:22:24.226253",
     "exception": false,
     "start_time": "2021-07-11T04:22:08.413785",
     "status": "completed"
    },
    "tags": []
   },
   "outputs": [
    {
     "data": {
      "text/plain": [
       "array(['purchase'], dtype=object)"
      ]
     },
     "execution_count": 26,
     "metadata": {},
     "output_type": "execute_result"
    }
   ],
   "source": [
    "data=data_oct.loc[data_oct.event_type == 'purchase']\n",
    "data_oct['event_type'].unique()"
   ]
  },
  {
   "cell_type": "markdown",
   "id": "1a450dad",
   "metadata": {
    "papermill": {
     "duration": 0.034204,
     "end_time": "2021-07-11T04:22:24.294944",
     "exception": false,
     "start_time": "2021-07-11T04:22:24.260740",
     "status": "completed"
    },
    "tags": []
   },
   "source": [
    "**Then union October and November data**"
   ]
  },
  {
   "cell_type": "code",
   "execution_count": 27,
   "id": "e03ed86b",
   "metadata": {
    "execution": {
     "iopub.execute_input": "2021-07-11T04:22:24.679049Z",
     "iopub.status.busy": "2021-07-11T04:22:24.678409Z",
     "iopub.status.idle": "2021-07-11T04:22:24.682640Z",
     "shell.execute_reply": "2021-07-11T04:22:24.682156Z",
     "shell.execute_reply.started": "2021-07-11T03:37:55.531525Z"
    },
    "papermill": {
     "duration": 0.051732,
     "end_time": "2021-07-11T04:22:24.682779",
     "exception": false,
     "start_time": "2021-07-11T04:22:24.631047",
     "status": "completed"
    },
    "tags": []
   },
   "outputs": [
    {
     "data": {
      "text/html": [
       "<div>\n",
       "<style scoped>\n",
       "    .dataframe tbody tr th:only-of-type {\n",
       "        vertical-align: middle;\n",
       "    }\n",
       "\n",
       "    .dataframe tbody tr th {\n",
       "        vertical-align: top;\n",
       "    }\n",
       "\n",
       "    .dataframe thead th {\n",
       "        text-align: right;\n",
       "    }\n",
       "</style>\n",
       "<table border=\"1\" class=\"dataframe\">\n",
       "  <thead>\n",
       "    <tr style=\"text-align: right;\">\n",
       "      <th></th>\n",
       "      <th>event_time</th>\n",
       "      <th>event_type</th>\n",
       "      <th>product_id</th>\n",
       "      <th>category_id</th>\n",
       "      <th>category_code</th>\n",
       "      <th>brand</th>\n",
       "      <th>price</th>\n",
       "      <th>user_id</th>\n",
       "      <th>user_session</th>\n",
       "    </tr>\n",
       "  </thead>\n",
       "  <tbody>\n",
       "    <tr>\n",
       "      <th>162</th>\n",
       "      <td>2019-10-01 00:02:14 UTC</td>\n",
       "      <td>purchase</td>\n",
       "      <td>1004856</td>\n",
       "      <td>2053013555631882655</td>\n",
       "      <td>electronics.smartphone</td>\n",
       "      <td>samsung</td>\n",
       "      <td>130.76</td>\n",
       "      <td>543272936</td>\n",
       "      <td>8187d148-3c41-46d4-b0c0-9c08cd9dc564</td>\n",
       "    </tr>\n",
       "    <tr>\n",
       "      <th>308</th>\n",
       "      <td>2019-10-01 00:04:37 UTC</td>\n",
       "      <td>purchase</td>\n",
       "      <td>1002532</td>\n",
       "      <td>2053013555631882655</td>\n",
       "      <td>electronics.smartphone</td>\n",
       "      <td>apple</td>\n",
       "      <td>642.69</td>\n",
       "      <td>551377651</td>\n",
       "      <td>3c80f0d6-e9ec-4181-8c5c-837a30be2d68</td>\n",
       "    </tr>\n",
       "    <tr>\n",
       "      <th>379</th>\n",
       "      <td>2019-10-01 00:06:02 UTC</td>\n",
       "      <td>purchase</td>\n",
       "      <td>5100816</td>\n",
       "      <td>2053013553375346967</td>\n",
       "      <td>NaN</td>\n",
       "      <td>xiaomi</td>\n",
       "      <td>29.51</td>\n",
       "      <td>514591159</td>\n",
       "      <td>0e5dfc4b-2a55-43e6-8c05-97e1f07fbb56</td>\n",
       "    </tr>\n",
       "    <tr>\n",
       "      <th>442</th>\n",
       "      <td>2019-10-01 00:07:07 UTC</td>\n",
       "      <td>purchase</td>\n",
       "      <td>13800054</td>\n",
       "      <td>2053013557418656265</td>\n",
       "      <td>furniture.bathroom.toilet</td>\n",
       "      <td>santeri</td>\n",
       "      <td>54.42</td>\n",
       "      <td>555332717</td>\n",
       "      <td>1dea3ee2-2ded-42e8-8e7a-4e2ad6ae942f</td>\n",
       "    </tr>\n",
       "    <tr>\n",
       "      <th>574</th>\n",
       "      <td>2019-10-01 00:09:26 UTC</td>\n",
       "      <td>purchase</td>\n",
       "      <td>4804055</td>\n",
       "      <td>2053013554658804075</td>\n",
       "      <td>electronics.audio.headphone</td>\n",
       "      <td>apple</td>\n",
       "      <td>189.91</td>\n",
       "      <td>524601178</td>\n",
       "      <td>2af9b570-0942-4dcd-8f25-4d84fba82553</td>\n",
       "    </tr>\n",
       "  </tbody>\n",
       "</table>\n",
       "</div>"
      ],
      "text/plain": [
       "                  event_time event_type  product_id          category_id  \\\n",
       "162  2019-10-01 00:02:14 UTC   purchase     1004856  2053013555631882655   \n",
       "308  2019-10-01 00:04:37 UTC   purchase     1002532  2053013555631882655   \n",
       "379  2019-10-01 00:06:02 UTC   purchase     5100816  2053013553375346967   \n",
       "442  2019-10-01 00:07:07 UTC   purchase    13800054  2053013557418656265   \n",
       "574  2019-10-01 00:09:26 UTC   purchase     4804055  2053013554658804075   \n",
       "\n",
       "                   category_code    brand   price    user_id  \\\n",
       "162       electronics.smartphone  samsung  130.76  543272936   \n",
       "308       electronics.smartphone    apple  642.69  551377651   \n",
       "379                          NaN   xiaomi   29.51  514591159   \n",
       "442    furniture.bathroom.toilet  santeri   54.42  555332717   \n",
       "574  electronics.audio.headphone    apple  189.91  524601178   \n",
       "\n",
       "                             user_session  \n",
       "162  8187d148-3c41-46d4-b0c0-9c08cd9dc564  \n",
       "308  3c80f0d6-e9ec-4181-8c5c-837a30be2d68  \n",
       "379  0e5dfc4b-2a55-43e6-8c05-97e1f07fbb56  \n",
       "442  1dea3ee2-2ded-42e8-8e7a-4e2ad6ae942f  \n",
       "574  2af9b570-0942-4dcd-8f25-4d84fba82553  "
      ]
     },
     "execution_count": 27,
     "metadata": {},
     "output_type": "execute_result"
    }
   ],
   "source": [
    "data.head()"
   ]
  },
  {
   "cell_type": "code",
   "execution_count": 28,
   "metadata": {},
   "outputs": [
    {
     "data": {
      "text/plain": [
       "event_time        object\n",
       "event_type        object\n",
       "product_id         int64\n",
       "category_id        int64\n",
       "category_code     object\n",
       "brand             object\n",
       "price            float64\n",
       "user_id            int64\n",
       "user_session      object\n",
       "dtype: object"
      ]
     },
     "execution_count": 28,
     "metadata": {},
     "output_type": "execute_result"
    }
   ],
   "source": [
    "data.dtypes"
   ]
  },
  {
   "cell_type": "code",
   "execution_count": 29,
   "metadata": {},
   "outputs": [],
   "source": [
    "data['event_time']=pd.to_datetime(data['event_time']).dt.tz_localize(None) # converting the event_time to datetime format, and removing the timezone"
   ]
  },
  {
   "cell_type": "code",
   "execution_count": 31,
   "id": "7ce8eda6",
   "metadata": {
    "execution": {
     "iopub.execute_input": "2021-07-11T04:26:19.649887Z",
     "iopub.status.busy": "2021-07-11T04:26:19.648891Z",
     "iopub.status.idle": "2021-07-11T04:26:19.653611Z",
     "shell.execute_reply": "2021-07-11T04:26:19.654165Z",
     "shell.execute_reply.started": "2021-07-11T03:38:03.521696Z"
    },
    "papermill": {
     "duration": 0.053099,
     "end_time": "2021-07-11T04:26:19.654335",
     "exception": false,
     "start_time": "2021-07-11T04:26:19.601236",
     "status": "completed"
    },
    "tags": []
   },
   "outputs": [
    {
     "data": {
      "text/plain": [
       "event_time       datetime64[ns]\n",
       "event_type               object\n",
       "product_id                int64\n",
       "category_id               int64\n",
       "category_code            object\n",
       "brand                    object\n",
       "price                   float64\n",
       "user_id                   int64\n",
       "user_session             object\n",
       "dtype: object"
      ]
     },
     "execution_count": 31,
     "metadata": {},
     "output_type": "execute_result"
    }
   ],
   "source": [
    "data.dtypes"
   ]
  },
  {
   "cell_type": "code",
   "execution_count": 32,
   "metadata": {},
   "outputs": [
    {
     "data": {
      "text/html": [
       "<div>\n",
       "<style scoped>\n",
       "    .dataframe tbody tr th:only-of-type {\n",
       "        vertical-align: middle;\n",
       "    }\n",
       "\n",
       "    .dataframe tbody tr th {\n",
       "        vertical-align: top;\n",
       "    }\n",
       "\n",
       "    .dataframe thead th {\n",
       "        text-align: right;\n",
       "    }\n",
       "</style>\n",
       "<table border=\"1\" class=\"dataframe\">\n",
       "  <thead>\n",
       "    <tr style=\"text-align: right;\">\n",
       "      <th></th>\n",
       "      <th>event_time</th>\n",
       "      <th>event_type</th>\n",
       "      <th>product_id</th>\n",
       "      <th>category_id</th>\n",
       "      <th>category_code</th>\n",
       "      <th>brand</th>\n",
       "      <th>price</th>\n",
       "      <th>user_id</th>\n",
       "      <th>user_session</th>\n",
       "    </tr>\n",
       "  </thead>\n",
       "  <tbody>\n",
       "    <tr>\n",
       "      <th>162</th>\n",
       "      <td>2019-10-01 00:02:14</td>\n",
       "      <td>purchase</td>\n",
       "      <td>1004856</td>\n",
       "      <td>2053013555631882655</td>\n",
       "      <td>electronics.smartphone</td>\n",
       "      <td>samsung</td>\n",
       "      <td>130.76</td>\n",
       "      <td>543272936</td>\n",
       "      <td>8187d148-3c41-46d4-b0c0-9c08cd9dc564</td>\n",
       "    </tr>\n",
       "    <tr>\n",
       "      <th>308</th>\n",
       "      <td>2019-10-01 00:04:37</td>\n",
       "      <td>purchase</td>\n",
       "      <td>1002532</td>\n",
       "      <td>2053013555631882655</td>\n",
       "      <td>electronics.smartphone</td>\n",
       "      <td>apple</td>\n",
       "      <td>642.69</td>\n",
       "      <td>551377651</td>\n",
       "      <td>3c80f0d6-e9ec-4181-8c5c-837a30be2d68</td>\n",
       "    </tr>\n",
       "    <tr>\n",
       "      <th>379</th>\n",
       "      <td>2019-10-01 00:06:02</td>\n",
       "      <td>purchase</td>\n",
       "      <td>5100816</td>\n",
       "      <td>2053013553375346967</td>\n",
       "      <td>NaN</td>\n",
       "      <td>xiaomi</td>\n",
       "      <td>29.51</td>\n",
       "      <td>514591159</td>\n",
       "      <td>0e5dfc4b-2a55-43e6-8c05-97e1f07fbb56</td>\n",
       "    </tr>\n",
       "    <tr>\n",
       "      <th>442</th>\n",
       "      <td>2019-10-01 00:07:07</td>\n",
       "      <td>purchase</td>\n",
       "      <td>13800054</td>\n",
       "      <td>2053013557418656265</td>\n",
       "      <td>furniture.bathroom.toilet</td>\n",
       "      <td>santeri</td>\n",
       "      <td>54.42</td>\n",
       "      <td>555332717</td>\n",
       "      <td>1dea3ee2-2ded-42e8-8e7a-4e2ad6ae942f</td>\n",
       "    </tr>\n",
       "    <tr>\n",
       "      <th>574</th>\n",
       "      <td>2019-10-01 00:09:26</td>\n",
       "      <td>purchase</td>\n",
       "      <td>4804055</td>\n",
       "      <td>2053013554658804075</td>\n",
       "      <td>electronics.audio.headphone</td>\n",
       "      <td>apple</td>\n",
       "      <td>189.91</td>\n",
       "      <td>524601178</td>\n",
       "      <td>2af9b570-0942-4dcd-8f25-4d84fba82553</td>\n",
       "    </tr>\n",
       "  </tbody>\n",
       "</table>\n",
       "</div>"
      ],
      "text/plain": [
       "             event_time event_type  product_id          category_id  \\\n",
       "162 2019-10-01 00:02:14   purchase     1004856  2053013555631882655   \n",
       "308 2019-10-01 00:04:37   purchase     1002532  2053013555631882655   \n",
       "379 2019-10-01 00:06:02   purchase     5100816  2053013553375346967   \n",
       "442 2019-10-01 00:07:07   purchase    13800054  2053013557418656265   \n",
       "574 2019-10-01 00:09:26   purchase     4804055  2053013554658804075   \n",
       "\n",
       "                   category_code    brand   price    user_id  \\\n",
       "162       electronics.smartphone  samsung  130.76  543272936   \n",
       "308       electronics.smartphone    apple  642.69  551377651   \n",
       "379                          NaN   xiaomi   29.51  514591159   \n",
       "442    furniture.bathroom.toilet  santeri   54.42  555332717   \n",
       "574  electronics.audio.headphone    apple  189.91  524601178   \n",
       "\n",
       "                             user_session  \n",
       "162  8187d148-3c41-46d4-b0c0-9c08cd9dc564  \n",
       "308  3c80f0d6-e9ec-4181-8c5c-837a30be2d68  \n",
       "379  0e5dfc4b-2a55-43e6-8c05-97e1f07fbb56  \n",
       "442  1dea3ee2-2ded-42e8-8e7a-4e2ad6ae942f  \n",
       "574  2af9b570-0942-4dcd-8f25-4d84fba82553  "
      ]
     },
     "execution_count": 32,
     "metadata": {},
     "output_type": "execute_result"
    }
   ],
   "source": [
    "data.head()"
   ]
  },
  {
   "cell_type": "markdown",
   "id": "2950cdd3",
   "metadata": {
    "papermill": {
     "duration": 0.036452,
     "end_time": "2021-07-11T04:26:19.726946",
     "exception": false,
     "start_time": "2021-07-11T04:26:19.690494",
     "status": "completed"
    },
    "tags": []
   },
   "source": [
    "but sometimes the notebook we run crashes so it's better to save the cleaned data into feather format \n",
    "more reference about feather you can read it on [here](https://medium.com/@steven.p.dye/feather-files-faster-than-the-speed-of-light-d4666ce24387) or [here](https://arrow.apache.org/docs/python/feather.html)"
   ]
  },
  {
   "cell_type": "code",
   "execution_count": 33,
   "id": "7e0a0bbe",
   "metadata": {
    "execution": {
     "iopub.execute_input": "2021-07-11T04:26:19.803601Z",
     "iopub.status.busy": "2021-07-11T04:26:19.802588Z",
     "iopub.status.idle": "2021-07-11T04:26:21.397695Z",
     "shell.execute_reply": "2021-07-11T04:26:21.397137Z",
     "shell.execute_reply.started": "2021-07-11T02:50:57.731397Z"
    },
    "id": "f8rn5ReMJC4U",
    "outputId": "defe88ba-9306-4fea-d45f-63917eef8ca0",
    "papermill": {
     "duration": 1.635037,
     "end_time": "2021-07-11T04:26:21.397834",
     "exception": false,
     "start_time": "2021-07-11T04:26:19.762797",
     "status": "completed"
    },
    "tags": []
   },
   "outputs": [
    {
     "name": "stdout",
     "output_type": "stream",
     "text": [
      "CPU times: user 15 ms, sys: 14.3 ms, total: 29.3 ms\n",
      "Wall time: 309 ms\n"
     ]
    }
   ],
   "source": [
    "%%time\n",
    "#save dataframe as feather in case our notebook got crashed\n",
    "#feather save column data types\n",
    "import pyarrow.feather as feather\n",
    "os.makedirs('tmp', exist_ok=True)  # Make a temp dir for storing the feather file\n",
    "feather.write_feather(data, './tmp/data')"
   ]
  },
  {
   "cell_type": "code",
   "execution_count": 34,
   "id": "b8c5d833",
   "metadata": {
    "execution": {
     "iopub.execute_input": "2021-07-11T04:26:21.477409Z",
     "iopub.status.busy": "2021-07-11T04:26:21.476773Z",
     "iopub.status.idle": "2021-07-11T04:26:22.802943Z",
     "shell.execute_reply": "2021-07-11T04:26:22.803675Z",
     "shell.execute_reply.started": "2021-07-11T03:37:50.662147Z"
    },
    "papermill": {
     "duration": 1.36922,
     "end_time": "2021-07-11T04:26:22.803901",
     "exception": false,
     "start_time": "2021-07-11T04:26:21.434681",
     "status": "completed"
    },
    "tags": []
   },
   "outputs": [
    {
     "name": "stdout",
     "output_type": "stream",
     "text": [
      "CPU times: user 9.45 ms, sys: 11.7 ms, total: 21.2 ms\n",
      "Wall time: 29.1 ms\n"
     ]
    },
    {
     "data": {
      "text/html": [
       "<div>\n",
       "<style scoped>\n",
       "    .dataframe tbody tr th:only-of-type {\n",
       "        vertical-align: middle;\n",
       "    }\n",
       "\n",
       "    .dataframe tbody tr th {\n",
       "        vertical-align: top;\n",
       "    }\n",
       "\n",
       "    .dataframe thead th {\n",
       "        text-align: right;\n",
       "    }\n",
       "</style>\n",
       "<table border=\"1\" class=\"dataframe\">\n",
       "  <thead>\n",
       "    <tr style=\"text-align: right;\">\n",
       "      <th></th>\n",
       "      <th>event_time</th>\n",
       "      <th>event_type</th>\n",
       "      <th>product_id</th>\n",
       "      <th>category_id</th>\n",
       "      <th>category_code</th>\n",
       "      <th>brand</th>\n",
       "      <th>price</th>\n",
       "      <th>user_id</th>\n",
       "      <th>user_session</th>\n",
       "    </tr>\n",
       "  </thead>\n",
       "  <tbody>\n",
       "    <tr>\n",
       "      <th>162</th>\n",
       "      <td>2019-10-01 00:02:14</td>\n",
       "      <td>purchase</td>\n",
       "      <td>1004856</td>\n",
       "      <td>2053013555631882655</td>\n",
       "      <td>electronics.smartphone</td>\n",
       "      <td>samsung</td>\n",
       "      <td>130.76</td>\n",
       "      <td>543272936</td>\n",
       "      <td>8187d148-3c41-46d4-b0c0-9c08cd9dc564</td>\n",
       "    </tr>\n",
       "    <tr>\n",
       "      <th>308</th>\n",
       "      <td>2019-10-01 00:04:37</td>\n",
       "      <td>purchase</td>\n",
       "      <td>1002532</td>\n",
       "      <td>2053013555631882655</td>\n",
       "      <td>electronics.smartphone</td>\n",
       "      <td>apple</td>\n",
       "      <td>642.69</td>\n",
       "      <td>551377651</td>\n",
       "      <td>3c80f0d6-e9ec-4181-8c5c-837a30be2d68</td>\n",
       "    </tr>\n",
       "    <tr>\n",
       "      <th>379</th>\n",
       "      <td>2019-10-01 00:06:02</td>\n",
       "      <td>purchase</td>\n",
       "      <td>5100816</td>\n",
       "      <td>2053013553375346967</td>\n",
       "      <td>None</td>\n",
       "      <td>xiaomi</td>\n",
       "      <td>29.51</td>\n",
       "      <td>514591159</td>\n",
       "      <td>0e5dfc4b-2a55-43e6-8c05-97e1f07fbb56</td>\n",
       "    </tr>\n",
       "    <tr>\n",
       "      <th>442</th>\n",
       "      <td>2019-10-01 00:07:07</td>\n",
       "      <td>purchase</td>\n",
       "      <td>13800054</td>\n",
       "      <td>2053013557418656265</td>\n",
       "      <td>furniture.bathroom.toilet</td>\n",
       "      <td>santeri</td>\n",
       "      <td>54.42</td>\n",
       "      <td>555332717</td>\n",
       "      <td>1dea3ee2-2ded-42e8-8e7a-4e2ad6ae942f</td>\n",
       "    </tr>\n",
       "    <tr>\n",
       "      <th>574</th>\n",
       "      <td>2019-10-01 00:09:26</td>\n",
       "      <td>purchase</td>\n",
       "      <td>4804055</td>\n",
       "      <td>2053013554658804075</td>\n",
       "      <td>electronics.audio.headphone</td>\n",
       "      <td>apple</td>\n",
       "      <td>189.91</td>\n",
       "      <td>524601178</td>\n",
       "      <td>2af9b570-0942-4dcd-8f25-4d84fba82553</td>\n",
       "    </tr>\n",
       "    <tr>\n",
       "      <th>...</th>\n",
       "      <td>...</td>\n",
       "      <td>...</td>\n",
       "      <td>...</td>\n",
       "      <td>...</td>\n",
       "      <td>...</td>\n",
       "      <td>...</td>\n",
       "      <td>...</td>\n",
       "      <td>...</td>\n",
       "      <td>...</td>\n",
       "    </tr>\n",
       "    <tr>\n",
       "      <th>999366</th>\n",
       "      <td>2019-10-01 16:55:43</td>\n",
       "      <td>purchase</td>\n",
       "      <td>38900019</td>\n",
       "      <td>2085718636156158307</td>\n",
       "      <td>None</td>\n",
       "      <td>None</td>\n",
       "      <td>95.24</td>\n",
       "      <td>550303174</td>\n",
       "      <td>15278f8b-343f-4470-b501-8f70a5b3b590</td>\n",
       "    </tr>\n",
       "    <tr>\n",
       "      <th>999528</th>\n",
       "      <td>2019-10-01 16:55:50</td>\n",
       "      <td>purchase</td>\n",
       "      <td>1005008</td>\n",
       "      <td>2053013555631882655</td>\n",
       "      <td>electronics.smartphone</td>\n",
       "      <td>xiaomi</td>\n",
       "      <td>99.87</td>\n",
       "      <td>555716116</td>\n",
       "      <td>95725ae0-8e19-4d61-ae1b-39e08b7e391e</td>\n",
       "    </tr>\n",
       "    <tr>\n",
       "      <th>999537</th>\n",
       "      <td>2019-10-01 16:55:50</td>\n",
       "      <td>purchase</td>\n",
       "      <td>1004767</td>\n",
       "      <td>2053013555631882655</td>\n",
       "      <td>electronics.smartphone</td>\n",
       "      <td>samsung</td>\n",
       "      <td>254.11</td>\n",
       "      <td>527587941</td>\n",
       "      <td>d00aa9da-9209-4a1b-9bde-2626183b53fd</td>\n",
       "    </tr>\n",
       "    <tr>\n",
       "      <th>999632</th>\n",
       "      <td>2019-10-01 16:55:54</td>\n",
       "      <td>purchase</td>\n",
       "      <td>1004235</td>\n",
       "      <td>2053013555631882655</td>\n",
       "      <td>electronics.smartphone</td>\n",
       "      <td>apple</td>\n",
       "      <td>1184.04</td>\n",
       "      <td>525937902</td>\n",
       "      <td>c7d555aa-d12d-47fe-9752-8930dac255fa</td>\n",
       "    </tr>\n",
       "    <tr>\n",
       "      <th>999929</th>\n",
       "      <td>2019-10-01 16:56:04</td>\n",
       "      <td>purchase</td>\n",
       "      <td>5100337</td>\n",
       "      <td>2053013553341792533</td>\n",
       "      <td>electronics.clocks</td>\n",
       "      <td>apple</td>\n",
       "      <td>311.73</td>\n",
       "      <td>513059262</td>\n",
       "      <td>7a985577-b4eb-4bcc-849e-4cc3679ee7ca</td>\n",
       "    </tr>\n",
       "  </tbody>\n",
       "</table>\n",
       "<p>16848 rows × 9 columns</p>\n",
       "</div>"
      ],
      "text/plain": [
       "                event_time event_type  product_id          category_id  \\\n",
       "162    2019-10-01 00:02:14   purchase     1004856  2053013555631882655   \n",
       "308    2019-10-01 00:04:37   purchase     1002532  2053013555631882655   \n",
       "379    2019-10-01 00:06:02   purchase     5100816  2053013553375346967   \n",
       "442    2019-10-01 00:07:07   purchase    13800054  2053013557418656265   \n",
       "574    2019-10-01 00:09:26   purchase     4804055  2053013554658804075   \n",
       "...                    ...        ...         ...                  ...   \n",
       "999366 2019-10-01 16:55:43   purchase    38900019  2085718636156158307   \n",
       "999528 2019-10-01 16:55:50   purchase     1005008  2053013555631882655   \n",
       "999537 2019-10-01 16:55:50   purchase     1004767  2053013555631882655   \n",
       "999632 2019-10-01 16:55:54   purchase     1004235  2053013555631882655   \n",
       "999929 2019-10-01 16:56:04   purchase     5100337  2053013553341792533   \n",
       "\n",
       "                      category_code    brand    price    user_id  \\\n",
       "162          electronics.smartphone  samsung   130.76  543272936   \n",
       "308          electronics.smartphone    apple   642.69  551377651   \n",
       "379                            None   xiaomi    29.51  514591159   \n",
       "442       furniture.bathroom.toilet  santeri    54.42  555332717   \n",
       "574     electronics.audio.headphone    apple   189.91  524601178   \n",
       "...                             ...      ...      ...        ...   \n",
       "999366                         None     None    95.24  550303174   \n",
       "999528       electronics.smartphone   xiaomi    99.87  555716116   \n",
       "999537       electronics.smartphone  samsung   254.11  527587941   \n",
       "999632       electronics.smartphone    apple  1184.04  525937902   \n",
       "999929           electronics.clocks    apple   311.73  513059262   \n",
       "\n",
       "                                user_session  \n",
       "162     8187d148-3c41-46d4-b0c0-9c08cd9dc564  \n",
       "308     3c80f0d6-e9ec-4181-8c5c-837a30be2d68  \n",
       "379     0e5dfc4b-2a55-43e6-8c05-97e1f07fbb56  \n",
       "442     1dea3ee2-2ded-42e8-8e7a-4e2ad6ae942f  \n",
       "574     2af9b570-0942-4dcd-8f25-4d84fba82553  \n",
       "...                                      ...  \n",
       "999366  15278f8b-343f-4470-b501-8f70a5b3b590  \n",
       "999528  95725ae0-8e19-4d61-ae1b-39e08b7e391e  \n",
       "999537  d00aa9da-9209-4a1b-9bde-2626183b53fd  \n",
       "999632  c7d555aa-d12d-47fe-9752-8930dac255fa  \n",
       "999929  7a985577-b4eb-4bcc-849e-4cc3679ee7ca  \n",
       "\n",
       "[16848 rows x 9 columns]"
      ]
     },
     "execution_count": 34,
     "metadata": {},
     "output_type": "execute_result"
    }
   ],
   "source": [
    "%%time\n",
    "#load the feather data cause feather more lightweight\n",
    "data = pd.read_feather('./tmp/data')\n",
    "data"
   ]
  },
  {
   "cell_type": "code",
   "execution_count": 35,
   "id": "9b69ba36",
   "metadata": {
    "execution": {
     "iopub.execute_input": "2021-07-11T04:26:22.885210Z",
     "iopub.status.busy": "2021-07-11T04:26:22.884484Z",
     "iopub.status.idle": "2021-07-11T04:26:22.888449Z",
     "shell.execute_reply": "2021-07-11T04:26:22.888927Z",
     "shell.execute_reply.started": "2021-07-11T02:51:21.580865Z"
    },
    "papermill": {
     "duration": 0.04785,
     "end_time": "2021-07-11T04:26:22.889115",
     "exception": false,
     "start_time": "2021-07-11T04:26:22.841265",
     "status": "completed"
    },
    "tags": []
   },
   "outputs": [
    {
     "data": {
      "text/plain": [
       "event_time       datetime64[ns]\n",
       "event_type               object\n",
       "product_id                int64\n",
       "category_id               int64\n",
       "category_code            object\n",
       "brand                    object\n",
       "price                   float64\n",
       "user_id                   int64\n",
       "user_session             object\n",
       "dtype: object"
      ]
     },
     "execution_count": 35,
     "metadata": {},
     "output_type": "execute_result"
    }
   ],
   "source": [
    "data.dtypes"
   ]
  },
  {
   "cell_type": "markdown",
   "id": "d9f23331",
   "metadata": {
    "papermill": {
     "duration": 0.037028,
     "end_time": "2021-07-11T04:26:22.965310",
     "exception": false,
     "start_time": "2021-07-11T04:26:22.928282",
     "status": "completed"
    },
    "tags": []
   },
   "source": [
    "we can see that each session is equal to 1 transaction in terms of sessions being multiples with every product sold\n",
    "so we need to merge every session together "
   ]
  },
  {
   "cell_type": "code",
   "execution_count": 43,
   "metadata": {},
   "outputs": [],
   "source": [
    "session_counts = data.groupby('user_id')['user_session'].nunique()\n",
    "result = session_counts[session_counts > 1]\n",
    "filtered_data = data[data['user_id'].isin(result.index)]"
   ]
  },
  {
   "cell_type": "code",
   "execution_count": 48,
   "metadata": {},
   "outputs": [
    {
     "data": {
      "text/html": [
       "<div>\n",
       "<style scoped>\n",
       "    .dataframe tbody tr th:only-of-type {\n",
       "        vertical-align: middle;\n",
       "    }\n",
       "\n",
       "    .dataframe tbody tr th {\n",
       "        vertical-align: top;\n",
       "    }\n",
       "\n",
       "    .dataframe thead th {\n",
       "        text-align: right;\n",
       "    }\n",
       "</style>\n",
       "<table border=\"1\" class=\"dataframe\">\n",
       "  <thead>\n",
       "    <tr style=\"text-align: right;\">\n",
       "      <th></th>\n",
       "      <th>event_time</th>\n",
       "      <th>event_type</th>\n",
       "      <th>product_id</th>\n",
       "      <th>category_id</th>\n",
       "      <th>category_code</th>\n",
       "      <th>brand</th>\n",
       "      <th>price</th>\n",
       "      <th>user_id</th>\n",
       "      <th>user_session</th>\n",
       "    </tr>\n",
       "  </thead>\n",
       "  <tbody>\n",
       "    <tr>\n",
       "      <th>513660</th>\n",
       "      <td>2019-10-01 10:35:02</td>\n",
       "      <td>purchase</td>\n",
       "      <td>30000048</td>\n",
       "      <td>2127425436764865054</td>\n",
       "      <td>construction.tools.welding</td>\n",
       "      <td>None</td>\n",
       "      <td>118.90</td>\n",
       "      <td>477886872</td>\n",
       "      <td>b3e47e8d-05d4-4c39-850d-6dd5ff8d4e4c</td>\n",
       "    </tr>\n",
       "    <tr>\n",
       "      <th>398371</th>\n",
       "      <td>2019-10-01 08:56:01</td>\n",
       "      <td>purchase</td>\n",
       "      <td>12500527</td>\n",
       "      <td>2053013556277805513</td>\n",
       "      <td>None</td>\n",
       "      <td>crown</td>\n",
       "      <td>47.62</td>\n",
       "      <td>477886872</td>\n",
       "      <td>87baa9be-7c9c-41a0-95e2-3ac7c1433afc</td>\n",
       "    </tr>\n",
       "    <tr>\n",
       "      <th>555105</th>\n",
       "      <td>2019-10-01 11:13:16</td>\n",
       "      <td>purchase</td>\n",
       "      <td>3200201</td>\n",
       "      <td>2053013555321504139</td>\n",
       "      <td>appliances.kitchen.meat_grinder</td>\n",
       "      <td>elenberg</td>\n",
       "      <td>46.31</td>\n",
       "      <td>512363712</td>\n",
       "      <td>186030ce-641e-4085-ba4a-5493d2418edb</td>\n",
       "    </tr>\n",
       "    <tr>\n",
       "      <th>505444</th>\n",
       "      <td>2019-10-01 10:27:38</td>\n",
       "      <td>purchase</td>\n",
       "      <td>1801766</td>\n",
       "      <td>2053013554415534427</td>\n",
       "      <td>electronics.video.tv</td>\n",
       "      <td>artel</td>\n",
       "      <td>150.70</td>\n",
       "      <td>512363712</td>\n",
       "      <td>b19dc398-c0eb-462a-a60a-e7056fecfc54</td>\n",
       "    </tr>\n",
       "    <tr>\n",
       "      <th>893850</th>\n",
       "      <td>2019-10-01 15:52:05</td>\n",
       "      <td>purchase</td>\n",
       "      <td>38400048</td>\n",
       "      <td>2079713971606127501</td>\n",
       "      <td>None</td>\n",
       "      <td>None</td>\n",
       "      <td>7.14</td>\n",
       "      <td>512367874</td>\n",
       "      <td>35c79d7a-a3c8-4a83-9adb-1568db1b6566</td>\n",
       "    </tr>\n",
       "    <tr>\n",
       "      <th>...</th>\n",
       "      <td>...</td>\n",
       "      <td>...</td>\n",
       "      <td>...</td>\n",
       "      <td>...</td>\n",
       "      <td>...</td>\n",
       "      <td>...</td>\n",
       "      <td>...</td>\n",
       "      <td>...</td>\n",
       "      <td>...</td>\n",
       "    </tr>\n",
       "    <tr>\n",
       "      <th>976921</th>\n",
       "      <td>2019-10-01 16:42:00</td>\n",
       "      <td>purchase</td>\n",
       "      <td>1004870</td>\n",
       "      <td>2053013555631882655</td>\n",
       "      <td>electronics.smartphone</td>\n",
       "      <td>samsung</td>\n",
       "      <td>286.84</td>\n",
       "      <td>555705674</td>\n",
       "      <td>c2723091-8a61-4fe6-92dc-14914bd1d1e5</td>\n",
       "    </tr>\n",
       "    <tr>\n",
       "      <th>995540</th>\n",
       "      <td>2019-10-01 16:53:23</td>\n",
       "      <td>purchase</td>\n",
       "      <td>1004870</td>\n",
       "      <td>2053013555631882655</td>\n",
       "      <td>electronics.smartphone</td>\n",
       "      <td>samsung</td>\n",
       "      <td>286.84</td>\n",
       "      <td>555705674</td>\n",
       "      <td>6b1b6291-61ed-4423-904a-1ec4e53b2677</td>\n",
       "    </tr>\n",
       "    <tr>\n",
       "      <th>997883</th>\n",
       "      <td>2019-10-01 16:54:48</td>\n",
       "      <td>purchase</td>\n",
       "      <td>1004870</td>\n",
       "      <td>2053013555631882655</td>\n",
       "      <td>electronics.smartphone</td>\n",
       "      <td>samsung</td>\n",
       "      <td>286.84</td>\n",
       "      <td>555705674</td>\n",
       "      <td>6b1b6291-61ed-4423-904a-1ec4e53b2677</td>\n",
       "    </tr>\n",
       "    <tr>\n",
       "      <th>959731</th>\n",
       "      <td>2019-10-01 16:31:42</td>\n",
       "      <td>purchase</td>\n",
       "      <td>1801995</td>\n",
       "      <td>2053013554415534427</td>\n",
       "      <td>electronics.video.tv</td>\n",
       "      <td>haier</td>\n",
       "      <td>193.03</td>\n",
       "      <td>555705915</td>\n",
       "      <td>90d0a870-ec71-4def-b1a6-17c3d9aa2d02</td>\n",
       "    </tr>\n",
       "    <tr>\n",
       "      <th>989963</th>\n",
       "      <td>2019-10-01 16:49:56</td>\n",
       "      <td>purchase</td>\n",
       "      <td>1801995</td>\n",
       "      <td>2053013554415534427</td>\n",
       "      <td>electronics.video.tv</td>\n",
       "      <td>haier</td>\n",
       "      <td>193.03</td>\n",
       "      <td>555705915</td>\n",
       "      <td>0f9c1eab-ec8a-498f-8446-719fa05ff24f</td>\n",
       "    </tr>\n",
       "  </tbody>\n",
       "</table>\n",
       "<p>4226 rows × 9 columns</p>\n",
       "</div>"
      ],
      "text/plain": [
       "                event_time event_type  product_id          category_id  \\\n",
       "513660 2019-10-01 10:35:02   purchase    30000048  2127425436764865054   \n",
       "398371 2019-10-01 08:56:01   purchase    12500527  2053013556277805513   \n",
       "555105 2019-10-01 11:13:16   purchase     3200201  2053013555321504139   \n",
       "505444 2019-10-01 10:27:38   purchase     1801766  2053013554415534427   \n",
       "893850 2019-10-01 15:52:05   purchase    38400048  2079713971606127501   \n",
       "...                    ...        ...         ...                  ...   \n",
       "976921 2019-10-01 16:42:00   purchase     1004870  2053013555631882655   \n",
       "995540 2019-10-01 16:53:23   purchase     1004870  2053013555631882655   \n",
       "997883 2019-10-01 16:54:48   purchase     1004870  2053013555631882655   \n",
       "959731 2019-10-01 16:31:42   purchase     1801995  2053013554415534427   \n",
       "989963 2019-10-01 16:49:56   purchase     1801995  2053013554415534427   \n",
       "\n",
       "                          category_code     brand   price    user_id  \\\n",
       "513660       construction.tools.welding      None  118.90  477886872   \n",
       "398371                             None     crown   47.62  477886872   \n",
       "555105  appliances.kitchen.meat_grinder  elenberg   46.31  512363712   \n",
       "505444             electronics.video.tv     artel  150.70  512363712   \n",
       "893850                             None      None    7.14  512367874   \n",
       "...                                 ...       ...     ...        ...   \n",
       "976921           electronics.smartphone   samsung  286.84  555705674   \n",
       "995540           electronics.smartphone   samsung  286.84  555705674   \n",
       "997883           electronics.smartphone   samsung  286.84  555705674   \n",
       "959731             electronics.video.tv     haier  193.03  555705915   \n",
       "989963             electronics.video.tv     haier  193.03  555705915   \n",
       "\n",
       "                                user_session  \n",
       "513660  b3e47e8d-05d4-4c39-850d-6dd5ff8d4e4c  \n",
       "398371  87baa9be-7c9c-41a0-95e2-3ac7c1433afc  \n",
       "555105  186030ce-641e-4085-ba4a-5493d2418edb  \n",
       "505444  b19dc398-c0eb-462a-a60a-e7056fecfc54  \n",
       "893850  35c79d7a-a3c8-4a83-9adb-1568db1b6566  \n",
       "...                                      ...  \n",
       "976921  c2723091-8a61-4fe6-92dc-14914bd1d1e5  \n",
       "995540  6b1b6291-61ed-4423-904a-1ec4e53b2677  \n",
       "997883  6b1b6291-61ed-4423-904a-1ec4e53b2677  \n",
       "959731  90d0a870-ec71-4def-b1a6-17c3d9aa2d02  \n",
       "989963  0f9c1eab-ec8a-498f-8446-719fa05ff24f  \n",
       "\n",
       "[4226 rows x 9 columns]"
      ]
     },
     "execution_count": 48,
     "metadata": {},
     "output_type": "execute_result"
    }
   ],
   "source": [
    "filtered_data.sort_values(by=['user_id'])\n",
    "filtered_data"
   ]
  },
  {
   "cell_type": "markdown",
   "metadata": {},
   "source": [
    "You can see that one user can have multiple sessions."
   ]
  },
  {
   "cell_type": "code",
   "execution_count": 50,
   "metadata": {},
   "outputs": [
    {
     "data": {
      "text/html": [
       "<div>\n",
       "<style scoped>\n",
       "    .dataframe tbody tr th:only-of-type {\n",
       "        vertical-align: middle;\n",
       "    }\n",
       "\n",
       "    .dataframe tbody tr th {\n",
       "        vertical-align: top;\n",
       "    }\n",
       "\n",
       "    .dataframe thead th {\n",
       "        text-align: right;\n",
       "    }\n",
       "</style>\n",
       "<table border=\"1\" class=\"dataframe\">\n",
       "  <thead>\n",
       "    <tr style=\"text-align: right;\">\n",
       "      <th></th>\n",
       "      <th>user_id</th>\n",
       "    </tr>\n",
       "    <tr>\n",
       "      <th>user_session</th>\n",
       "      <th></th>\n",
       "    </tr>\n",
       "  </thead>\n",
       "  <tbody>\n",
       "    <tr>\n",
       "      <th>0002c5ea-3509-4d0b-9618-7e40925005f0</th>\n",
       "      <td>1</td>\n",
       "    </tr>\n",
       "    <tr>\n",
       "      <th>000fdfe4-e1f0-4a93-9c22-f04066ad895e</th>\n",
       "      <td>1</td>\n",
       "    </tr>\n",
       "    <tr>\n",
       "      <th>001226df-03c7-41e6-a9c4-7d0233348bd5</th>\n",
       "      <td>1</td>\n",
       "    </tr>\n",
       "    <tr>\n",
       "      <th>001a0d5b-5b97-4a48-8494-67c1cacc8c97</th>\n",
       "      <td>1</td>\n",
       "    </tr>\n",
       "    <tr>\n",
       "      <th>002ccd2c-50f7-4122-963b-fb6a907e414c</th>\n",
       "      <td>2</td>\n",
       "    </tr>\n",
       "    <tr>\n",
       "      <th>...</th>\n",
       "      <td>...</td>\n",
       "    </tr>\n",
       "    <tr>\n",
       "      <th>ffd484e5-537a-47d5-9274-28c2bb4bd6f0</th>\n",
       "      <td>1</td>\n",
       "    </tr>\n",
       "    <tr>\n",
       "      <th>ffd500d6-4d3c-4c3b-aa2c-e9b58463dee4</th>\n",
       "      <td>1</td>\n",
       "    </tr>\n",
       "    <tr>\n",
       "      <th>ffd82958-73c8-4209-8ad9-80451e058704</th>\n",
       "      <td>1</td>\n",
       "    </tr>\n",
       "    <tr>\n",
       "      <th>ffde27c7-841c-4500-89ae-db5f36057166</th>\n",
       "      <td>1</td>\n",
       "    </tr>\n",
       "    <tr>\n",
       "      <th>ffe660fb-f5a8-47cf-abb4-e91b4bc5bcb0</th>\n",
       "      <td>1</td>\n",
       "    </tr>\n",
       "  </tbody>\n",
       "</table>\n",
       "<p>14316 rows × 1 columns</p>\n",
       "</div>"
      ],
      "text/plain": [
       "                                      user_id\n",
       "user_session                                 \n",
       "0002c5ea-3509-4d0b-9618-7e40925005f0        1\n",
       "000fdfe4-e1f0-4a93-9c22-f04066ad895e        1\n",
       "001226df-03c7-41e6-a9c4-7d0233348bd5        1\n",
       "001a0d5b-5b97-4a48-8494-67c1cacc8c97        1\n",
       "002ccd2c-50f7-4122-963b-fb6a907e414c        2\n",
       "...                                       ...\n",
       "ffd484e5-537a-47d5-9274-28c2bb4bd6f0        1\n",
       "ffd500d6-4d3c-4c3b-aa2c-e9b58463dee4        1\n",
       "ffd82958-73c8-4209-8ad9-80451e058704        1\n",
       "ffde27c7-841c-4500-89ae-db5f36057166        1\n",
       "ffe660fb-f5a8-47cf-abb4-e91b4bc5bcb0        1\n",
       "\n",
       "[14316 rows x 1 columns]"
      ]
     },
     "execution_count": 50,
     "metadata": {},
     "output_type": "execute_result"
    }
   ],
   "source": [
    "data.groupby('user_session').agg(user_id=('user_id', 'count'))"
   ]
  },
  {
   "cell_type": "code",
   "execution_count": 59,
   "metadata": {},
   "outputs": [
    {
     "data": {
      "text/html": [
       "<div>\n",
       "<style scoped>\n",
       "    .dataframe tbody tr th:only-of-type {\n",
       "        vertical-align: middle;\n",
       "    }\n",
       "\n",
       "    .dataframe tbody tr th {\n",
       "        vertical-align: top;\n",
       "    }\n",
       "\n",
       "    .dataframe thead th {\n",
       "        text-align: right;\n",
       "    }\n",
       "</style>\n",
       "<table border=\"1\" class=\"dataframe\">\n",
       "  <thead>\n",
       "    <tr style=\"text-align: right;\">\n",
       "      <th></th>\n",
       "      <th>order_time</th>\n",
       "    </tr>\n",
       "    <tr>\n",
       "      <th>user_session</th>\n",
       "      <th></th>\n",
       "    </tr>\n",
       "  </thead>\n",
       "  <tbody>\n",
       "    <tr>\n",
       "      <th>0002c5ea-3509-4d0b-9618-7e40925005f0</th>\n",
       "      <td>2019-10-01 06:10:46</td>\n",
       "    </tr>\n",
       "    <tr>\n",
       "      <th>000fdfe4-e1f0-4a93-9c22-f04066ad895e</th>\n",
       "      <td>2019-10-01 13:37:06</td>\n",
       "    </tr>\n",
       "    <tr>\n",
       "      <th>001226df-03c7-41e6-a9c4-7d0233348bd5</th>\n",
       "      <td>2019-10-01 14:13:11</td>\n",
       "    </tr>\n",
       "    <tr>\n",
       "      <th>001a0d5b-5b97-4a48-8494-67c1cacc8c97</th>\n",
       "      <td>2019-10-01 08:31:51</td>\n",
       "    </tr>\n",
       "    <tr>\n",
       "      <th>002ccd2c-50f7-4122-963b-fb6a907e414c</th>\n",
       "      <td>[2019-10-01 05:47:47, 2019-10-01 05:49:27]</td>\n",
       "    </tr>\n",
       "    <tr>\n",
       "      <th>...</th>\n",
       "      <td>...</td>\n",
       "    </tr>\n",
       "    <tr>\n",
       "      <th>ffd484e5-537a-47d5-9274-28c2bb4bd6f0</th>\n",
       "      <td>2019-10-01 07:57:39</td>\n",
       "    </tr>\n",
       "    <tr>\n",
       "      <th>ffd500d6-4d3c-4c3b-aa2c-e9b58463dee4</th>\n",
       "      <td>2019-10-01 11:23:22</td>\n",
       "    </tr>\n",
       "    <tr>\n",
       "      <th>ffd82958-73c8-4209-8ad9-80451e058704</th>\n",
       "      <td>2019-10-01 16:23:37</td>\n",
       "    </tr>\n",
       "    <tr>\n",
       "      <th>ffde27c7-841c-4500-89ae-db5f36057166</th>\n",
       "      <td>2019-10-01 12:35:37</td>\n",
       "    </tr>\n",
       "    <tr>\n",
       "      <th>ffe660fb-f5a8-47cf-abb4-e91b4bc5bcb0</th>\n",
       "      <td>2019-10-01 04:01:32</td>\n",
       "    </tr>\n",
       "  </tbody>\n",
       "</table>\n",
       "<p>14316 rows × 1 columns</p>\n",
       "</div>"
      ],
      "text/plain": [
       "                                                                      order_time\n",
       "user_session                                                                    \n",
       "0002c5ea-3509-4d0b-9618-7e40925005f0                         2019-10-01 06:10:46\n",
       "000fdfe4-e1f0-4a93-9c22-f04066ad895e                         2019-10-01 13:37:06\n",
       "001226df-03c7-41e6-a9c4-7d0233348bd5                         2019-10-01 14:13:11\n",
       "001a0d5b-5b97-4a48-8494-67c1cacc8c97                         2019-10-01 08:31:51\n",
       "002ccd2c-50f7-4122-963b-fb6a907e414c  [2019-10-01 05:47:47, 2019-10-01 05:49:27]\n",
       "...                                                                          ...\n",
       "ffd484e5-537a-47d5-9274-28c2bb4bd6f0                         2019-10-01 07:57:39\n",
       "ffd500d6-4d3c-4c3b-aa2c-e9b58463dee4                         2019-10-01 11:23:22\n",
       "ffd82958-73c8-4209-8ad9-80451e058704                         2019-10-01 16:23:37\n",
       "ffde27c7-841c-4500-89ae-db5f36057166                         2019-10-01 12:35:37\n",
       "ffe660fb-f5a8-47cf-abb4-e91b4bc5bcb0                         2019-10-01 04:01:32\n",
       "\n",
       "[14316 rows x 1 columns]"
      ]
     },
     "execution_count": 59,
     "metadata": {},
     "output_type": "execute_result"
    }
   ],
   "source": [
    "result = data.groupby(by='user_session').agg(order_time=('event_time',lambda x: x))\n",
    "result"
   ]
  },
  {
   "cell_type": "code",
   "execution_count": 63,
   "metadata": {},
   "outputs": [
    {
     "data": {
      "text/html": [
       "<div>\n",
       "<style scoped>\n",
       "    .dataframe tbody tr th:only-of-type {\n",
       "        vertical-align: middle;\n",
       "    }\n",
       "\n",
       "    .dataframe tbody tr th {\n",
       "        vertical-align: top;\n",
       "    }\n",
       "\n",
       "    .dataframe thead th {\n",
       "        text-align: right;\n",
       "    }\n",
       "</style>\n",
       "<table border=\"1\" class=\"dataframe\">\n",
       "  <thead>\n",
       "    <tr style=\"text-align: right;\">\n",
       "      <th></th>\n",
       "      <th>event_time</th>\n",
       "      <th>event_type</th>\n",
       "      <th>product_id</th>\n",
       "      <th>category_id</th>\n",
       "      <th>category_code</th>\n",
       "      <th>brand</th>\n",
       "      <th>price</th>\n",
       "      <th>user_id</th>\n",
       "      <th>user_session</th>\n",
       "    </tr>\n",
       "  </thead>\n",
       "  <tbody>\n",
       "    <tr>\n",
       "      <th>178861</th>\n",
       "      <td>2019-10-01 05:47:47</td>\n",
       "      <td>purchase</td>\n",
       "      <td>1004665</td>\n",
       "      <td>2053013555631882655</td>\n",
       "      <td>electronics.smartphone</td>\n",
       "      <td>samsung</td>\n",
       "      <td>871.07</td>\n",
       "      <td>532770412</td>\n",
       "      <td>002ccd2c-50f7-4122-963b-fb6a907e414c</td>\n",
       "    </tr>\n",
       "    <tr>\n",
       "      <th>180632</th>\n",
       "      <td>2019-10-01 05:49:27</td>\n",
       "      <td>purchase</td>\n",
       "      <td>1004653</td>\n",
       "      <td>2053013555631882655</td>\n",
       "      <td>electronics.smartphone</td>\n",
       "      <td>samsung</td>\n",
       "      <td>636.05</td>\n",
       "      <td>532770412</td>\n",
       "      <td>002ccd2c-50f7-4122-963b-fb6a907e414c</td>\n",
       "    </tr>\n",
       "  </tbody>\n",
       "</table>\n",
       "</div>"
      ],
      "text/plain": [
       "                event_time event_type  product_id          category_id  \\\n",
       "178861 2019-10-01 05:47:47   purchase     1004665  2053013555631882655   \n",
       "180632 2019-10-01 05:49:27   purchase     1004653  2053013555631882655   \n",
       "\n",
       "                 category_code    brand   price    user_id  \\\n",
       "178861  electronics.smartphone  samsung  871.07  532770412   \n",
       "180632  electronics.smartphone  samsung  636.05  532770412   \n",
       "\n",
       "                                user_session  \n",
       "178861  002ccd2c-50f7-4122-963b-fb6a907e414c  \n",
       "180632  002ccd2c-50f7-4122-963b-fb6a907e414c  "
      ]
     },
     "execution_count": 63,
     "metadata": {},
     "output_type": "execute_result"
    }
   ],
   "source": [
    "specific_session = '002ccd2c-50f7-4122-963b-fb6a907e414c'\n",
    "data[data['user_session'] == specific_session]"
   ]
  },
  {
   "cell_type": "markdown",
   "metadata": {},
   "source": [
    "You can see that there are 2 rows with the same user_session, but the event_time is different. This means that the user has made 2 purchases in the same session."
   ]
  },
  {
   "cell_type": "code",
   "execution_count": 73,
   "metadata": {},
   "outputs": [
    {
     "data": {
      "text/html": [
       "<div>\n",
       "<style scoped>\n",
       "    .dataframe tbody tr th:only-of-type {\n",
       "        vertical-align: middle;\n",
       "    }\n",
       "\n",
       "    .dataframe tbody tr th {\n",
       "        vertical-align: top;\n",
       "    }\n",
       "\n",
       "    .dataframe thead th {\n",
       "        text-align: right;\n",
       "    }\n",
       "</style>\n",
       "<table border=\"1\" class=\"dataframe\">\n",
       "  <thead>\n",
       "    <tr style=\"text-align: right;\">\n",
       "      <th></th>\n",
       "      <th>Date_order</th>\n",
       "      <th>user_id</th>\n",
       "      <th>order_count</th>\n",
       "      <th>price</th>\n",
       "    </tr>\n",
       "    <tr>\n",
       "      <th>user_session</th>\n",
       "      <th></th>\n",
       "      <th></th>\n",
       "      <th></th>\n",
       "      <th></th>\n",
       "    </tr>\n",
       "  </thead>\n",
       "  <tbody>\n",
       "    <tr>\n",
       "      <th>0002c5ea-3509-4d0b-9618-7e40925005f0</th>\n",
       "      <td>2019-10-01 06:10:46</td>\n",
       "      <td>541539898</td>\n",
       "      <td>1</td>\n",
       "      <td>9.76</td>\n",
       "    </tr>\n",
       "    <tr>\n",
       "      <th>000fdfe4-e1f0-4a93-9c22-f04066ad895e</th>\n",
       "      <td>2019-10-01 13:37:06</td>\n",
       "      <td>520206104</td>\n",
       "      <td>1</td>\n",
       "      <td>259.98</td>\n",
       "    </tr>\n",
       "    <tr>\n",
       "      <th>001226df-03c7-41e6-a9c4-7d0233348bd5</th>\n",
       "      <td>2019-10-01 14:13:11</td>\n",
       "      <td>516675926</td>\n",
       "      <td>1</td>\n",
       "      <td>1619.09</td>\n",
       "    </tr>\n",
       "    <tr>\n",
       "      <th>001a0d5b-5b97-4a48-8494-67c1cacc8c97</th>\n",
       "      <td>2019-10-01 08:31:51</td>\n",
       "      <td>541146978</td>\n",
       "      <td>1</td>\n",
       "      <td>383.51</td>\n",
       "    </tr>\n",
       "    <tr>\n",
       "      <th>002ccd2c-50f7-4122-963b-fb6a907e414c</th>\n",
       "      <td>2019-10-01 05:49:27</td>\n",
       "      <td>[532770412, 532770412]</td>\n",
       "      <td>2</td>\n",
       "      <td>1507.12</td>\n",
       "    </tr>\n",
       "    <tr>\n",
       "      <th>...</th>\n",
       "      <td>...</td>\n",
       "      <td>...</td>\n",
       "      <td>...</td>\n",
       "      <td>...</td>\n",
       "    </tr>\n",
       "    <tr>\n",
       "      <th>ffd484e5-537a-47d5-9274-28c2bb4bd6f0</th>\n",
       "      <td>2019-10-01 07:57:39</td>\n",
       "      <td>549516290</td>\n",
       "      <td>1</td>\n",
       "      <td>453.27</td>\n",
       "    </tr>\n",
       "    <tr>\n",
       "      <th>ffd500d6-4d3c-4c3b-aa2c-e9b58463dee4</th>\n",
       "      <td>2019-10-01 11:23:22</td>\n",
       "      <td>515581326</td>\n",
       "      <td>1</td>\n",
       "      <td>413.14</td>\n",
       "    </tr>\n",
       "    <tr>\n",
       "      <th>ffd82958-73c8-4209-8ad9-80451e058704</th>\n",
       "      <td>2019-10-01 16:23:37</td>\n",
       "      <td>512440842</td>\n",
       "      <td>1</td>\n",
       "      <td>975.57</td>\n",
       "    </tr>\n",
       "    <tr>\n",
       "      <th>ffde27c7-841c-4500-89ae-db5f36057166</th>\n",
       "      <td>2019-10-01 12:35:37</td>\n",
       "      <td>555627492</td>\n",
       "      <td>1</td>\n",
       "      <td>66.87</td>\n",
       "    </tr>\n",
       "    <tr>\n",
       "      <th>ffe660fb-f5a8-47cf-abb4-e91b4bc5bcb0</th>\n",
       "      <td>2019-10-01 04:01:32</td>\n",
       "      <td>548736783</td>\n",
       "      <td>1</td>\n",
       "      <td>203.35</td>\n",
       "    </tr>\n",
       "  </tbody>\n",
       "</table>\n",
       "<p>14316 rows × 4 columns</p>\n",
       "</div>"
      ],
      "text/plain": [
       "                                              Date_order  \\\n",
       "user_session                                               \n",
       "0002c5ea-3509-4d0b-9618-7e40925005f0 2019-10-01 06:10:46   \n",
       "000fdfe4-e1f0-4a93-9c22-f04066ad895e 2019-10-01 13:37:06   \n",
       "001226df-03c7-41e6-a9c4-7d0233348bd5 2019-10-01 14:13:11   \n",
       "001a0d5b-5b97-4a48-8494-67c1cacc8c97 2019-10-01 08:31:51   \n",
       "002ccd2c-50f7-4122-963b-fb6a907e414c 2019-10-01 05:49:27   \n",
       "...                                                  ...   \n",
       "ffd484e5-537a-47d5-9274-28c2bb4bd6f0 2019-10-01 07:57:39   \n",
       "ffd500d6-4d3c-4c3b-aa2c-e9b58463dee4 2019-10-01 11:23:22   \n",
       "ffd82958-73c8-4209-8ad9-80451e058704 2019-10-01 16:23:37   \n",
       "ffde27c7-841c-4500-89ae-db5f36057166 2019-10-01 12:35:37   \n",
       "ffe660fb-f5a8-47cf-abb4-e91b4bc5bcb0 2019-10-01 04:01:32   \n",
       "\n",
       "                                                     user_id  order_count  \\\n",
       "user_session                                                                \n",
       "0002c5ea-3509-4d0b-9618-7e40925005f0               541539898            1   \n",
       "000fdfe4-e1f0-4a93-9c22-f04066ad895e               520206104            1   \n",
       "001226df-03c7-41e6-a9c4-7d0233348bd5               516675926            1   \n",
       "001a0d5b-5b97-4a48-8494-67c1cacc8c97               541146978            1   \n",
       "002ccd2c-50f7-4122-963b-fb6a907e414c  [532770412, 532770412]            2   \n",
       "...                                                      ...          ...   \n",
       "ffd484e5-537a-47d5-9274-28c2bb4bd6f0               549516290            1   \n",
       "ffd500d6-4d3c-4c3b-aa2c-e9b58463dee4               515581326            1   \n",
       "ffd82958-73c8-4209-8ad9-80451e058704               512440842            1   \n",
       "ffde27c7-841c-4500-89ae-db5f36057166               555627492            1   \n",
       "ffe660fb-f5a8-47cf-abb4-e91b4bc5bcb0               548736783            1   \n",
       "\n",
       "                                        price  \n",
       "user_session                                   \n",
       "0002c5ea-3509-4d0b-9618-7e40925005f0     9.76  \n",
       "000fdfe4-e1f0-4a93-9c22-f04066ad895e   259.98  \n",
       "001226df-03c7-41e6-a9c4-7d0233348bd5  1619.09  \n",
       "001a0d5b-5b97-4a48-8494-67c1cacc8c97   383.51  \n",
       "002ccd2c-50f7-4122-963b-fb6a907e414c  1507.12  \n",
       "...                                       ...  \n",
       "ffd484e5-537a-47d5-9274-28c2bb4bd6f0   453.27  \n",
       "ffd500d6-4d3c-4c3b-aa2c-e9b58463dee4   413.14  \n",
       "ffd82958-73c8-4209-8ad9-80451e058704   975.57  \n",
       "ffde27c7-841c-4500-89ae-db5f36057166    66.87  \n",
       "ffe660fb-f5a8-47cf-abb4-e91b4bc5bcb0   203.35  \n",
       "\n",
       "[14316 rows x 4 columns]"
      ]
     },
     "execution_count": 73,
     "metadata": {},
     "output_type": "execute_result"
    }
   ],
   "source": [
    "result = data.groupby(by='user_session').agg(Date_order=('event_time',lambda x: x.max()), \n",
    "                                    user_id=('user_id',lambda x: x), \n",
    "                                    order_count=('user_session',lambda x: x.count()), \n",
    "                                    price=('price',lambda x: x.sum()))\n",
    "result"
   ]
  },
  {
   "cell_type": "code",
   "execution_count": 77,
   "metadata": {},
   "outputs": [
    {
     "data": {
      "text/html": [
       "<div>\n",
       "<style scoped>\n",
       "    .dataframe tbody tr th:only-of-type {\n",
       "        vertical-align: middle;\n",
       "    }\n",
       "\n",
       "    .dataframe tbody tr th {\n",
       "        vertical-align: top;\n",
       "    }\n",
       "\n",
       "    .dataframe thead th {\n",
       "        text-align: right;\n",
       "    }\n",
       "</style>\n",
       "<table border=\"1\" class=\"dataframe\">\n",
       "  <thead>\n",
       "    <tr style=\"text-align: right;\">\n",
       "      <th></th>\n",
       "      <th>Date_order</th>\n",
       "      <th>user_id</th>\n",
       "      <th>order_count</th>\n",
       "      <th>price</th>\n",
       "    </tr>\n",
       "    <tr>\n",
       "      <th>user_session</th>\n",
       "      <th></th>\n",
       "      <th></th>\n",
       "      <th></th>\n",
       "      <th></th>\n",
       "    </tr>\n",
       "  </thead>\n",
       "  <tbody>\n",
       "    <tr>\n",
       "      <th>002ccd2c-50f7-4122-963b-fb6a907e414c</th>\n",
       "      <td>2019-10-01 05:49:27</td>\n",
       "      <td>[532770412, 532770412]</td>\n",
       "      <td>2</td>\n",
       "      <td>1507.12</td>\n",
       "    </tr>\n",
       "    <tr>\n",
       "      <th>003c3709-b084-464f-9cd7-4baef596a8e6</th>\n",
       "      <td>2019-10-01 14:46:57</td>\n",
       "      <td>[514242794, 514242794, 514242794]</td>\n",
       "      <td>3</td>\n",
       "      <td>107.57</td>\n",
       "    </tr>\n",
       "    <tr>\n",
       "      <th>00582c03-360f-444c-ab30-1cce657e4333</th>\n",
       "      <td>2019-10-01 05:37:46</td>\n",
       "      <td>[512850441, 512850441]</td>\n",
       "      <td>2</td>\n",
       "      <td>2363.00</td>\n",
       "    </tr>\n",
       "    <tr>\n",
       "      <th>0059819e-af2c-418d-9207-dc546c2577ce</th>\n",
       "      <td>2019-10-01 14:29:37</td>\n",
       "      <td>[538959288, 538959288]</td>\n",
       "      <td>2</td>\n",
       "      <td>1166.56</td>\n",
       "    </tr>\n",
       "    <tr>\n",
       "      <th>006efdc9-a7cf-4d2f-97a4-0ff858b35626</th>\n",
       "      <td>2019-10-01 08:45:03</td>\n",
       "      <td>[555551770, 555551770]</td>\n",
       "      <td>2</td>\n",
       "      <td>1049.93</td>\n",
       "    </tr>\n",
       "    <tr>\n",
       "      <th>...</th>\n",
       "      <td>...</td>\n",
       "      <td>...</td>\n",
       "      <td>...</td>\n",
       "      <td>...</td>\n",
       "    </tr>\n",
       "    <tr>\n",
       "      <th>ff0000ac-57ba-4457-ba85-1752f857f8d0</th>\n",
       "      <td>2019-10-01 08:06:50</td>\n",
       "      <td>[514638094, 514638094]</td>\n",
       "      <td>2</td>\n",
       "      <td>283.14</td>\n",
       "    </tr>\n",
       "    <tr>\n",
       "      <th>ff20239b-1dbb-4268-b1bc-7b9102f4bbec</th>\n",
       "      <td>2019-10-01 14:18:37</td>\n",
       "      <td>[512363973, 512363973]</td>\n",
       "      <td>2</td>\n",
       "      <td>25.68</td>\n",
       "    </tr>\n",
       "    <tr>\n",
       "      <th>ff26e203-3a5e-4236-bb1e-2bed7b1104bf</th>\n",
       "      <td>2019-10-01 14:57:37</td>\n",
       "      <td>[555566178, 555566178]</td>\n",
       "      <td>2</td>\n",
       "      <td>133.59</td>\n",
       "    </tr>\n",
       "    <tr>\n",
       "      <th>ff43dd50-9646-45c9-bfc7-60a9137099cc</th>\n",
       "      <td>2019-10-01 12:24:23</td>\n",
       "      <td>[552589630, 552589630]</td>\n",
       "      <td>2</td>\n",
       "      <td>272.86</td>\n",
       "    </tr>\n",
       "    <tr>\n",
       "      <th>ff8802e7-0b34-4796-bf69-8f7dd1817e77</th>\n",
       "      <td>2019-10-01 07:06:03</td>\n",
       "      <td>[526933626, 526933626, 526933626]</td>\n",
       "      <td>3</td>\n",
       "      <td>524.25</td>\n",
       "    </tr>\n",
       "  </tbody>\n",
       "</table>\n",
       "<p>1794 rows × 4 columns</p>\n",
       "</div>"
      ],
      "text/plain": [
       "                                              Date_order  \\\n",
       "user_session                                               \n",
       "002ccd2c-50f7-4122-963b-fb6a907e414c 2019-10-01 05:49:27   \n",
       "003c3709-b084-464f-9cd7-4baef596a8e6 2019-10-01 14:46:57   \n",
       "00582c03-360f-444c-ab30-1cce657e4333 2019-10-01 05:37:46   \n",
       "0059819e-af2c-418d-9207-dc546c2577ce 2019-10-01 14:29:37   \n",
       "006efdc9-a7cf-4d2f-97a4-0ff858b35626 2019-10-01 08:45:03   \n",
       "...                                                  ...   \n",
       "ff0000ac-57ba-4457-ba85-1752f857f8d0 2019-10-01 08:06:50   \n",
       "ff20239b-1dbb-4268-b1bc-7b9102f4bbec 2019-10-01 14:18:37   \n",
       "ff26e203-3a5e-4236-bb1e-2bed7b1104bf 2019-10-01 14:57:37   \n",
       "ff43dd50-9646-45c9-bfc7-60a9137099cc 2019-10-01 12:24:23   \n",
       "ff8802e7-0b34-4796-bf69-8f7dd1817e77 2019-10-01 07:06:03   \n",
       "\n",
       "                                                                user_id  \\\n",
       "user_session                                                              \n",
       "002ccd2c-50f7-4122-963b-fb6a907e414c             [532770412, 532770412]   \n",
       "003c3709-b084-464f-9cd7-4baef596a8e6  [514242794, 514242794, 514242794]   \n",
       "00582c03-360f-444c-ab30-1cce657e4333             [512850441, 512850441]   \n",
       "0059819e-af2c-418d-9207-dc546c2577ce             [538959288, 538959288]   \n",
       "006efdc9-a7cf-4d2f-97a4-0ff858b35626             [555551770, 555551770]   \n",
       "...                                                                 ...   \n",
       "ff0000ac-57ba-4457-ba85-1752f857f8d0             [514638094, 514638094]   \n",
       "ff20239b-1dbb-4268-b1bc-7b9102f4bbec             [512363973, 512363973]   \n",
       "ff26e203-3a5e-4236-bb1e-2bed7b1104bf             [555566178, 555566178]   \n",
       "ff43dd50-9646-45c9-bfc7-60a9137099cc             [552589630, 552589630]   \n",
       "ff8802e7-0b34-4796-bf69-8f7dd1817e77  [526933626, 526933626, 526933626]   \n",
       "\n",
       "                                      order_count    price  \n",
       "user_session                                                \n",
       "002ccd2c-50f7-4122-963b-fb6a907e414c            2  1507.12  \n",
       "003c3709-b084-464f-9cd7-4baef596a8e6            3   107.57  \n",
       "00582c03-360f-444c-ab30-1cce657e4333            2  2363.00  \n",
       "0059819e-af2c-418d-9207-dc546c2577ce            2  1166.56  \n",
       "006efdc9-a7cf-4d2f-97a4-0ff858b35626            2  1049.93  \n",
       "...                                           ...      ...  \n",
       "ff0000ac-57ba-4457-ba85-1752f857f8d0            2   283.14  \n",
       "ff20239b-1dbb-4268-b1bc-7b9102f4bbec            2    25.68  \n",
       "ff26e203-3a5e-4236-bb1e-2bed7b1104bf            2   133.59  \n",
       "ff43dd50-9646-45c9-bfc7-60a9137099cc            2   272.86  \n",
       "ff8802e7-0b34-4796-bf69-8f7dd1817e77            3   524.25  \n",
       "\n",
       "[1794 rows x 4 columns]"
      ]
     },
     "execution_count": 77,
     "metadata": {},
     "output_type": "execute_result"
    }
   ],
   "source": [
    "result_gt_1 = result[result['order_count'] > 1]\n",
    "result_gt_1"
   ]
  },
  {
   "cell_type": "markdown",
   "metadata": {},
   "source": [
    "We hope column user_id is unique. "
   ]
  },
  {
   "cell_type": "code",
   "execution_count": 83,
   "metadata": {},
   "outputs": [
    {
     "data": {
      "text/html": [
       "<div>\n",
       "<style scoped>\n",
       "    .dataframe tbody tr th:only-of-type {\n",
       "        vertical-align: middle;\n",
       "    }\n",
       "\n",
       "    .dataframe tbody tr th {\n",
       "        vertical-align: top;\n",
       "    }\n",
       "\n",
       "    .dataframe thead th {\n",
       "        text-align: right;\n",
       "    }\n",
       "</style>\n",
       "<table border=\"1\" class=\"dataframe\">\n",
       "  <thead>\n",
       "    <tr style=\"text-align: right;\">\n",
       "      <th></th>\n",
       "      <th>Date_order</th>\n",
       "      <th>user_id</th>\n",
       "      <th>order_count</th>\n",
       "      <th>price</th>\n",
       "    </tr>\n",
       "    <tr>\n",
       "      <th>user_session</th>\n",
       "      <th></th>\n",
       "      <th></th>\n",
       "      <th></th>\n",
       "      <th></th>\n",
       "    </tr>\n",
       "  </thead>\n",
       "  <tbody>\n",
       "    <tr>\n",
       "      <th>002ccd2c-50f7-4122-963b-fb6a907e414c</th>\n",
       "      <td>2019-10-01 05:49:27</td>\n",
       "      <td>532770412</td>\n",
       "      <td>2</td>\n",
       "      <td>1507.12</td>\n",
       "    </tr>\n",
       "    <tr>\n",
       "      <th>003c3709-b084-464f-9cd7-4baef596a8e6</th>\n",
       "      <td>2019-10-01 14:46:57</td>\n",
       "      <td>514242794</td>\n",
       "      <td>3</td>\n",
       "      <td>107.57</td>\n",
       "    </tr>\n",
       "    <tr>\n",
       "      <th>00582c03-360f-444c-ab30-1cce657e4333</th>\n",
       "      <td>2019-10-01 05:37:46</td>\n",
       "      <td>512850441</td>\n",
       "      <td>2</td>\n",
       "      <td>2363.00</td>\n",
       "    </tr>\n",
       "    <tr>\n",
       "      <th>0059819e-af2c-418d-9207-dc546c2577ce</th>\n",
       "      <td>2019-10-01 14:29:37</td>\n",
       "      <td>538959288</td>\n",
       "      <td>2</td>\n",
       "      <td>1166.56</td>\n",
       "    </tr>\n",
       "    <tr>\n",
       "      <th>006efdc9-a7cf-4d2f-97a4-0ff858b35626</th>\n",
       "      <td>2019-10-01 08:45:03</td>\n",
       "      <td>555551770</td>\n",
       "      <td>2</td>\n",
       "      <td>1049.93</td>\n",
       "    </tr>\n",
       "    <tr>\n",
       "      <th>...</th>\n",
       "      <td>...</td>\n",
       "      <td>...</td>\n",
       "      <td>...</td>\n",
       "      <td>...</td>\n",
       "    </tr>\n",
       "    <tr>\n",
       "      <th>ff0000ac-57ba-4457-ba85-1752f857f8d0</th>\n",
       "      <td>2019-10-01 08:06:50</td>\n",
       "      <td>514638094</td>\n",
       "      <td>2</td>\n",
       "      <td>283.14</td>\n",
       "    </tr>\n",
       "    <tr>\n",
       "      <th>ff20239b-1dbb-4268-b1bc-7b9102f4bbec</th>\n",
       "      <td>2019-10-01 14:18:37</td>\n",
       "      <td>512363973</td>\n",
       "      <td>2</td>\n",
       "      <td>25.68</td>\n",
       "    </tr>\n",
       "    <tr>\n",
       "      <th>ff26e203-3a5e-4236-bb1e-2bed7b1104bf</th>\n",
       "      <td>2019-10-01 14:57:37</td>\n",
       "      <td>555566178</td>\n",
       "      <td>2</td>\n",
       "      <td>133.59</td>\n",
       "    </tr>\n",
       "    <tr>\n",
       "      <th>ff43dd50-9646-45c9-bfc7-60a9137099cc</th>\n",
       "      <td>2019-10-01 12:24:23</td>\n",
       "      <td>552589630</td>\n",
       "      <td>2</td>\n",
       "      <td>272.86</td>\n",
       "    </tr>\n",
       "    <tr>\n",
       "      <th>ff8802e7-0b34-4796-bf69-8f7dd1817e77</th>\n",
       "      <td>2019-10-01 07:06:03</td>\n",
       "      <td>526933626</td>\n",
       "      <td>3</td>\n",
       "      <td>524.25</td>\n",
       "    </tr>\n",
       "  </tbody>\n",
       "</table>\n",
       "<p>1794 rows × 4 columns</p>\n",
       "</div>"
      ],
      "text/plain": [
       "                                              Date_order    user_id  \\\n",
       "user_session                                                          \n",
       "002ccd2c-50f7-4122-963b-fb6a907e414c 2019-10-01 05:49:27  532770412   \n",
       "003c3709-b084-464f-9cd7-4baef596a8e6 2019-10-01 14:46:57  514242794   \n",
       "00582c03-360f-444c-ab30-1cce657e4333 2019-10-01 05:37:46  512850441   \n",
       "0059819e-af2c-418d-9207-dc546c2577ce 2019-10-01 14:29:37  538959288   \n",
       "006efdc9-a7cf-4d2f-97a4-0ff858b35626 2019-10-01 08:45:03  555551770   \n",
       "...                                                  ...        ...   \n",
       "ff0000ac-57ba-4457-ba85-1752f857f8d0 2019-10-01 08:06:50  514638094   \n",
       "ff20239b-1dbb-4268-b1bc-7b9102f4bbec 2019-10-01 14:18:37  512363973   \n",
       "ff26e203-3a5e-4236-bb1e-2bed7b1104bf 2019-10-01 14:57:37  555566178   \n",
       "ff43dd50-9646-45c9-bfc7-60a9137099cc 2019-10-01 12:24:23  552589630   \n",
       "ff8802e7-0b34-4796-bf69-8f7dd1817e77 2019-10-01 07:06:03  526933626   \n",
       "\n",
       "                                      order_count    price  \n",
       "user_session                                                \n",
       "002ccd2c-50f7-4122-963b-fb6a907e414c            2  1507.12  \n",
       "003c3709-b084-464f-9cd7-4baef596a8e6            3   107.57  \n",
       "00582c03-360f-444c-ab30-1cce657e4333            2  2363.00  \n",
       "0059819e-af2c-418d-9207-dc546c2577ce            2  1166.56  \n",
       "006efdc9-a7cf-4d2f-97a4-0ff858b35626            2  1049.93  \n",
       "...                                           ...      ...  \n",
       "ff0000ac-57ba-4457-ba85-1752f857f8d0            2   283.14  \n",
       "ff20239b-1dbb-4268-b1bc-7b9102f4bbec            2    25.68  \n",
       "ff26e203-3a5e-4236-bb1e-2bed7b1104bf            2   133.59  \n",
       "ff43dd50-9646-45c9-bfc7-60a9137099cc            2   272.86  \n",
       "ff8802e7-0b34-4796-bf69-8f7dd1817e77            3   524.25  \n",
       "\n",
       "[1794 rows x 4 columns]"
      ]
     },
     "execution_count": 83,
     "metadata": {},
     "output_type": "execute_result"
    }
   ],
   "source": [
    "result = data.groupby(by='user_session').agg(Date_order=('event_time',lambda x: x.max()), \n",
    "                                    user_id=('user_id',lambda x: x.max()), # make sure the user_id is unique, [532770412, 532770412] ->  532770412\n",
    "                                    order_count=('user_session',lambda x: x.count()), \n",
    "                                    price=('price',lambda x: x.sum()))\n",
    "result[result['order_count'] > 1]"
   ]
  },
  {
   "cell_type": "code",
   "execution_count": 84,
   "metadata": {},
   "outputs": [],
   "source": [
    "data = result"
   ]
  },
  {
   "cell_type": "markdown",
   "id": "835c1b7e",
   "metadata": {
    "papermill": {
     "duration": 0.039469,
     "end_time": "2021-07-11T04:29:47.802655",
     "exception": false,
     "start_time": "2021-07-11T04:29:47.763186",
     "status": "completed"
    },
    "tags": []
   },
   "source": [
    "# **RFM Analysis**"
   ]
  },
  {
   "cell_type": "markdown",
   "id": "1ddee3a9",
   "metadata": {
    "papermill": {
     "duration": 0.037738,
     "end_time": "2021-07-11T04:29:47.880832",
     "exception": false,
     "start_time": "2021-07-11T04:29:47.843094",
     "status": "completed"
    },
    "tags": []
   },
   "source": [
    "RFM is a method used for analyzing customer value. It is commonly used in database marketing and direct marketing and has received particular attention in retail and professional services industries.\n",
    "\n",
    "RFM stands for the three dimensions:\n",
    "\n",
    "* Recency – How recently did the customer purchase?\n",
    "* Frequency – How often do they purchase?\n",
    "* Monetary Value – How much do they spend?\n",
    "\n",
    "source: [wikipedia](https://en.wikipedia.org/wiki/RFM_(market_research))\n",
    "\n",
    "so we will make that 3 attribute Recency, Frequency, and Monetary"
   ]
  },
  {
   "cell_type": "code",
   "execution_count": 85,
   "id": "8d037ffb",
   "metadata": {
    "execution": {
     "iopub.execute_input": "2021-07-11T04:29:47.964374Z",
     "iopub.status.busy": "2021-07-11T04:29:47.963649Z",
     "iopub.status.idle": "2021-07-11T04:29:47.977044Z",
     "shell.execute_reply": "2021-07-11T04:29:47.976284Z",
     "shell.execute_reply.started": "2021-07-11T03:48:46.780797Z"
    },
    "papermill": {
     "duration": 0.057645,
     "end_time": "2021-07-11T04:29:47.977190",
     "exception": false,
     "start_time": "2021-07-11T04:29:47.919545",
     "status": "completed"
    },
    "tags": []
   },
   "outputs": [
    {
     "data": {
      "text/plain": [
       "Timestamp('2019-10-01 16:56:04')"
      ]
     },
     "execution_count": 85,
     "metadata": {},
     "output_type": "execute_result"
    }
   ],
   "source": [
    "data['Date_order'].max()"
   ]
  },
  {
   "cell_type": "markdown",
   "id": "935decc5",
   "metadata": {
    "papermill": {
     "duration": 0.038339,
     "end_time": "2021-07-11T04:29:48.054906",
     "exception": false,
     "start_time": "2021-07-11T04:29:48.016567",
     "status": "completed"
    },
    "tags": []
   },
   "source": [
    "The last date we have is 2019-10-1 so we will use date 2019-12-2 as reference"
   ]
  },
  {
   "cell_type": "code",
   "execution_count": 100,
   "metadata": {},
   "outputs": [
    {
     "data": {
      "text/html": [
       "<div>\n",
       "<style scoped>\n",
       "    .dataframe tbody tr th:only-of-type {\n",
       "        vertical-align: middle;\n",
       "    }\n",
       "\n",
       "    .dataframe tbody tr th {\n",
       "        vertical-align: top;\n",
       "    }\n",
       "\n",
       "    .dataframe thead th {\n",
       "        text-align: right;\n",
       "    }\n",
       "</style>\n",
       "<table border=\"1\" class=\"dataframe\">\n",
       "  <thead>\n",
       "    <tr style=\"text-align: right;\">\n",
       "      <th></th>\n",
       "      <th>Date_order</th>\n",
       "      <th>user_id</th>\n",
       "      <th>order_count</th>\n",
       "      <th>price</th>\n",
       "      <th>last_purchase</th>\n",
       "      <th>last_purchase_days</th>\n",
       "    </tr>\n",
       "    <tr>\n",
       "      <th>user_session</th>\n",
       "      <th></th>\n",
       "      <th></th>\n",
       "      <th></th>\n",
       "      <th></th>\n",
       "      <th></th>\n",
       "      <th></th>\n",
       "    </tr>\n",
       "  </thead>\n",
       "  <tbody>\n",
       "    <tr>\n",
       "      <th>0002c5ea-3509-4d0b-9618-7e40925005f0</th>\n",
       "      <td>2019-10-01 06:10:46</td>\n",
       "      <td>541539898</td>\n",
       "      <td>1</td>\n",
       "      <td>9.76</td>\n",
       "      <td>0 days 17:49:14</td>\n",
       "      <td>0.742523</td>\n",
       "    </tr>\n",
       "    <tr>\n",
       "      <th>000fdfe4-e1f0-4a93-9c22-f04066ad895e</th>\n",
       "      <td>2019-10-01 13:37:06</td>\n",
       "      <td>520206104</td>\n",
       "      <td>1</td>\n",
       "      <td>259.98</td>\n",
       "      <td>0 days 10:22:54</td>\n",
       "      <td>0.432569</td>\n",
       "    </tr>\n",
       "    <tr>\n",
       "      <th>001226df-03c7-41e6-a9c4-7d0233348bd5</th>\n",
       "      <td>2019-10-01 14:13:11</td>\n",
       "      <td>516675926</td>\n",
       "      <td>1</td>\n",
       "      <td>1619.09</td>\n",
       "      <td>0 days 09:46:49</td>\n",
       "      <td>0.407512</td>\n",
       "    </tr>\n",
       "    <tr>\n",
       "      <th>001a0d5b-5b97-4a48-8494-67c1cacc8c97</th>\n",
       "      <td>2019-10-01 08:31:51</td>\n",
       "      <td>541146978</td>\n",
       "      <td>1</td>\n",
       "      <td>383.51</td>\n",
       "      <td>0 days 15:28:09</td>\n",
       "      <td>0.644549</td>\n",
       "    </tr>\n",
       "    <tr>\n",
       "      <th>002ccd2c-50f7-4122-963b-fb6a907e414c</th>\n",
       "      <td>2019-10-01 05:49:27</td>\n",
       "      <td>532770412</td>\n",
       "      <td>2</td>\n",
       "      <td>1507.12</td>\n",
       "      <td>0 days 18:10:33</td>\n",
       "      <td>0.757326</td>\n",
       "    </tr>\n",
       "  </tbody>\n",
       "</table>\n",
       "</div>"
      ],
      "text/plain": [
       "                                              Date_order    user_id  \\\n",
       "user_session                                                          \n",
       "0002c5ea-3509-4d0b-9618-7e40925005f0 2019-10-01 06:10:46  541539898   \n",
       "000fdfe4-e1f0-4a93-9c22-f04066ad895e 2019-10-01 13:37:06  520206104   \n",
       "001226df-03c7-41e6-a9c4-7d0233348bd5 2019-10-01 14:13:11  516675926   \n",
       "001a0d5b-5b97-4a48-8494-67c1cacc8c97 2019-10-01 08:31:51  541146978   \n",
       "002ccd2c-50f7-4122-963b-fb6a907e414c 2019-10-01 05:49:27  532770412   \n",
       "\n",
       "                                      order_count    price   last_purchase  \\\n",
       "user_session                                                                 \n",
       "0002c5ea-3509-4d0b-9618-7e40925005f0            1     9.76 0 days 17:49:14   \n",
       "000fdfe4-e1f0-4a93-9c22-f04066ad895e            1   259.98 0 days 10:22:54   \n",
       "001226df-03c7-41e6-a9c4-7d0233348bd5            1  1619.09 0 days 09:46:49   \n",
       "001a0d5b-5b97-4a48-8494-67c1cacc8c97            1   383.51 0 days 15:28:09   \n",
       "002ccd2c-50f7-4122-963b-fb6a907e414c            2  1507.12 0 days 18:10:33   \n",
       "\n",
       "                                      last_purchase_days  \n",
       "user_session                                              \n",
       "0002c5ea-3509-4d0b-9618-7e40925005f0            0.742523  \n",
       "000fdfe4-e1f0-4a93-9c22-f04066ad895e            0.432569  \n",
       "001226df-03c7-41e6-a9c4-7d0233348bd5            0.407512  \n",
       "001a0d5b-5b97-4a48-8494-67c1cacc8c97            0.644549  \n",
       "002ccd2c-50f7-4122-963b-fb6a907e414c            0.757326  "
      ]
     },
     "execution_count": 100,
     "metadata": {},
     "output_type": "execute_result"
    }
   ],
   "source": [
    "import datetime as dt\n",
    "study_date = dt.datetime(2019,10,2)\n",
    "data=pd.DataFrame(data)\n",
    "data['last_purchase']=study_date - data['Date_order']\n",
    "# data['last_purchase'].astype('timedelta64[D]')\n",
    "data['last_purchase_days'] = data['last_purchase'] / np.timedelta64(1, 'D')  # 將時間差轉換為天數\n",
    "# data['last_purchase_days'] = data['last_purchase_days'].round().astype(int)  # make it int \n",
    "data.head()"
   ]
  },
  {
   "cell_type": "code",
   "execution_count": 111,
   "metadata": {},
   "outputs": [
    {
     "data": {
      "text/html": [
       "<div>\n",
       "<style scoped>\n",
       "    .dataframe tbody tr th:only-of-type {\n",
       "        vertical-align: middle;\n",
       "    }\n",
       "\n",
       "    .dataframe tbody tr th {\n",
       "        vertical-align: top;\n",
       "    }\n",
       "\n",
       "    .dataframe thead th {\n",
       "        text-align: right;\n",
       "    }\n",
       "</style>\n",
       "<table border=\"1\" class=\"dataframe\">\n",
       "  <thead>\n",
       "    <tr style=\"text-align: right;\">\n",
       "      <th></th>\n",
       "      <th>Recency</th>\n",
       "      <th>Frequency</th>\n",
       "      <th>Monetary</th>\n",
       "    </tr>\n",
       "    <tr>\n",
       "      <th>user_id</th>\n",
       "      <th></th>\n",
       "      <th></th>\n",
       "      <th></th>\n",
       "    </tr>\n",
       "  </thead>\n",
       "  <tbody>\n",
       "    <tr>\n",
       "      <th>440756116</th>\n",
       "      <td>0.533310</td>\n",
       "      <td>1</td>\n",
       "      <td>39.64</td>\n",
       "    </tr>\n",
       "    <tr>\n",
       "      <th>451971397</th>\n",
       "      <td>0.599144</td>\n",
       "      <td>1</td>\n",
       "      <td>199.17</td>\n",
       "    </tr>\n",
       "    <tr>\n",
       "      <th>453705583</th>\n",
       "      <td>0.662674</td>\n",
       "      <td>1</td>\n",
       "      <td>141.57</td>\n",
       "    </tr>\n",
       "    <tr>\n",
       "      <th>457360398</th>\n",
       "      <td>0.817442</td>\n",
       "      <td>1</td>\n",
       "      <td>51.46</td>\n",
       "    </tr>\n",
       "    <tr>\n",
       "      <th>469200473</th>\n",
       "      <td>0.633206</td>\n",
       "      <td>1</td>\n",
       "      <td>615.56</td>\n",
       "    </tr>\n",
       "  </tbody>\n",
       "</table>\n",
       "</div>"
      ],
      "text/plain": [
       "            Recency  Frequency  Monetary\n",
       "user_id                                 \n",
       "440756116  0.533310          1     39.64\n",
       "451971397  0.599144          1    199.17\n",
       "453705583  0.662674          1    141.57\n",
       "457360398  0.817442          1     51.46\n",
       "469200473  0.633206          1    615.56"
      ]
     },
     "execution_count": 111,
     "metadata": {},
     "output_type": "execute_result"
    }
   ],
   "source": [
    "RFM = data.groupby('user_id').agg(Recency=('last_purchase_days',lambda x: x.min()), # 不用 min 結果不變，只是擔心會有 list 如果直接使用 x    \n",
    "                            Frequency=('user_id',lambda x: x.count()), # 不用 count 結果不變，只是擔心會有 list 如果直接使用 x \n",
    "                            Monetary=('price',lambda x: x.sum()))\n",
    "RFM.head()"
   ]
  },
  {
   "cell_type": "markdown",
   "id": "0ec8673d",
   "metadata": {
    "papermill": {
     "duration": 0.038751,
     "end_time": "2021-07-11T04:31:35.187650",
     "exception": false,
     "start_time": "2021-07-11T04:31:35.148899",
     "status": "completed"
    },
    "tags": []
   },
   "source": [
    "# **Frequency**"
   ]
  },
  {
   "cell_type": "markdown",
   "id": "3173a6ad",
   "metadata": {
    "papermill": {
     "duration": 0.039002,
     "end_time": "2021-07-11T04:31:35.265745",
     "exception": false,
     "start_time": "2021-07-11T04:31:35.226743",
     "status": "completed"
    },
    "tags": []
   },
   "source": [
    "Frequency attribute answers the question: How often do they purchase?"
   ]
  },
  {
   "cell_type": "code",
   "execution_count": 112,
   "id": "74832eb4",
   "metadata": {
    "execution": {
     "iopub.execute_input": "2021-07-11T04:31:35.347748Z",
     "iopub.status.busy": "2021-07-11T04:31:35.347103Z",
     "iopub.status.idle": "2021-07-11T04:31:35.378189Z",
     "shell.execute_reply": "2021-07-11T04:31:35.377543Z",
     "shell.execute_reply.started": "2021-07-11T03:53:19.100963Z"
    },
    "papermill": {
     "duration": 0.073723,
     "end_time": "2021-07-11T04:31:35.378385",
     "exception": false,
     "start_time": "2021-07-11T04:31:35.304662",
     "status": "completed"
    },
    "tags": []
   },
   "outputs": [
    {
     "data": {
      "text/plain": [
       "count    12452.000000\n",
       "mean         1.149695\n",
       "std          0.507669\n",
       "min          1.000000\n",
       "25%          1.000000\n",
       "50%          1.000000\n",
       "75%          1.000000\n",
       "max          9.000000\n",
       "Name: Frequency, dtype: float64"
      ]
     },
     "execution_count": 112,
     "metadata": {},
     "output_type": "execute_result"
    }
   ],
   "source": [
    "RFM['Frequency'].describe()"
   ]
  },
  {
   "cell_type": "markdown",
   "id": "e3ca447c",
   "metadata": {
    "papermill": {
     "duration": 0.039525,
     "end_time": "2021-07-11T04:31:35.459141",
     "exception": false,
     "start_time": "2021-07-11T04:31:35.419616",
     "status": "completed"
    },
    "tags": []
   },
   "source": [
    "# **Monetary**"
   ]
  },
  {
   "cell_type": "markdown",
   "id": "f8b3b1da",
   "metadata": {
    "papermill": {
     "duration": 0.039239,
     "end_time": "2021-07-11T04:31:35.537789",
     "exception": false,
     "start_time": "2021-07-11T04:31:35.498550",
     "status": "completed"
    },
    "tags": []
   },
   "source": [
    "Monetary attribute answers the question: How much do they spend overtime?\n"
   ]
  },
  {
   "cell_type": "code",
   "execution_count": 113,
   "id": "1c56df65",
   "metadata": {
    "execution": {
     "iopub.execute_input": "2021-07-11T04:31:35.622609Z",
     "iopub.status.busy": "2021-07-11T04:31:35.621577Z",
     "iopub.status.idle": "2021-07-11T04:31:35.654777Z",
     "shell.execute_reply": "2021-07-11T04:31:35.654172Z",
     "shell.execute_reply.started": "2021-07-11T03:56:23.492201Z"
    },
    "papermill": {
     "duration": 0.077546,
     "end_time": "2021-07-11T04:31:35.654908",
     "exception": false,
     "start_time": "2021-07-11T04:31:35.577362",
     "status": "completed"
    },
    "tags": []
   },
   "outputs": [
    {
     "data": {
      "text/plain": [
       "count    12452.000000\n",
       "mean         0.590278\n",
       "std          0.161458\n",
       "min          0.294398\n",
       "25%          0.457899\n",
       "50%          0.598385\n",
       "75%          0.721241\n",
       "max          0.995810\n",
       "Name: Recency, dtype: float64"
      ]
     },
     "execution_count": 113,
     "metadata": {},
     "output_type": "execute_result"
    }
   ],
   "source": [
    "RFM['Recency'].describe()"
   ]
  },
  {
   "cell_type": "markdown",
   "id": "85c33029",
   "metadata": {
    "papermill": {
     "duration": 0.039781,
     "end_time": "2021-07-11T04:31:35.734766",
     "exception": false,
     "start_time": "2021-07-11T04:31:35.694985",
     "status": "completed"
    },
    "tags": []
   },
   "source": [
    "# **RFM Segmentation**"
   ]
  },
  {
   "cell_type": "markdown",
   "id": "435e65a2",
   "metadata": {
    "papermill": {
     "duration": 0.039924,
     "end_time": "2021-07-11T04:31:35.814696",
     "exception": false,
     "start_time": "2021-07-11T04:31:35.774772",
     "status": "completed"
    },
    "tags": []
   },
   "source": [
    "RFM segmentation is a useful tool for identifying groups of clients who should be given extra attention. RFM segmentation enables marketers to target specific groups of customers with communications that are far more relevant to their unique behaviors, resulting in improved response rates, enhanced loyalty, and increased customer lifetime value. RFM segmentation is a method for segmenting data, just like other approaches. \n",
    "\n",
    "The simplest way to create customers segments from RFM Model is to use Quartiles. We assign a score from 1 to 4 to Recency, Frequency and Monetary. Four is the best/highest value, and one is the lowest/worst value. A final RFM score is calculated simply by combining individual RFM score numbers."
   ]
  },
  {
   "cell_type": "markdown",
   "id": "7e684188",
   "metadata": {
    "papermill": {
     "duration": 0.039677,
     "end_time": "2021-07-11T04:31:35.895577",
     "exception": false,
     "start_time": "2021-07-11T04:31:35.855900",
     "status": "completed"
    },
    "tags": []
   },
   "source": [
    "**RFM Quartiles**"
   ]
  },
  {
   "cell_type": "code",
   "execution_count": 22,
   "id": "70fb2072",
   "metadata": {
    "execution": {
     "iopub.execute_input": "2021-07-11T04:31:35.983184Z",
     "iopub.status.busy": "2021-07-11T04:31:35.981043Z",
     "iopub.status.idle": "2021-07-11T04:31:36.046922Z",
     "shell.execute_reply": "2021-07-11T04:31:36.046262Z",
     "shell.execute_reply.started": "2021-07-11T03:19:58.683095Z"
    },
    "papermill": {
     "duration": 0.11154,
     "end_time": "2021-07-11T04:31:36.047087",
     "exception": false,
     "start_time": "2021-07-11T04:31:35.935547",
     "status": "completed"
    },
    "tags": []
   },
   "outputs": [
    {
     "data": {
      "text/html": [
       "<div>\n",
       "<style scoped>\n",
       "    .dataframe tbody tr th:only-of-type {\n",
       "        vertical-align: middle;\n",
       "    }\n",
       "\n",
       "    .dataframe tbody tr th {\n",
       "        vertical-align: top;\n",
       "    }\n",
       "\n",
       "    .dataframe thead th {\n",
       "        text-align: right;\n",
       "    }\n",
       "</style>\n",
       "<table border=\"1\" class=\"dataframe\">\n",
       "  <thead>\n",
       "    <tr style=\"text-align: right;\">\n",
       "      <th></th>\n",
       "      <th>Recency</th>\n",
       "      <th>Frequency</th>\n",
       "      <th>Monetary</th>\n",
       "    </tr>\n",
       "  </thead>\n",
       "  <tbody>\n",
       "    <tr>\n",
       "      <th>0.25</th>\n",
       "      <td>12.871965</td>\n",
       "      <td>1.0</td>\n",
       "      <td>118.38</td>\n",
       "    </tr>\n",
       "    <tr>\n",
       "      <th>0.50</th>\n",
       "      <td>20.587141</td>\n",
       "      <td>1.0</td>\n",
       "      <td>257.15</td>\n",
       "    </tr>\n",
       "    <tr>\n",
       "      <th>0.75</th>\n",
       "      <td>39.693811</td>\n",
       "      <td>2.0</td>\n",
       "      <td>669.23</td>\n",
       "    </tr>\n",
       "  </tbody>\n",
       "</table>\n",
       "</div>"
      ],
      "text/plain": [
       "        Recency  Frequency  Monetary\n",
       "0.25  12.871965        1.0    118.38\n",
       "0.50  20.587141        1.0    257.15\n",
       "0.75  39.693811        2.0    669.23"
      ]
     },
     "execution_count": 22,
     "metadata": {},
     "output_type": "execute_result"
    }
   ],
   "source": [
    "RFM.quantile(q=[0.25,0.5,0.75])"
   ]
  },
  {
   "cell_type": "code",
   "execution_count": 23,
   "id": "0af6ea21",
   "metadata": {
    "execution": {
     "iopub.execute_input": "2021-07-11T04:31:36.137412Z",
     "iopub.status.busy": "2021-07-11T04:31:36.135380Z",
     "iopub.status.idle": "2021-07-11T04:31:36.196466Z",
     "shell.execute_reply": "2021-07-11T04:31:36.195808Z",
     "shell.execute_reply.started": "2021-07-11T03:20:01.283250Z"
    },
    "papermill": {
     "duration": 0.108533,
     "end_time": "2021-07-11T04:31:36.196605",
     "exception": false,
     "start_time": "2021-07-11T04:31:36.088072",
     "status": "completed"
    },
    "tags": []
   },
   "outputs": [
    {
     "data": {
      "text/plain": [
       "{'Recency': {0.25: 12.871964699074075,\n",
       "  0.5: 20.587141203703705,\n",
       "  0.75: 39.69381076388889},\n",
       " 'Frequency': {0.25: 1.0, 0.5: 1.0, 0.75: 2.0},\n",
       " 'Monetary': {0.25: 118.38, 0.5: 257.15, 0.75: 669.23}}"
      ]
     },
     "execution_count": 23,
     "metadata": {},
     "output_type": "execute_result"
    }
   ],
   "source": [
    "quartiles=RFM.quantile(q=[0.25,0.5,0.75]).to_dict()\n",
    "quartiles"
   ]
  },
  {
   "cell_type": "markdown",
   "id": "e7b44ef0",
   "metadata": {
    "papermill": {
     "duration": 0.040493,
     "end_time": "2021-07-11T04:31:36.278064",
     "exception": false,
     "start_time": "2021-07-11T04:31:36.237571",
     "status": "completed"
    },
    "tags": []
   },
   "source": [
    "# **Creation of RFM Segments**"
   ]
  },
  {
   "cell_type": "code",
   "execution_count": 24,
   "id": "e490f769",
   "metadata": {
    "execution": {
     "iopub.execute_input": "2021-07-11T04:31:36.367257Z",
     "iopub.status.busy": "2021-07-11T04:31:36.366231Z",
     "iopub.status.idle": "2021-07-11T04:31:36.369800Z",
     "shell.execute_reply": "2021-07-11T04:31:36.369176Z",
     "shell.execute_reply.started": "2021-07-11T03:20:04.853331Z"
    },
    "papermill": {
     "duration": 0.051429,
     "end_time": "2021-07-11T04:31:36.369938",
     "exception": false,
     "start_time": "2021-07-11T04:31:36.318509",
     "status": "completed"
    },
    "tags": []
   },
   "outputs": [],
   "source": [
    "## for Recency \n",
    "\n",
    "def R(x,p,d):\n",
    "    if x <= d[p][0.25]:\n",
    "        return 1\n",
    "    elif x <= d[p][0.50]:\n",
    "        return 2\n",
    "    elif x <= d[p][0.75]: \n",
    "        return 3\n",
    "    else:\n",
    "        return 4\n",
    "    \n",
    "## for Frequency and Monetary \n",
    "\n",
    "def FM(x,p,d):\n",
    "    if x <= d[p][0.25]:\n",
    "        return 4\n",
    "    elif x <= d[p][0.50]:\n",
    "        return 3\n",
    "    elif x <= d[p][0.75]: \n",
    "        return 2\n",
    "    else:\n",
    "        return 1    \n",
    "    "
   ]
  },
  {
   "cell_type": "code",
   "execution_count": 25,
   "id": "0a7ac7c6",
   "metadata": {
    "execution": {
     "iopub.execute_input": "2021-07-11T04:31:36.478636Z",
     "iopub.status.busy": "2021-07-11T04:31:36.477575Z",
     "iopub.status.idle": "2021-07-11T04:31:41.209561Z",
     "shell.execute_reply": "2021-07-11T04:31:41.210061Z",
     "shell.execute_reply.started": "2021-07-11T03:22:14.712803Z"
    },
    "papermill": {
     "duration": 4.792156,
     "end_time": "2021-07-11T04:31:41.210240",
     "exception": false,
     "start_time": "2021-07-11T04:31:36.418084",
     "status": "completed"
    },
    "tags": []
   },
   "outputs": [
    {
     "data": {
      "text/html": [
       "<div>\n",
       "<style scoped>\n",
       "    .dataframe tbody tr th:only-of-type {\n",
       "        vertical-align: middle;\n",
       "    }\n",
       "\n",
       "    .dataframe tbody tr th {\n",
       "        vertical-align: top;\n",
       "    }\n",
       "\n",
       "    .dataframe thead th {\n",
       "        text-align: right;\n",
       "    }\n",
       "</style>\n",
       "<table border=\"1\" class=\"dataframe\">\n",
       "  <thead>\n",
       "    <tr style=\"text-align: right;\">\n",
       "      <th></th>\n",
       "      <th>Recency</th>\n",
       "      <th>Frequency</th>\n",
       "      <th>Monetary</th>\n",
       "      <th>R_Quartile</th>\n",
       "      <th>F_Quartile</th>\n",
       "      <th>M_Quartile</th>\n",
       "      <th>RFM_segmentation</th>\n",
       "      <th>RFM_score</th>\n",
       "    </tr>\n",
       "    <tr>\n",
       "      <th>user_id</th>\n",
       "      <th></th>\n",
       "      <th></th>\n",
       "      <th></th>\n",
       "      <th></th>\n",
       "      <th></th>\n",
       "      <th></th>\n",
       "      <th></th>\n",
       "      <th></th>\n",
       "    </tr>\n",
       "  </thead>\n",
       "  <tbody>\n",
       "    <tr>\n",
       "      <th>138340325</th>\n",
       "      <td>19.758866</td>\n",
       "      <td>1</td>\n",
       "      <td>93.50</td>\n",
       "      <td>2</td>\n",
       "      <td>4</td>\n",
       "      <td>4</td>\n",
       "      <td>244</td>\n",
       "      <td>10</td>\n",
       "    </tr>\n",
       "    <tr>\n",
       "      <th>225644257</th>\n",
       "      <td>18.819780</td>\n",
       "      <td>1</td>\n",
       "      <td>40.91</td>\n",
       "      <td>2</td>\n",
       "      <td>4</td>\n",
       "      <td>4</td>\n",
       "      <td>244</td>\n",
       "      <td>10</td>\n",
       "    </tr>\n",
       "    <tr>\n",
       "      <th>253299396</th>\n",
       "      <td>24.546169</td>\n",
       "      <td>1</td>\n",
       "      <td>246.85</td>\n",
       "      <td>3</td>\n",
       "      <td>4</td>\n",
       "      <td>3</td>\n",
       "      <td>343</td>\n",
       "      <td>10</td>\n",
       "    </tr>\n",
       "    <tr>\n",
       "      <th>256164170</th>\n",
       "      <td>10.651921</td>\n",
       "      <td>1</td>\n",
       "      <td>113.23</td>\n",
       "      <td>1</td>\n",
       "      <td>4</td>\n",
       "      <td>4</td>\n",
       "      <td>144</td>\n",
       "      <td>9</td>\n",
       "    </tr>\n",
       "    <tr>\n",
       "      <th>264649825</th>\n",
       "      <td>55.141539</td>\n",
       "      <td>2</td>\n",
       "      <td>1240.04</td>\n",
       "      <td>4</td>\n",
       "      <td>2</td>\n",
       "      <td>1</td>\n",
       "      <td>421</td>\n",
       "      <td>7</td>\n",
       "    </tr>\n",
       "  </tbody>\n",
       "</table>\n",
       "</div>"
      ],
      "text/plain": [
       "             Recency  Frequency  Monetary  R_Quartile  F_Quartile  M_Quartile  \\\n",
       "user_id                                                                         \n",
       "138340325  19.758866          1     93.50           2           4           4   \n",
       "225644257  18.819780          1     40.91           2           4           4   \n",
       "253299396  24.546169          1    246.85           3           4           3   \n",
       "256164170  10.651921          1    113.23           1           4           4   \n",
       "264649825  55.141539          2   1240.04           4           2           1   \n",
       "\n",
       "          RFM_segmentation  RFM_score  \n",
       "user_id                                \n",
       "138340325              244         10  \n",
       "225644257              244         10  \n",
       "253299396              343         10  \n",
       "256164170              144          9  \n",
       "264649825              421          7  "
      ]
     },
     "execution_count": 25,
     "metadata": {},
     "output_type": "execute_result"
    }
   ],
   "source": [
    "#create RFM segmentation column\n",
    "RFM['R_Quartile'] = RFM['Recency'].apply(R, args=('Recency',quartiles,))\n",
    "RFM['F_Quartile'] = RFM['Frequency'].apply(FM, args=('Frequency',quartiles,))\n",
    "RFM['M_Quartile'] = RFM['Monetary'].apply(FM, args=('Monetary',quartiles,))\n",
    "RFM['RFM_segmentation'] = RFM.R_Quartile.map(str) \\\n",
    "                    + RFM.F_Quartile.map(str) \\\n",
    "                    + RFM.M_Quartile.map(str)\n",
    "RFM['RFM_score'] = RFM.R_Quartile.map(int) \\\n",
    "                    + RFM.F_Quartile.map(int) \\\n",
    "                    + RFM.M_Quartile.map(int)\n",
    "RFM.head()\n"
   ]
  },
  {
   "cell_type": "code",
   "execution_count": 26,
   "id": "484d3cad",
   "metadata": {
    "execution": {
     "iopub.execute_input": "2021-07-11T04:31:41.302021Z",
     "iopub.status.busy": "2021-07-11T04:31:41.301290Z",
     "iopub.status.idle": "2021-07-11T04:31:59.594745Z",
     "shell.execute_reply": "2021-07-11T04:31:59.595280Z",
     "shell.execute_reply.started": "2021-07-11T03:20:26.523114Z"
    },
    "papermill": {
     "duration": 18.343666,
     "end_time": "2021-07-11T04:31:59.595455",
     "exception": false,
     "start_time": "2021-07-11T04:31:41.251789",
     "status": "completed"
    },
    "tags": []
   },
   "outputs": [
    {
     "data": {
      "text/html": [
       "<div>\n",
       "<style scoped>\n",
       "    .dataframe tbody tr th:only-of-type {\n",
       "        vertical-align: middle;\n",
       "    }\n",
       "\n",
       "    .dataframe tbody tr th {\n",
       "        vertical-align: top;\n",
       "    }\n",
       "\n",
       "    .dataframe thead th {\n",
       "        text-align: right;\n",
       "    }\n",
       "</style>\n",
       "<table border=\"1\" class=\"dataframe\">\n",
       "  <thead>\n",
       "    <tr style=\"text-align: right;\">\n",
       "      <th></th>\n",
       "      <th>Recency</th>\n",
       "      <th>Frequency</th>\n",
       "      <th>Monetary</th>\n",
       "      <th>R_Quartile</th>\n",
       "      <th>F_Quartile</th>\n",
       "      <th>M_Quartile</th>\n",
       "      <th>RFM_segmentation</th>\n",
       "      <th>RFM_score</th>\n",
       "      <th>RFM_label</th>\n",
       "    </tr>\n",
       "    <tr>\n",
       "      <th>user_id</th>\n",
       "      <th></th>\n",
       "      <th></th>\n",
       "      <th></th>\n",
       "      <th></th>\n",
       "      <th></th>\n",
       "      <th></th>\n",
       "      <th></th>\n",
       "      <th></th>\n",
       "      <th></th>\n",
       "    </tr>\n",
       "  </thead>\n",
       "  <tbody>\n",
       "    <tr>\n",
       "      <th>138340325</th>\n",
       "      <td>19.758866</td>\n",
       "      <td>1</td>\n",
       "      <td>93.50</td>\n",
       "      <td>2</td>\n",
       "      <td>4</td>\n",
       "      <td>4</td>\n",
       "      <td>244</td>\n",
       "      <td>10</td>\n",
       "      <td>Lost</td>\n",
       "    </tr>\n",
       "    <tr>\n",
       "      <th>225644257</th>\n",
       "      <td>18.819780</td>\n",
       "      <td>1</td>\n",
       "      <td>40.91</td>\n",
       "      <td>2</td>\n",
       "      <td>4</td>\n",
       "      <td>4</td>\n",
       "      <td>244</td>\n",
       "      <td>10</td>\n",
       "      <td>Lost</td>\n",
       "    </tr>\n",
       "    <tr>\n",
       "      <th>253299396</th>\n",
       "      <td>24.546169</td>\n",
       "      <td>1</td>\n",
       "      <td>246.85</td>\n",
       "      <td>3</td>\n",
       "      <td>4</td>\n",
       "      <td>3</td>\n",
       "      <td>343</td>\n",
       "      <td>10</td>\n",
       "      <td>Lost</td>\n",
       "    </tr>\n",
       "    <tr>\n",
       "      <th>256164170</th>\n",
       "      <td>10.651921</td>\n",
       "      <td>1</td>\n",
       "      <td>113.23</td>\n",
       "      <td>1</td>\n",
       "      <td>4</td>\n",
       "      <td>4</td>\n",
       "      <td>144</td>\n",
       "      <td>9</td>\n",
       "      <td>Hibernating</td>\n",
       "    </tr>\n",
       "    <tr>\n",
       "      <th>264649825</th>\n",
       "      <td>55.141539</td>\n",
       "      <td>2</td>\n",
       "      <td>1240.04</td>\n",
       "      <td>4</td>\n",
       "      <td>2</td>\n",
       "      <td>1</td>\n",
       "      <td>421</td>\n",
       "      <td>7</td>\n",
       "      <td>About To Sleep</td>\n",
       "    </tr>\n",
       "  </tbody>\n",
       "</table>\n",
       "</div>"
      ],
      "text/plain": [
       "             Recency  Frequency  Monetary  R_Quartile  F_Quartile  M_Quartile  \\\n",
       "user_id                                                                         \n",
       "138340325  19.758866          1     93.50           2           4           4   \n",
       "225644257  18.819780          1     40.91           2           4           4   \n",
       "253299396  24.546169          1    246.85           3           4           3   \n",
       "256164170  10.651921          1    113.23           1           4           4   \n",
       "264649825  55.141539          2   1240.04           4           2           1   \n",
       "\n",
       "          RFM_segmentation  RFM_score       RFM_label  \n",
       "user_id                                                \n",
       "138340325              244         10            Lost  \n",
       "225644257              244         10            Lost  \n",
       "253299396              343         10            Lost  \n",
       "256164170              144          9     Hibernating  \n",
       "264649825              421          7  About To Sleep  "
      ]
     },
     "execution_count": 26,
     "metadata": {},
     "output_type": "execute_result"
    }
   ],
   "source": [
    "# Define rfm_level function\n",
    "def RFM_label(data):\n",
    "    if data['RFM_score'] >= 10:\n",
    "        return 'Lost'\n",
    "    elif ((data['RFM_score'] >= 9) and (data['RFM_score'] < 10)):\n",
    "        return 'Hibernating'\n",
    "    elif ((data['RFM_score'] >= 8) and (data['RFM_score'] < 9)):\n",
    "        return 'Can’t Lose Them'\n",
    "    elif ((data['RFM_score'] >= 7) and (data['RFM_score'] < 8)):\n",
    "        return 'About To Sleep'\n",
    "    elif ((data['RFM_score'] >= 6) and (data['RFM_score'] < 7)):\n",
    "        return 'Promising'\n",
    "    elif ((data['RFM_score'] >= 5) and (data['RFM_score'] < 6)):\n",
    "        return 'Potential Loyalist'\n",
    "    elif ((data['RFM_score'] >= 4) and (data['RFM_score'] < 5)):\n",
    "        return 'Loyal Customers'\n",
    "    else:\n",
    "        return 'Champions'\n",
    "#Create RFM label for customer\n",
    "RFM['RFM_label'] = RFM.apply(RFM_label, axis=1)\n",
    "RFM.head()"
   ]
  },
  {
   "cell_type": "markdown",
   "id": "049d30e6",
   "metadata": {
    "papermill": {
     "duration": 0.042136,
     "end_time": "2021-07-11T04:31:59.679514",
     "exception": false,
     "start_time": "2021-07-11T04:31:59.637378",
     "status": "completed"
    },
    "tags": []
   },
   "source": [
    "How many customers do we have in each segment?\n"
   ]
  },
  {
   "cell_type": "code",
   "execution_count": 27,
   "id": "2b1b0882",
   "metadata": {
    "execution": {
     "iopub.execute_input": "2021-07-11T04:31:59.769662Z",
     "iopub.status.busy": "2021-07-11T04:31:59.768952Z",
     "iopub.status.idle": "2021-07-11T04:31:59.901332Z",
     "shell.execute_reply": "2021-07-11T04:31:59.901846Z",
     "shell.execute_reply.started": "2021-07-11T03:20:55.504149Z"
    },
    "papermill": {
     "duration": 0.180446,
     "end_time": "2021-07-11T04:31:59.902038",
     "exception": false,
     "start_time": "2021-07-11T04:31:59.721592",
     "status": "completed"
    },
    "tags": []
   },
   "outputs": [
    {
     "name": "stdout",
     "output_type": "stream",
     "text": [
      "                   Recency Frequency Monetary        \n",
      "                      mean      mean     mean   count\n",
      "RFM_label                                            \n",
      "About To Sleep        20.5       1.7    628.8   71309\n",
      "Can’t Lose Them       19.9       1.3    406.9   90809\n",
      "Champions              5.1       7.9   3777.5   37405\n",
      "Hibernating           22.5       1.1    309.2  114053\n",
      "Lost                  38.6       1.0    141.1  231538\n",
      "Loyal Customers       10.4       4.3   1897.9   40675\n",
      "Potential Loyalist    16.8       3.5   1468.7   52728\n",
      "Promising             21.1       2.5   1009.3   58953\n"
     ]
    }
   ],
   "source": [
    "# Calculate average values for each RFM_Level, and return a size of each segment \n",
    "RFM_desc = RFM.groupby('RFM_label').agg({\n",
    "    'Recency': 'mean',\n",
    "    'Frequency': 'mean',\n",
    "    'Monetary': ['mean', 'count']\n",
    "}).round(1)\n",
    "# Print the aggregated dataset\n",
    "print(RFM_desc)"
   ]
  },
  {
   "cell_type": "code",
   "execution_count": 28,
   "id": "c34fd069",
   "metadata": {
    "execution": {
     "iopub.execute_input": "2021-07-11T04:31:59.991263Z",
     "iopub.status.busy": "2021-07-11T04:31:59.990546Z",
     "iopub.status.idle": "2021-07-11T04:32:00.181519Z",
     "shell.execute_reply": "2021-07-11T04:32:00.182050Z",
     "shell.execute_reply.started": "2021-07-11T03:21:03.082813Z"
    },
    "papermill": {
     "duration": 0.236821,
     "end_time": "2021-07-11T04:32:00.182244",
     "exception": false,
     "start_time": "2021-07-11T04:31:59.945423",
     "status": "completed"
    },
    "tags": []
   },
   "outputs": [
    {
     "data": {
      "image/png": "[encoded data removed]",
      "text/plain": [
       "<Figure size 1152x648 with 1 Axes>"
      ]
     },
     "metadata": {
      "needs_background": "light"
     },
     "output_type": "display_data"
    }
   ],
   "source": [
    "RFM_desc.columns = RFM_desc.columns.droplevel()\n",
    "RFM_desc.columns = ['RecencyMean','FrequencyMean','MonetaryMean', 'Count']\n",
    "#Create our plot and resize it.\n",
    "fig = plt.gcf()\n",
    "ax = fig.add_subplot()\n",
    "fig.set_size_inches(16, 9)\n",
    "squarify.plot(sizes=RFM_desc['Count'], \n",
    "              label=['Lost',\n",
    "                     'Hibernating',\n",
    "                     'Can’t Lose Them',\n",
    "                     'About To Sleep',\n",
    "                     'Promising', \n",
    "                     'Potential Loyalist', \n",
    "                     'Loyal Customers',\n",
    "                     'Champions'], alpha=.6 )\n",
    "plt.title(\"RFM Segments\",fontsize=18,fontweight=\"bold\")\n",
    "plt.axis('off')\n",
    "plt.show()"
   ]
  },
  {
   "cell_type": "markdown",
   "id": "6c6a1786",
   "metadata": {
    "papermill": {
     "duration": 0.043652,
     "end_time": "2021-07-11T04:32:00.269138",
     "exception": false,
     "start_time": "2021-07-11T04:32:00.225486",
     "status": "completed"
    },
    "tags": []
   },
   "source": [
    "Now that we've identified our customer categories, we can decide how to approach or deal with each customer.\n",
    "\n",
    "* Champions : Reward them. Can be early adopters of new products. Will promote your brand. Most likely to send referrals.\n",
    "* Loyal Customer : Upsell higher value products. Ask for reviews.\n",
    "* Potential Loyalist : Offer membership / loyalty program. Keep them engaged. Offer personalised recommendations.\n",
    "* Promising : Offer coupons. Bring them back to the platform and keep them engaged. Offer personalised recommendations.\n",
    "* About to Sleep : Win them back via renewals or newer products, don’t lose them to competition. Talk to them if necessary. Spend time on highest possible personalisation.\n",
    "* Can't Lose Them : Provide helpful resources on the site. Send personalised emails.\n",
    "* Hibernating : Make subject lines of emails very personalised. Revive their interest by a specific discount on a specific product.\n",
    "* Lost : Revive interest with reach out campaign. Ignore otherwise.\n",
    "\n",
    "reference : [here](https://docs.exponea.com/docs/rfm-segmentation)"
   ]
  }
 ],
 "metadata": {
  "kernelspec": {
   "display_name": "Python 3",
   "language": "python",
   "name": "python3"
  },
  "language_info": {
   "codemirror_mode": {
    "name": "ipython",
    "version": 3
   },
   "file_extension": ".py",
   "mimetype": "text/x-python",
   "name": "python",
   "nbconvert_exporter": "python",
   "pygments_lexer": "ipython3",
   "version": "3.12.0"
  },
  "papermill": {
   "default_parameters": {},
   "duration": 917.19396,
   "end_time": "2021-07-11T04:32:03.838099",
   "environment_variables": {},
   "exception": null,
   "input_path": "__notebook__.ipynb",
   "output_path": "__notebook__.ipynb",
   "parameters": {},
   "start_time": "2021-07-11T04:16:46.644139",
   "version": "2.3.3"
  }
 },
 "nbformat": 4,
 "nbformat_minor": 5
}
