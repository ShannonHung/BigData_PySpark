{
 "cells": [
  {
   "cell_type": "markdown",
   "metadata": {},
   "source": [
    "# Exercise 1"
   ]
  },
  {
   "cell_type": "markdown",
   "metadata": {},
   "source": [
    "1. An optical measurement method captures the surface of objects as a  set of 3D location vectors (x, y, z)T stores them in table S(id, dim,  val). Due to interference, not all location vectors are fully detected  during the measurement. \n",
    "2. The values of the dimensions x, y, z are recorded separately for each \n",
    "vector id, see example on the right."
   ]
  },
  {
   "cell_type": "code",
   "execution_count": 1,
   "metadata": {},
   "outputs": [
    {
     "name": "stderr",
     "output_type": "stream",
     "text": [
      "23/11/15 08:16:30 WARN Utils: Your hostname, hung.local resolves to a loopback address: 127.0.0.1; using 10.172.68.141 instead (on interface en0)\n",
      "23/11/15 08:16:30 WARN Utils: Set SPARK_LOCAL_IP if you need to bind to another address\n",
      "Setting default log level to \"WARN\".\n",
      "To adjust logging level use sc.setLogLevel(newLevel). For SparkR, use setLogLevel(newLevel).\n",
      "23/11/15 08:16:31 WARN NativeCodeLoader: Unable to load native-hadoop library for your platform... using builtin-java classes where applicable\n"
     ]
    },
    {
     "name": "stdout",
     "output_type": "stream",
     "text": [
      "[(1, 'x', 2), (2, 'z', 4), (1, 'y', 3), (3, 'y', 2), (4, 'y', 4), (3, 'z', 4), (4, 'z', 2), (2, 'x', 2), (2, 'y', 4), (5, 'y', 3), (3, 'x', 4), (4, 'x', 4)]\n"
     ]
    }
   ],
   "source": [
    "import findspark\n",
    "findspark.init()\n",
    "\n",
    "from pyspark import SparkContext\n",
    "\n",
    "# 創建SparkContext\n",
    "sc = SparkContext(appName=\"SparkIsSoGreat\")\n",
    "\n",
    "# 資料表格: column1 = id, column2 = dim, column3 = value\n",
    "data = [\n",
    "    (1, 'x', 2),\n",
    "    (2, 'z', 4),\n",
    "    (1, 'y', 3),\n",
    "    (3, 'y', 2), \n",
    "    (4, 'y', 4),\n",
    "    (3, 'z', 4),\n",
    "    (4, 'z', 2),\n",
    "    (2, 'x', 2),\n",
    "    (2, 'y', 4),\n",
    "    (5, 'y', 3),\n",
    "    (3, 'x', 4),\n",
    "    (4, 'x', 4)\n",
    "]\n",
    "\n",
    "# 將資料轉換成RDD\n",
    "rdd = sc.parallelize(data)\n",
    "\n",
    "# 輸出RDD\n",
    "print(rdd.collect())\n"
   ]
  },
  {
   "cell_type": "code",
   "execution_count": 31,
   "metadata": {},
   "outputs": [
    {
     "name": "stdout",
     "output_type": "stream",
     "text": [
      "[2, 3, 4]\n"
     ]
    },
    {
     "data": {
      "text/plain": [
       "[(2, 'z', 4),\n",
       " (3, 'y', 2),\n",
       " (4, 'y', 4),\n",
       " (3, 'z', 4),\n",
       " (4, 'z', 2),\n",
       " (2, 'x', 2),\n",
       " (2, 'y', 4),\n",
       " (3, 'x', 4),\n",
       " (4, 'x', 4)]"
      ]
     },
     "execution_count": 31,
     "metadata": {},
     "output_type": "execute_result"
    }
   ],
   "source": [
    "# 精簡寫法 \n",
    "fully_captured_ids = (\n",
    "    rdd.map(lambda x: (x[0], x[1])) # (id, dim)\n",
    "    .distinct() # 去除重複的資料\n",
    "    .groupByKey() # 以id為key, dim為value group起來\n",
    "    .filter(lambda x: len(x[1]) == 3) # 只留下dim包含x,y,z有3個的id \n",
    "    .map(lambda x: x[0]) # 只留下id \n",
    ")\n",
    "# filtered_rdd = rdd.filter(lambda x: x[0] in fully_captured_ids.collect())\n",
    "print(fully_captured_ids.collect())\n",
    "\n",
    "def filter_function(x):\n",
    "    '''\n",
    "    x: (id, dim, value) for each row in the data\n",
    "    we keep rows that have the same id and contain 'x', 'y', 'z' in the dim column\n",
    "    '''\n",
    "    # iterate through data, find out all the values of the same id\n",
    "    id = x[0]\n",
    "    dimensions = set([i[1] for i in data if i[0] == id])\n",
    "    return len(dimensions) == 3\n",
    "\n",
    "\n",
    "filtered_rdd = rdd.filter(filter_function)\n",
    "filtered_rdd.collect()"
   ]
  },
  {
   "cell_type": "code",
   "execution_count": 63,
   "metadata": {},
   "outputs": [
    {
     "name": "stdout",
     "output_type": "stream",
     "text": [
      "[(2, 6.0), (3, 6.0), (4, 6.0)]\n"
     ]
    },
    {
     "name": "stderr",
     "output_type": "stream",
     "text": [
      "vectors=[(3, 'y', 2), (3, 'z', 4), (3, 'x', 4)], val=4\n",
      "vectors=[(4, 'y', 4), (4, 'z', 2), (4, 'x', 4)], val=4\n",
      "vectors=[(2, 'z', 4), (2, 'x', 2), (2, 'y', 4)], val=2\n"
     ]
    }
   ],
   "source": [
    "# 將資料按照id分組\n",
    "grouped_rdd = filtered_rdd.groupBy(lambda x: x[0])\n",
    "\n",
    "# 定義計算向量長度的函數\n",
    "def calculate_length(vectors):\n",
    "    test = ((id, dim, val) for id, dim, val in vectors if dim == 'x')\n",
    "    x_val = next((val for _, dim, val in vectors if dim == 'x'), None) # use next() to take the first value of list if it exists\n",
    "    y_val = next((val for _, dim, val in vectors if dim == 'y'), None)\n",
    "    z_val = next((val for _, dim, val in vectors if dim == 'z'), None) \n",
    "    print(f'vectors={vectors}, val={list(test)[0][2]}')\n",
    "\n",
    "    if x_val is not None and y_val is not None and z_val is not None:\n",
    "        return (x_val ** 2 + y_val ** 2 + z_val ** 2) ** 0.5\n",
    "    else:\n",
    "        return None\n",
    "\n",
    "# 使用map和自訂函數計算向量長度\n",
    "length_rdd = grouped_rdd.map(lambda x: (x[0], calculate_length(list(x[1]))))\n",
    "\n",
    "# 篩選出完全捕獲的向量\n",
    "filtered_length_rdd = length_rdd.filter(lambda x: x[1] is not None)\n",
    "\n",
    "# 生成最終的表格T(id, length)\n",
    "output_table = filtered_length_rdd.map(lambda x: (x[0], x[1]))\n",
    "\n",
    "# 顯示結果表格\n",
    "print(output_table.collect())\n"
   ]
  },
  {
   "cell_type": "code",
   "execution_count": null,
   "metadata": {},
   "outputs": [],
   "source": []
  }
 ],
 "metadata": {
  "kernelspec": {
   "display_name": "Python 3",
   "language": "python",
   "name": "python3"
  },
  "language_info": {
   "codemirror_mode": {
    "name": "ipython",
    "version": 3
   },
   "file_extension": ".py",
   "mimetype": "text/x-python",
   "name": "python",
   "nbconvert_exporter": "python",
   "pygments_lexer": "ipython3",
   "version": "3.11.4"
  }
 },
 "nbformat": 4,
 "nbformat_minor": 2
}
